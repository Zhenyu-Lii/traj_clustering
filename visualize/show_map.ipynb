{
 "cells": [
  {
   "cell_type": "code",
   "execution_count": 17,
   "outputs": [],
   "source": [
    "import transbigdata as tbd\n",
    "import pandas as pd\n",
    "import numpy as np\n",
    "import geopandas as gpd\n",
    "from transbigdata.grids import (\n",
    "    area_to_params,\n",
    "    GPS_to_grid,\n",
    "    grid_to_polygon,\n",
    "    grid_to_centre,\n",
    ")\n",
    "from transbigdata.odprocess import (\n",
    "    odagg_grid\n",
    ")"
   ],
   "metadata": {
    "collapsed": false,
    "pycharm": {
     "name": "#%%\n"
    }
   }
  },
  {
   "cell_type": "code",
   "execution_count": 11,
   "outputs": [],
   "source": [
    "import os\n",
    "import pandas as pd\n",
    "\n",
    "file_path = os.path.abspath('..') + '/preprocess/'"
   ],
   "metadata": {
    "collapsed": false,
    "pycharm": {
     "name": "#%%\n"
    }
   }
  },
  {
   "cell_type": "code",
   "execution_count": 12,
   "outputs": [
    {
     "data": {
      "text/plain": "'/home/lizhenyu/Project/E2DTC/preprocess/'"
     },
     "execution_count": 12,
     "metadata": {},
     "output_type": "execute_result"
    }
   ],
   "source": [
    "file_path"
   ],
   "metadata": {
    "collapsed": false,
    "pycharm": {
     "name": "#%%\n"
    }
   }
  },
  {
   "cell_type": "code",
   "execution_count": 18,
   "outputs": [],
   "source": [
    "def visualization_data(data, col=['lon', 'lat'], accuracy=500, height=500,\n",
    "                       maptype='point', zoom='auto'):\n",
    "    '''\n",
    "    The input is the data points, this function will aggregate and then\n",
    "    visualize it\n",
    "\n",
    "    Parameters\n",
    "    -------\n",
    "    data : DataFrame\n",
    "        The data point\n",
    "    col : List\n",
    "        The column name. The user can choose a non-weight Origin-Destination\n",
    "        (OD) data, in the sequence of [longitude, latitude]. For this, The\n",
    "        aggregation is automatic. Or, the user can also input a weighted OD\n",
    "        data, in the sequence of [longitude, latitude, count]\n",
    "    zoom : number\n",
    "        Map zoom level (Optional). Default value: auto\n",
    "    height : number\n",
    "        The height of the map frame\n",
    "    accuracy : number\n",
    "        Grid size\n",
    "    maptype : str\n",
    "        Map type, ‘point’ or ‘heatmap’\n",
    "\n",
    "    Returns\n",
    "    -------\n",
    "    vmap : keplergl.keplergl.KeplerGl\n",
    "        Visualizations provided by keplergl\n",
    "    '''\n",
    "    try:\n",
    "        from keplergl import KeplerGl\n",
    "    except ImportError: # pragma: no cover\n",
    "        raise ImportError( # pragma: no cover\n",
    "            \"Please install keplergl, run \"\n",
    "            \"the following code in cmd: pip install keplergl\")\n",
    "\n",
    "    if len(col) == 2:\n",
    "        lon, lat = col[0], col[1]\n",
    "        count = 'count'\n",
    "\n",
    "        data[lon] = data[lon].astype('float')\n",
    "        data[lat] = data[lat].astype('float')\n",
    "        #clean data\n",
    "        data = data[-((data[lon].isnull())|(data[lat].isnull()))]\n",
    "        data = data[(data[lon]>=-180)&(data[lon]<=180)&(data[lat]>=-90)&(data[lat]<=90)]\n",
    "\n",
    "        bounds = [data[lon].min(), data[lat].min(),\n",
    "                  data[lon].max(), data[lat].max()]\n",
    "        lon_center, lat_center = data[lon].mean(), data[lat].mean()\n",
    "        if zoom == 'auto':\n",
    "            lon_min, lon_max = data[lon].quantile(\n",
    "                0.05), data[lon].quantile(0.95)\n",
    "            zoom = 8.5-np.log(lon_max-lon_min)/np.log(2)\n",
    "        params = area_to_params(bounds, accuracy=accuracy)\n",
    "        data['LONCOL'], data['LATCOL'] = GPS_to_grid(\n",
    "            data[lon], data[lat], params)\n",
    "        data[count] = 1\n",
    "        data = data.groupby(['LONCOL', 'LATCOL'])[\n",
    "            'count'].sum().reset_index().reset_index()\n",
    "        data['geometry'] = grid_to_polygon(\n",
    "            [data['LONCOL'], data['LATCOL']], params)\n",
    "        data[lon], data[lat] = grid_to_centre(\n",
    "            [data['LONCOL'], data['LATCOL']], params)\n",
    "        data = gpd.GeoDataFrame(data)\n",
    "        data\n",
    "    if len(col) == 3:\n",
    "        lon, lat, count = col\n",
    "\n",
    "        data[lon] = data[lon].astype('float')\n",
    "        data[lat] = data[lat].astype('float')\n",
    "        #clean data\n",
    "        data = data[-((data[lon].isnull())|(data[lat].isnull()))]\n",
    "        data = data[(data[lon]>=-180)&(data[lon]<=180)&(data[lat]>=-90)&(data[lat]<=90)]\n",
    "\n",
    "        bounds = [data[lon].min(), data[lat].min(),\n",
    "                  data[lon].max(), data[lat].max()]\n",
    "        lon_center, lat_center = data[lon].mean(), data[lat].mean()\n",
    "        if zoom == 'auto':\n",
    "            lon_min, lon_max = data[lon].quantile(\n",
    "                0.05), data[lon].quantile(0.95)\n",
    "            zoom = 8.5-np.log(lon_max-lon_min)/np.log(2)\n",
    "        params = area_to_params(bounds, accuracy=accuracy)\n",
    "        data['LONCOL'], data['LATCOL'] = GPS_to_grid(\n",
    "            data[lon], data[lat], params)\n",
    "        data = data.groupby(['LONCOL', 'LATCOL'])[count].sum().reset_index()\n",
    "        data['geometry'] = grid_to_polygon(\n",
    "            [data['LONCOL'], data['LATCOL']], params)\n",
    "        data[lon], data[lat] = grid_to_centre(\n",
    "            [data['LONCOL'], data['LATCOL']], params)\n",
    "\n",
    "        data = gpd.GeoDataFrame(data)\n",
    "\n",
    "    if maptype == 'heatmap':\n",
    "        vmap = KeplerGl(config={ # pragma: no cover\n",
    "            'version': 'v1',\n",
    "            'config': {\n",
    "                'visState': {\n",
    "                    'filters': [],\n",
    "                    'layers': [\n",
    "                        {'id': 'vpefba0o',\n",
    "                         'type': 'heatmap',\n",
    "                         'config': {\n",
    "                             'dataId': 'data',\n",
    "                             'label': 'Point',\n",
    "                             'color': [18, 147, 154],\n",
    "                             'highlightColor': [252, 242, 26, 255],\n",
    "                             'columns': {'lat': lat, 'lng': lon},\n",
    "                             'isVisible': True,\n",
    "                             'visConfig': {\n",
    "                                 'opacity': 0.8,\n",
    "                                 'colorRange': {\n",
    "                                     'name': 'Global Warming',\n",
    "                                     'type': 'sequential',\n",
    "                                     'category': 'Uber',\n",
    "                                     'colors': ['#5A1846',\n",
    "                                                '#900C3F',\n",
    "                                                '#C70039',\n",
    "                                                '#E3611C',\n",
    "                                                '#F1920E',\n",
    "                                                '#FFC300']},\n",
    "                                 'radius': 23},\n",
    "                             'hidden': False,\n",
    "                             'textLabel': [{'field': None,\n",
    "                                            'color': [255, 255, 255],\n",
    "                                            'size': 18,\n",
    "                                            'offset': [0, 0],\n",
    "                                            'anchor': 'start',\n",
    "                                            'alignment': 'center'}]},\n",
    "                         'visualChannels': {\n",
    "                             'weightField': {'name': count, 'type': 'integer'},\n",
    "                             'weightScale': 'linear'}}],\n",
    "                    'interactionConfig': {\n",
    "                        'tooltip': {\n",
    "                            'fieldsToShow': {\n",
    "                                'data': [{\n",
    "                                    'name': count,\n",
    "                                    'format': None}]},\n",
    "                            'compareMode': False,\n",
    "                            'compareType': 'absolute',\n",
    "                            'enabled': True},\n",
    "                        'brush': {'size': 0.5, 'enabled': False},\n",
    "                        'geocoder': {'enabled': False},\n",
    "                        'coordinate': {'enabled': False}},\n",
    "                    'layerBlending': 'normal',\n",
    "                    'splitMaps': [],\n",
    "                    'animationConfig': {'currentTime': None, 'speed': 1}},\n",
    "                'mapState':\n",
    "                {\n",
    "                    'bearing': 0,\n",
    "                    'dragRotate': True,\n",
    "                    'latitude': lat_center,\n",
    "                    'longitude': lon_center,\n",
    "                    'pitch': 0,\n",
    "                    'zoom': zoom,\n",
    "                    'isSplit': False\n",
    "                },\n",
    "                'mapStyle':\n",
    "                {\n",
    "                    'styleType': 'dark',\n",
    "                    'topLayerGroups':\n",
    "                    {},\n",
    "                    'visibleLayerGroups':\n",
    "                    {\n",
    "                        'label': True,\n",
    "                        'road': True,\n",
    "                        'border': False,\n",
    "                        'building': True,\n",
    "                        'water': True,\n",
    "                        'land': True,\n",
    "                        '3d building': False\n",
    "                    },\n",
    "                    'threeDBuildingColor': [9.665468314072013,\n",
    "                                            17.18305478057247,\n",
    "                                            31.1442867897876\n",
    "                                            ],\n",
    "                    'mapStyles':\n",
    "                    {}\n",
    "                }}}, data={'data': data.to_json()}, height=height)\n",
    "    else:\n",
    "        vmap = KeplerGl(config={\n",
    "            'version': 'v1',\n",
    "            'config': {\n",
    "                'visState': {\n",
    "                    'filters': [],\n",
    "                    'layers': [{\n",
    "                        'id': 'ytak0zp',\n",
    "                        'type': 'geojson',\n",
    "                        'config': {\n",
    "                            'dataId': count,\n",
    "                            'label': count,\n",
    "                            'color': [77, 193, 156],\n",
    "                            'highlightColor': [252, 242, 26, 255],\n",
    "                            'columns': {'geojson': '_geojson'},\n",
    "                            'isVisible': True,\n",
    "                            'visConfig': {\n",
    "                                'opacity': 0.8,\n",
    "                                'strokeOpacity': 0.8,\n",
    "                                'thickness': 0.5,\n",
    "                                'strokeColor': [218, 112, 191],\n",
    "                                'colorRange': {\n",
    "                                    'name': 'Global Warming',\n",
    "                                    'type': 'sequential',\n",
    "                                    'category': 'Uber',\n",
    "                                    'colors': ['#5A1846',\n",
    "                                               '#900C3F',\n",
    "                                               '#C70039',\n",
    "                                               '#E3611C',\n",
    "                                               '#F1920E',\n",
    "                                               '#FFC300']},\n",
    "                                'strokeColorRange': {'name': 'Global Warming',\n",
    "                                                     'type': 'sequential',\n",
    "                                                     'category': 'Uber',\n",
    "                                                     'colors': ['#5A1846',\n",
    "                                                                '#900C3F',\n",
    "                                                                '#C70039',\n",
    "                                                                '#E3611C',\n",
    "                                                                '#F1920E',\n",
    "                                                                '#FFC300']},\n",
    "                                'radius': 10,\n",
    "                                'sizeRange': [0, 10],\n",
    "                                'radiusRange': [0, 50],\n",
    "                                'heightRange': [0, 500],\n",
    "                                'elevationScale': 5,\n",
    "                                'enableElevationZoomFactor': True,\n",
    "                                'stroked': False,\n",
    "                                'filled': True,\n",
    "                                'enable3d': False,\n",
    "                                'wireframe': False},\n",
    "                            'hidden': False,\n",
    "                            'textLabel': [{'field': None,\n",
    "                                           'color': [255, 255, 255],\n",
    "                                           'size': 18,\n",
    "                                           'offset': [0, 0],\n",
    "                                           'anchor': 'start',\n",
    "                                           'alignment': 'center'}]},\n",
    "                        'visualChannels': {\n",
    "                            'colorField': {'name': count, 'type': 'integer'},\n",
    "                            'colorScale': 'quantile',\n",
    "                            'strokeColorField': None,\n",
    "                            'strokeColorScale': 'quantile',\n",
    "                            'sizeField': None,\n",
    "                            'sizeScale': 'linear',\n",
    "                            'heightField': None,\n",
    "                            'heightScale': 'linear',\n",
    "                            'radiusField': None,\n",
    "                            'radiusScale': 'linear'}}],\n",
    "                    'layerBlending': 'normal',\n",
    "                    'splitMaps': [],\n",
    "                    'animationConfig': {'currentTime': None, 'speed': 1}},\n",
    "                'mapState': {'bearing': 0,\n",
    "                             'dragRotate': False,\n",
    "                             'latitude': data[lat].mean(),\n",
    "                             'longitude': data[lon].mean(),\n",
    "                             'pitch': 0,\n",
    "                             'zoom': 10,\n",
    "                             'isSplit': False}}},\n",
    "            data={count: data.to_json()}, height=height)\n",
    "\n",
    "    return vmap"
   ],
   "metadata": {
    "collapsed": false,
    "pycharm": {
     "name": "#%%\n"
    }
   }
  },
  {
   "cell_type": "markdown",
   "source": [],
   "metadata": {
    "collapsed": false
   }
  },
  {
   "cell_type": "markdown",
   "source": [],
   "metadata": {
    "collapsed": false
   }
  },
  {
   "cell_type": "code",
   "execution_count": 13,
   "outputs": [
    {
     "name": "stdout",
     "output_type": "stream",
     "text": [
      "0     542\n",
      "3     350\n",
      "5     221\n",
      "1     136\n",
      "8     127\n",
      "10     92\n",
      "2      76\n",
      "11     45\n",
      "9      43\n",
      "6      43\n",
      "4      31\n",
      "7      25\n",
      "Name: label, dtype: int64\n"
     ]
    }
   ],
   "source": [
    "all_traj = pd.read_hdf(file_path+'all_traj_labeled_σ:0.8_λ:0.7.h5')\n",
    "print(all_traj['label'].value_counts())"
   ],
   "metadata": {
    "collapsed": false,
    "pycharm": {
     "name": "#%%\n"
    }
   }
  },
  {
   "cell_type": "code",
   "execution_count": 8,
   "outputs": [
    {
     "data": {
      "text/plain": "                                             trajectory  user_index  year  \\\n0     22042 [PAD] [PAD] [PAD] [PAD] [PAD] [PAD] [PAD...           0  2009   \n1     [PAD] [PAD] [PAD] [PAD] [PAD] [PAD] [PAD] [PAD...           0  2009   \n2     15374 15429 15665 15466 15874 15502 15653 1554...           0  2009   \n3     [PAD] [PAD] [PAD] [PAD] [PAD] [PAD] [PAD] [PAD...           0  2009   \n4     [PAD] [PAD] [PAD] [PAD] [PAD] [PAD] [PAD] [PAD...           0  2009   \n...                                                 ...         ...   ...   \n1721  18621 18546 18840 19032 18995 18353 18747 [PAD...         167  2008   \n1723  [PAD] [PAD] [PAD] [PAD] [PAD] [PAD] [PAD] [PAD...         179  2008   \n1725  17656 18029 17780 17517 17659 17657 17719 1761...         179  2008   \n1726  [PAD] [PAD] [PAD] [PAD] [PAD] [PAD] [PAD] [PAD...         179  2008   \n1730  [PAD] [PAD] [PAD] [PAD] [PAD] [PAD] [PAD] [PAD...         179  2008   \n\n      month  day  label  \n0         3   31      0  \n1         4    3      0  \n2         4    4      0  \n3         4    5      0  \n4         4    6      0  \n...     ...  ...    ...  \n1721     12   27      0  \n1723      8   24      0  \n1725      9   12      0  \n1726      9   13      0  \n1730     11    1      0  \n\n[542 rows x 6 columns]",
      "text/html": "<div>\n<style scoped>\n    .dataframe tbody tr th:only-of-type {\n        vertical-align: middle;\n    }\n\n    .dataframe tbody tr th {\n        vertical-align: top;\n    }\n\n    .dataframe thead th {\n        text-align: right;\n    }\n</style>\n<table border=\"1\" class=\"dataframe\">\n  <thead>\n    <tr style=\"text-align: right;\">\n      <th></th>\n      <th>trajectory</th>\n      <th>user_index</th>\n      <th>year</th>\n      <th>month</th>\n      <th>day</th>\n      <th>label</th>\n    </tr>\n  </thead>\n  <tbody>\n    <tr>\n      <th>0</th>\n      <td>22042 [PAD] [PAD] [PAD] [PAD] [PAD] [PAD] [PAD...</td>\n      <td>0</td>\n      <td>2009</td>\n      <td>3</td>\n      <td>31</td>\n      <td>0</td>\n    </tr>\n    <tr>\n      <th>1</th>\n      <td>[PAD] [PAD] [PAD] [PAD] [PAD] [PAD] [PAD] [PAD...</td>\n      <td>0</td>\n      <td>2009</td>\n      <td>4</td>\n      <td>3</td>\n      <td>0</td>\n    </tr>\n    <tr>\n      <th>2</th>\n      <td>15374 15429 15665 15466 15874 15502 15653 1554...</td>\n      <td>0</td>\n      <td>2009</td>\n      <td>4</td>\n      <td>4</td>\n      <td>0</td>\n    </tr>\n    <tr>\n      <th>3</th>\n      <td>[PAD] [PAD] [PAD] [PAD] [PAD] [PAD] [PAD] [PAD...</td>\n      <td>0</td>\n      <td>2009</td>\n      <td>4</td>\n      <td>5</td>\n      <td>0</td>\n    </tr>\n    <tr>\n      <th>4</th>\n      <td>[PAD] [PAD] [PAD] [PAD] [PAD] [PAD] [PAD] [PAD...</td>\n      <td>0</td>\n      <td>2009</td>\n      <td>4</td>\n      <td>6</td>\n      <td>0</td>\n    </tr>\n    <tr>\n      <th>...</th>\n      <td>...</td>\n      <td>...</td>\n      <td>...</td>\n      <td>...</td>\n      <td>...</td>\n      <td>...</td>\n    </tr>\n    <tr>\n      <th>1721</th>\n      <td>18621 18546 18840 19032 18995 18353 18747 [PAD...</td>\n      <td>167</td>\n      <td>2008</td>\n      <td>12</td>\n      <td>27</td>\n      <td>0</td>\n    </tr>\n    <tr>\n      <th>1723</th>\n      <td>[PAD] [PAD] [PAD] [PAD] [PAD] [PAD] [PAD] [PAD...</td>\n      <td>179</td>\n      <td>2008</td>\n      <td>8</td>\n      <td>24</td>\n      <td>0</td>\n    </tr>\n    <tr>\n      <th>1725</th>\n      <td>17656 18029 17780 17517 17659 17657 17719 1761...</td>\n      <td>179</td>\n      <td>2008</td>\n      <td>9</td>\n      <td>12</td>\n      <td>0</td>\n    </tr>\n    <tr>\n      <th>1726</th>\n      <td>[PAD] [PAD] [PAD] [PAD] [PAD] [PAD] [PAD] [PAD...</td>\n      <td>179</td>\n      <td>2008</td>\n      <td>9</td>\n      <td>13</td>\n      <td>0</td>\n    </tr>\n    <tr>\n      <th>1730</th>\n      <td>[PAD] [PAD] [PAD] [PAD] [PAD] [PAD] [PAD] [PAD...</td>\n      <td>179</td>\n      <td>2008</td>\n      <td>11</td>\n      <td>1</td>\n      <td>0</td>\n    </tr>\n  </tbody>\n</table>\n<p>542 rows × 6 columns</p>\n</div>"
     },
     "execution_count": 8,
     "metadata": {},
     "output_type": "execute_result"
    }
   ],
   "source": [
    "traj_0 = all_traj[all_traj['label'] == 0]\n",
    "traj_0"
   ],
   "metadata": {
    "collapsed": false,
    "pycharm": {
     "name": "#%%\n"
    }
   }
  },
  {
   "cell_type": "code",
   "execution_count": 19,
   "outputs": [],
   "source": [
    "?data.to_json"
   ],
   "metadata": {
    "collapsed": false,
    "pycharm": {
     "name": "#%%\n"
    }
   }
  },
  {
   "cell_type": "code",
   "execution_count": 7,
   "outputs": [
    {
     "data": {
      "text/plain": "                   time        lat         lon         alt  label  user\n0   2000-01-01 23:12:19  39.988992  116.327023  128.937005      0   163\n1   2000-01-01 23:13:21  39.990964  116.327041  221.128615      0   163\n2   2000-01-01 23:15:23  39.993207  116.326827  217.191591      0   163\n0   2007-04-12 09:31:32  39.974233  116.330383  823.490814      0   142\n1   2007-04-12 09:39:37  39.974317  116.330450  823.490814      0   142\n..                  ...        ...         ...         ...    ...   ...\n291 2012-07-27 08:31:03  39.979481  116.303499  131.760207      0   163\n292 2012-07-27 08:31:05  39.979475  116.303497  131.097241      0   163\n293 2012-07-27 08:31:10  39.979374  116.303522  126.235679      0   163\n294 2012-07-27 08:31:15  39.979190  116.303587  119.301427      0   163\n295 2012-07-27 08:31:20  39.979081  116.303572  112.078146      0   163\n\n[24876978 rows x 6 columns]",
      "text/html": "<div>\n<style scoped>\n    .dataframe tbody tr th:only-of-type {\n        vertical-align: middle;\n    }\n\n    .dataframe tbody tr th {\n        vertical-align: top;\n    }\n\n    .dataframe thead th {\n        text-align: right;\n    }\n</style>\n<table border=\"1\" class=\"dataframe\">\n  <thead>\n    <tr style=\"text-align: right;\">\n      <th></th>\n      <th>time</th>\n      <th>lat</th>\n      <th>lon</th>\n      <th>alt</th>\n      <th>label</th>\n      <th>user</th>\n    </tr>\n  </thead>\n  <tbody>\n    <tr>\n      <th>0</th>\n      <td>2000-01-01 23:12:19</td>\n      <td>39.988992</td>\n      <td>116.327023</td>\n      <td>128.937005</td>\n      <td>0</td>\n      <td>163</td>\n    </tr>\n    <tr>\n      <th>1</th>\n      <td>2000-01-01 23:13:21</td>\n      <td>39.990964</td>\n      <td>116.327041</td>\n      <td>221.128615</td>\n      <td>0</td>\n      <td>163</td>\n    </tr>\n    <tr>\n      <th>2</th>\n      <td>2000-01-01 23:15:23</td>\n      <td>39.993207</td>\n      <td>116.326827</td>\n      <td>217.191591</td>\n      <td>0</td>\n      <td>163</td>\n    </tr>\n    <tr>\n      <th>0</th>\n      <td>2007-04-12 09:31:32</td>\n      <td>39.974233</td>\n      <td>116.330383</td>\n      <td>823.490814</td>\n      <td>0</td>\n      <td>142</td>\n    </tr>\n    <tr>\n      <th>1</th>\n      <td>2007-04-12 09:39:37</td>\n      <td>39.974317</td>\n      <td>116.330450</td>\n      <td>823.490814</td>\n      <td>0</td>\n      <td>142</td>\n    </tr>\n    <tr>\n      <th>...</th>\n      <td>...</td>\n      <td>...</td>\n      <td>...</td>\n      <td>...</td>\n      <td>...</td>\n      <td>...</td>\n    </tr>\n    <tr>\n      <th>291</th>\n      <td>2012-07-27 08:31:03</td>\n      <td>39.979481</td>\n      <td>116.303499</td>\n      <td>131.760207</td>\n      <td>0</td>\n      <td>163</td>\n    </tr>\n    <tr>\n      <th>292</th>\n      <td>2012-07-27 08:31:05</td>\n      <td>39.979475</td>\n      <td>116.303497</td>\n      <td>131.097241</td>\n      <td>0</td>\n      <td>163</td>\n    </tr>\n    <tr>\n      <th>293</th>\n      <td>2012-07-27 08:31:10</td>\n      <td>39.979374</td>\n      <td>116.303522</td>\n      <td>126.235679</td>\n      <td>0</td>\n      <td>163</td>\n    </tr>\n    <tr>\n      <th>294</th>\n      <td>2012-07-27 08:31:15</td>\n      <td>39.979190</td>\n      <td>116.303587</td>\n      <td>119.301427</td>\n      <td>0</td>\n      <td>163</td>\n    </tr>\n    <tr>\n      <th>295</th>\n      <td>2012-07-27 08:31:20</td>\n      <td>39.979081</td>\n      <td>116.303572</td>\n      <td>112.078146</td>\n      <td>0</td>\n      <td>163</td>\n    </tr>\n  </tbody>\n</table>\n<p>24876978 rows × 6 columns</p>\n</div>"
     },
     "execution_count": 7,
     "metadata": {},
     "output_type": "execute_result"
    }
   ],
   "source": [
    "df_all = pd.read_hdf('./preprocess/Geolife_all_user.h5',key='data')\n"
   ],
   "metadata": {
    "collapsed": false,
    "pycharm": {
     "name": "#%%\n"
    }
   }
  },
  {
   "cell_type": "code",
   "execution_count": 10,
   "outputs": [
    {
     "data": {
      "text/plain": "                    time        lat         lon    alt  label  user\n0    2008-10-23 02:53:04  39.984702  116.318417  492.0      0     0\n1    2008-10-23 02:53:10  39.984683  116.318450  492.0      0     0\n2    2008-10-23 02:53:15  39.984686  116.318417  492.0      0     0\n3    2008-10-23 02:53:20  39.984688  116.318385  492.0      0     0\n4    2008-10-23 02:53:25  39.984655  116.318263  492.0      0     0\n...                  ...        ...         ...    ...    ...   ...\n2307 2009-07-05 07:44:55  40.000403  116.327255  149.0      0     0\n2308 2009-07-05 07:45:00  40.000433  116.327209  150.0      0     0\n2309 2009-07-05 07:45:05  40.000443  116.327186  150.0      0     0\n2310 2009-07-05 07:45:10  40.000522  116.327132  149.0      0     0\n2311 2009-07-05 07:45:15  40.000543  116.327148  150.0      0     0\n\n[173870 rows x 6 columns]",
      "text/html": "<div>\n<style scoped>\n    .dataframe tbody tr th:only-of-type {\n        vertical-align: middle;\n    }\n\n    .dataframe tbody tr th {\n        vertical-align: top;\n    }\n\n    .dataframe thead th {\n        text-align: right;\n    }\n</style>\n<table border=\"1\" class=\"dataframe\">\n  <thead>\n    <tr style=\"text-align: right;\">\n      <th></th>\n      <th>time</th>\n      <th>lat</th>\n      <th>lon</th>\n      <th>alt</th>\n      <th>label</th>\n      <th>user</th>\n    </tr>\n  </thead>\n  <tbody>\n    <tr>\n      <th>0</th>\n      <td>2008-10-23 02:53:04</td>\n      <td>39.984702</td>\n      <td>116.318417</td>\n      <td>492.0</td>\n      <td>0</td>\n      <td>0</td>\n    </tr>\n    <tr>\n      <th>1</th>\n      <td>2008-10-23 02:53:10</td>\n      <td>39.984683</td>\n      <td>116.318450</td>\n      <td>492.0</td>\n      <td>0</td>\n      <td>0</td>\n    </tr>\n    <tr>\n      <th>2</th>\n      <td>2008-10-23 02:53:15</td>\n      <td>39.984686</td>\n      <td>116.318417</td>\n      <td>492.0</td>\n      <td>0</td>\n      <td>0</td>\n    </tr>\n    <tr>\n      <th>3</th>\n      <td>2008-10-23 02:53:20</td>\n      <td>39.984688</td>\n      <td>116.318385</td>\n      <td>492.0</td>\n      <td>0</td>\n      <td>0</td>\n    </tr>\n    <tr>\n      <th>4</th>\n      <td>2008-10-23 02:53:25</td>\n      <td>39.984655</td>\n      <td>116.318263</td>\n      <td>492.0</td>\n      <td>0</td>\n      <td>0</td>\n    </tr>\n    <tr>\n      <th>...</th>\n      <td>...</td>\n      <td>...</td>\n      <td>...</td>\n      <td>...</td>\n      <td>...</td>\n      <td>...</td>\n    </tr>\n    <tr>\n      <th>2307</th>\n      <td>2009-07-05 07:44:55</td>\n      <td>40.000403</td>\n      <td>116.327255</td>\n      <td>149.0</td>\n      <td>0</td>\n      <td>0</td>\n    </tr>\n    <tr>\n      <th>2308</th>\n      <td>2009-07-05 07:45:00</td>\n      <td>40.000433</td>\n      <td>116.327209</td>\n      <td>150.0</td>\n      <td>0</td>\n      <td>0</td>\n    </tr>\n    <tr>\n      <th>2309</th>\n      <td>2009-07-05 07:45:05</td>\n      <td>40.000443</td>\n      <td>116.327186</td>\n      <td>150.0</td>\n      <td>0</td>\n      <td>0</td>\n    </tr>\n    <tr>\n      <th>2310</th>\n      <td>2009-07-05 07:45:10</td>\n      <td>40.000522</td>\n      <td>116.327132</td>\n      <td>149.0</td>\n      <td>0</td>\n      <td>0</td>\n    </tr>\n    <tr>\n      <th>2311</th>\n      <td>2009-07-05 07:45:15</td>\n      <td>40.000543</td>\n      <td>116.327148</td>\n      <td>150.0</td>\n      <td>0</td>\n      <td>0</td>\n    </tr>\n  </tbody>\n</table>\n<p>173870 rows × 6 columns</p>\n</div>"
     },
     "execution_count": 10,
     "metadata": {},
     "output_type": "execute_result"
    }
   ],
   "source": [
    "data = df_all[df_all['user']==0]\n",
    "data"
   ],
   "metadata": {
    "collapsed": false,
    "pycharm": {
     "name": "#%%\n"
    }
   }
  },
  {
   "cell_type": "code",
   "execution_count": 13,
   "outputs": [
    {
     "name": "stdout",
     "output_type": "stream",
     "text": [
      "Amount of data\n",
      "-----------------\n",
      "Total number of data items:  24876978\n",
      "Total number of individuals:  182\n",
      "Data volume of individuals(Mean):  136686.6923\n",
      "Data volume of individuals(Upper quartile):  143041.5\n",
      "Data volume of individuals(Median):  35181.5\n",
      "Data volume of individuals(Lower quartile):  3359.0\n",
      "\n",
      "Data time period\n",
      "-----------------\n",
      "Start time:  2000-01-01 23:12:19\n",
      "End time:  2012-07-27 08:31:20\n",
      "\n",
      "Sampling interval\n",
      "-----------------\n",
      "Mean:  118.8427 s\n",
      "Upper quartile:  5.0 s\n",
      "Median:  2.0 s\n",
      "Lower quartile:  1.0 s\n"
     ]
    }
   ],
   "source": [
    "tbd.data_summary(df_all, col=['user','time'], show_sample_duration=True)"
   ],
   "metadata": {
    "collapsed": false,
    "pycharm": {
     "name": "#%%\n"
    }
   }
  },
  {
   "cell_type": "code",
   "execution_count": 14,
   "outputs": [],
   "source": [
    "?tbd.taxigps_to_od"
   ],
   "metadata": {
    "collapsed": false,
    "pycharm": {
     "name": "#%%\n"
    }
   }
  },
  {
   "cell_type": "code",
   "execution_count": 16,
   "outputs": [
    {
     "ename": "ValueError",
     "evalue": "not enough values to unpack (expected 5, got 4)",
     "output_type": "error",
     "traceback": [
      "\u001B[0;31m---------------------------------------------------------------------------\u001B[0m",
      "\u001B[0;31mValueError\u001B[0m                                Traceback (most recent call last)",
      "Input \u001B[0;32mIn [16]\u001B[0m, in \u001B[0;36m<cell line: 1>\u001B[0;34m()\u001B[0m\n\u001B[0;32m----> 1\u001B[0m oddata \u001B[38;5;241m=\u001B[39m \u001B[43mtbd\u001B[49m\u001B[38;5;241;43m.\u001B[39;49m\u001B[43mtaxigps_to_od\u001B[49m\u001B[43m(\u001B[49m\u001B[43mdf_all\u001B[49m\u001B[43m,\u001B[49m\u001B[43m \u001B[49m\u001B[43mcol\u001B[49m\u001B[38;5;241;43m=\u001B[39;49m\u001B[43m[\u001B[49m\u001B[38;5;124;43m'\u001B[39;49m\u001B[38;5;124;43muser\u001B[39;49m\u001B[38;5;124;43m'\u001B[39;49m\u001B[43m,\u001B[49m\u001B[38;5;124;43m'\u001B[39;49m\u001B[38;5;124;43mtime\u001B[39;49m\u001B[38;5;124;43m'\u001B[39;49m\u001B[43m,\u001B[49m\u001B[38;5;124;43m'\u001B[39;49m\u001B[38;5;124;43mlon\u001B[39;49m\u001B[38;5;124;43m'\u001B[39;49m\u001B[43m,\u001B[49m\u001B[38;5;124;43m'\u001B[39;49m\u001B[38;5;124;43mlat\u001B[39;49m\u001B[38;5;124;43m'\u001B[39;49m\u001B[43m]\u001B[49m\u001B[43m)\u001B[49m\n\u001B[1;32m      2\u001B[0m oddata\n",
      "File \u001B[0;32m~/.conda/envs/py38lzy/lib/python3.8/site-packages/transbigdata/taxigps.py:101\u001B[0m, in \u001B[0;36mtaxigps_to_od\u001B[0;34m(data, col)\u001B[0m\n\u001B[1;32m     83\u001B[0m \u001B[38;5;28;01mdef\u001B[39;00m \u001B[38;5;21mtaxigps_to_od\u001B[39m(data,\n\u001B[1;32m     84\u001B[0m                   col\u001B[38;5;241m=\u001B[39m[\u001B[38;5;124m'\u001B[39m\u001B[38;5;124mVehicleNum\u001B[39m\u001B[38;5;124m'\u001B[39m, \u001B[38;5;124m'\u001B[39m\u001B[38;5;124mStime\u001B[39m\u001B[38;5;124m'\u001B[39m, \u001B[38;5;124m'\u001B[39m\u001B[38;5;124mLng\u001B[39m\u001B[38;5;124m'\u001B[39m, \u001B[38;5;124m'\u001B[39m\u001B[38;5;124mLat\u001B[39m\u001B[38;5;124m'\u001B[39m, \u001B[38;5;124m'\u001B[39m\u001B[38;5;124mOpenStatus\u001B[39m\u001B[38;5;124m'\u001B[39m]):\n\u001B[1;32m     85\u001B[0m     \u001B[38;5;124;03m'''\u001B[39;00m\n\u001B[1;32m     86\u001B[0m \u001B[38;5;124;03m    Input Taxi GPS data, extract OD information\u001B[39;00m\n\u001B[1;32m     87\u001B[0m \n\u001B[0;32m   (...)\u001B[0m\n\u001B[1;32m     99\u001B[0m \u001B[38;5;124;03m        OD information\u001B[39;00m\n\u001B[1;32m    100\u001B[0m \u001B[38;5;124;03m    '''\u001B[39;00m\n\u001B[0;32m--> 101\u001B[0m     [VehicleNum, Stime, Lng, Lat, OpenStatus] \u001B[38;5;241m=\u001B[39m col\n\u001B[1;32m    102\u001B[0m     data1 \u001B[38;5;241m=\u001B[39m data[col]\n\u001B[1;32m    103\u001B[0m     data1 \u001B[38;5;241m=\u001B[39m data1\u001B[38;5;241m.\u001B[39msort_values(by\u001B[38;5;241m=\u001B[39m[VehicleNum, Stime])\n",
      "\u001B[0;31mValueError\u001B[0m: not enough values to unpack (expected 5, got 4)"
     ]
    }
   ],
   "source": [
    "oddata = tbd.taxigps_to_od(df_all, col=['user','time','lon','lat'])\n",
    "oddata"
   ],
   "metadata": {
    "collapsed": false,
    "pycharm": {
     "name": "#%%\n"
    }
   }
  },
  {
   "cell_type": "code",
   "execution_count": null,
   "outputs": [],
   "source": [
    "tbd.visualization_data(data,col=['lon', 'lat'])"
   ],
   "metadata": {
    "collapsed": false,
    "pycharm": {
     "name": "#%%\n",
     "is_executing": true
    }
   }
  },
  {
   "cell_type": "code",
   "execution_count": null,
   "outputs": [],
   "source": [],
   "metadata": {
    "collapsed": false,
    "pycharm": {
     "name": "#%%\n"
    }
   }
  }
 ],
 "metadata": {
  "kernelspec": {
   "name": "py38lzy",
   "language": "python",
   "display_name": "py38lzy"
  },
  "language_info": {
   "codemirror_mode": {
    "name": "ipython",
    "version": 2
   },
   "file_extension": ".py",
   "mimetype": "text/x-python",
   "name": "python",
   "nbconvert_exporter": "python",
   "pygments_lexer": "ipython2",
   "version": "2.7.6"
  }
 },
 "nbformat": 4,
 "nbformat_minor": 0
}