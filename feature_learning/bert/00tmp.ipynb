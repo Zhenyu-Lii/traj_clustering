{
 "cells": [
  {
   "cell_type": "code",
   "execution_count": 1,
   "metadata": {
    "collapsed": true
   },
   "outputs": [
    {
     "name": "stdout",
     "output_type": "stream",
     "text": [
      "dict_keys(['model'])\n",
      "torch.Size([1024, 1024])\n",
      "tensor([[-0.0175, -0.0259, -0.0270,  ..., -0.0176, -0.0264,  0.0266],\n",
      "        [ 0.0219,  0.0117,  0.0124,  ...,  0.0102, -0.0174,  0.0050],\n",
      "        [ 0.0070,  0.0017,  0.0256,  ..., -0.0271, -0.0290, -0.0295],\n",
      "        ...,\n",
      "        [ 0.0074,  0.0074, -0.0297,  ..., -0.0246,  0.0028, -0.0198],\n",
      "        [ 0.0093, -0.0001, -0.0246,  ..., -0.0175, -0.0094, -0.0028],\n",
      "        [-0.0205,  0.0287,  0.0310,  ...,  0.0113, -0.0238, -0.0208]],\n",
      "       device='cuda:0')\n"
     ]
    }
   ],
   "source": [
    "import torch  # 命令行是逐行立即执行的\n",
    "\n",
    "content = torch.load('./pth_model/loc-batch256-epoch100-loss-2022101715.pth')\n",
    "\n",
    "print(content.keys())  # keys()\n",
    "# 之后有其他需求比如要看 key 为 model 的内容有啥\n",
    "print(content['model']['linear.weight'].shape)\n",
    "print(content['model']['linear.weight'])"
   ]
  },
  {
   "cell_type": "code",
   "execution_count": 40,
   "outputs": [],
   "source": [
    "import torch\n",
    "import pandas as pd\n",
    "import numpy as np\n",
    "import os\n",
    "# init embeddings\n",
    "loc_index = pd.read_csv('../../data/loc_index.csv',index_col=0)\n",
    "loc_size = len(loc_index)\n",
    "embed_size = 256\n",
    "sgm = 0.8\n",
    "lbd = 0.6\n",
    "cwd = os.path.abspath('.')\n",
    "embed_256 = np.random.randn(loc_size, embed_size)\n",
    "np.save('data/Geolife/embedding_256.npy', embed_256)\n",
    "\n",
    "# drop掉label为-1的轨迹\n",
    "all_traj = pd.read_hdf(cwd+\"/all_traj_labeled_σ_{sgm}_λ_{lbd}.h5\".format(sgm=sgm, lbd=lbd), key='data')\n",
    "all_data = all_traj.drop(all_traj[all_traj['label']==-1].index)\n",
    "\n",
    "\n"
   ],
   "metadata": {
    "collapsed": false,
    "pycharm": {
     "name": "#%%\n"
    }
   }
  },
  {
   "cell_type": "code",
   "execution_count": 42,
   "outputs": [],
   "source": [
    "all_traj.to_csv('./all_traj.csv')"
   ],
   "metadata": {
    "collapsed": false,
    "pycharm": {
     "name": "#%%\n"
    }
   }
  },
  {
   "cell_type": "code",
   "execution_count": 43,
   "outputs": [
    {
     "data": {
      "text/plain": "'/home/lizhenyu/Project/E2DTC/feature_learning/bert'"
     },
     "execution_count": 43,
     "metadata": {},
     "output_type": "execute_result"
    }
   ],
   "source": [
    "os.getcwd()"
   ],
   "metadata": {
    "collapsed": false,
    "pycharm": {
     "name": "#%%\n"
    }
   }
  },
  {
   "cell_type": "code",
   "execution_count": 15,
   "outputs": [],
   "source": [
    "import pandas as pd\n",
    "import os\n",
    "sgm = 0.8\n",
    "lbd = 0.6\n",
    "train_dataset = 'all_traj_labeled_σ_{sgm}_λ_{lbd}.h5'.format(sgm=sgm, lbd=lbd)\n",
    "\n",
    "train_df = pd.read_hdf(os.path.join('./data/Geolife/', train_dataset), key='data')\n",
    "train_df = train_df.drop(train_df[train_df['label'] == -1].index)"
   ],
   "metadata": {
    "collapsed": false,
    "pycharm": {
     "name": "#%%\n"
    }
   }
  },
  {
   "cell_type": "markdown",
   "source": [],
   "metadata": {
    "collapsed": false
   }
  },
  {
   "cell_type": "code",
   "execution_count": 27,
   "outputs": [
    {
     "data": {
      "text/plain": "tensor([[ 4.5609e+00,  4.5605e-41,  4.5609e+00,  4.5605e-41,  1.0310e+05,\n          3.0854e-41,  1.0310e+05,  3.0854e-41,  1.4013e-45,  0.0000e+00,\n          1.0310e+05,  3.0854e-41,  1.4013e-45,  0.0000e+00,  1.0310e+05,\n          3.0854e-41,  3.3631e-44,  4.5605e-41, -8.7793e+20,  4.5602e-41,\n          2.8026e-45,  4.5605e-41,  1.0310e+05,  3.0854e-41,  2.8026e-45,\n          0.0000e+00,  2.8026e-45,  1.4013e-44,  3.3631e-44,  0.0000e+00,\n          9.0266e-03,  4.5605e-41,  1.4013e-45,  0.0000e+00,  1.4013e-45,\n          0.0000e+00,  2.8026e-45,  1.8217e-44,  2.8026e-45,  2.5223e-44,\n          2.9427e-44,  0.0000e+00,  1.0310e+05,  3.0854e-41,  1.5323e+00,\n          4.5605e-41,  1.4013e-45,  3.0854e-41,  2.8026e-45,  1.8217e-44,\n          2.8026e-45,  3.3631e-44,  2.8026e-45,  0.0000e+00,  1.0310e+05,\n          3.0854e-41,  1.0310e+05,  3.0854e-41,  2.8026e-44,  4.5602e-41,\n         -1.3655e+02,  3.0852e-41,  0.0000e+00,  0.0000e+00,  3.9236e-44,\n          0.0000e+00,  2.8026e-45,  3.5032e-44,  2.8026e-45,  3.6434e-44,\n          2.8026e-44,  5.6052e-45, -1.3668e+02,  3.0852e-41,  0.0000e+00,\n          0.0000e+00,  1.4013e-45,  4.5602e-41,  2.8026e-45,  3.7835e-44,\n          2.8026e-45,  4.2039e-44,  0.0000e+00,  0.0000e+00,  0.0000e+00,\n          0.0000e+00,  2.3822e-44,  3.0854e-41,  1.0310e+05,  3.0854e-41,\n          1.0310e+05,  3.0854e-41,  1.0310e+05,  3.0854e-41,  2.8026e-45,\n          1.8217e-44,  2.8026e-45,  4.3440e-44,  8.4078e-45,  0.0000e+00,\n          1.0310e+05,  3.0854e-41,  1.0310e+05,  3.0854e-41,  0.0000e+00,\n          0.0000e+00, -1.3668e+02,  3.0852e-41,  0.0000e+00,  0.0000e+00,\n          9.8091e-45,  0.0000e+00,  2.8026e-45,  0.0000e+00,  2.8026e-45,\n          4.3440e-44,  0.0000e+00,  0.0000e+00,  0.0000e+00,  0.0000e+00,\n          1.4013e-45,  3.0854e-41,  1.0310e+05,  3.0854e-41,  1.0310e+05,\n          3.0854e-41,  2.8026e-45,  4.3440e-44,  8.4078e-45,  0.0000e+00,\n          1.0310e+05,  3.0854e-41,  1.0310e+05,  3.0854e-41,  0.0000e+00,\n          0.0000e+00,  0.0000e+00,  0.0000e+00,  0.0000e+00,  0.0000e+00,\n          0.0000e+00,  0.0000e+00,  2.8026e-45,  0.0000e+00,  2.8026e-45,\n          4.3440e-44,  3.3631e-44,  4.5602e-41, -8.7793e+20,  4.5602e-41,\n          1.4013e-45,  0.0000e+00,  0.0000e+00,  0.0000e+00,  4.2039e-45,\n          0.0000e+00,  4.2039e-45,  1.4013e-44,  3.0829e-44,  0.0000e+00,\n          1.0310e+05,  3.0854e-41,  0.0000e+00,  0.0000e+00,  0.0000e+00,\n          0.0000e+00,  0.0000e+00,  0.0000e+00,  0.0000e+00,  0.0000e+00,\n          0.0000e+00,  0.0000e+00,  4.2039e-45,  0.0000e+00,  4.2039e-45,\n          1.4013e-44,  0.0000e+00,  0.0000e+00,  0.0000e+00,  0.0000e+00,\n          1.4013e-45,  0.0000e+00,  1.0310e+05,  3.0854e-41,  1.0310e+05,\n          3.0854e-41, -1.2483e-01,  4.5602e-41, -9.7497e+02,  3.0852e-41,\n          0.0000e+00,  0.0000e+00,  3.6434e-44,  0.0000e+00,         nan,\n                 nan,  0.0000e+00,  0.0000e+00,  1.4013e-45,  0.0000e+00,\n          1.0201e-42,  0.0000e+00,  1.2612e-44,  0.0000e+00, -1.2483e-01,\n          4.5602e-41, -9.7497e+02,  3.0852e-41,  1.4013e-45,  0.0000e+00,\n          3.6434e-44,  0.0000e+00,         nan,         nan, -1.4855e-01,\n          4.5602e-41,  1.4013e-45,  0.0000e+00, -1.2483e-01,  4.5602e-41,\n          0.0000e+00,  0.0000e+00,  0.0000e+00,  0.0000e+00,  0.0000e+00,\n          0.0000e+00,  0.0000e+00,  0.0000e+00,  0.0000e+00,  0.0000e+00,\n          0.0000e+00,  0.0000e+00,  0.0000e+00,  0.0000e+00,  0.0000e+00,\n          0.0000e+00,  0.0000e+00,  0.0000e+00, -1.2483e-01,  4.5602e-41,\n          0.0000e+00,  0.0000e+00,  0.0000e+00,  0.0000e+00,  0.0000e+00,\n          0.0000e+00,  0.0000e+00,  0.0000e+00,  0.0000e+00,  0.0000e+00,\n          0.0000e+00,  0.0000e+00,  0.0000e+00,  0.0000e+00,  0.0000e+00,\n          0.0000e+00]])"
     },
     "execution_count": 27,
     "metadata": {},
     "output_type": "execute_result"
    }
   ],
   "source": [
    "import torch\n",
    "embeddings = torch.empty(1,256)\n",
    "embeddings"
   ],
   "metadata": {
    "collapsed": false,
    "pycharm": {
     "name": "#%%\n"
    }
   }
  },
  {
   "cell_type": "code",
   "execution_count": 33,
   "outputs": [
    {
     "data": {
      "text/plain": "array([ 1,  5,  1, ...,  0, 10,  9], dtype=int32)"
     },
     "execution_count": 33,
     "metadata": {},
     "output_type": "execute_result"
    }
   ],
   "source": [
    "import pickle\n",
    "def load_label(labelpath):\n",
    "    '''\n",
    "    Load label data: numpy array (datasize,)\n",
    "    '''\n",
    "    f = open(labelpath, 'rb')\n",
    "    y = pickle.load(f)\n",
    "    return y\n",
    "Y = load_label('../../data/labels.pkl')\n",
    "Y"
   ],
   "metadata": {
    "collapsed": false,
    "pycharm": {
     "name": "#%%\n"
    }
   }
  },
  {
   "cell_type": "code",
   "execution_count": 38,
   "outputs": [
    {
     "name": "stdout",
     "output_type": "stream",
     "text": [
      "(86113,)\n"
     ]
    }
   ],
   "source": [
    "print(Y.shape)"
   ],
   "metadata": {
    "collapsed": false,
    "pycharm": {
     "name": "#%%\n"
    }
   }
  },
  {
   "cell_type": "code",
   "execution_count": 11,
   "outputs": [],
   "source": [
    "cluster_value_counts = pd.DataFrame(columns=['Num','Percentage'])\n",
    "cluster_value_counts['Num'] = train_df['label'].value_counts().sort_index()"
   ],
   "metadata": {
    "collapsed": false,
    "pycharm": {
     "name": "#%%\n"
    }
   }
  },
  {
   "cell_type": "code",
   "execution_count": 14,
   "outputs": [
    {
     "data": {
      "text/plain": "    Num Percentage\n0    52     18.91%\n1     7      2.55%\n2     9      3.27%\n3    87     31.64%\n4     3      1.09%\n5    46     16.73%\n6     9      3.27%\n7    13      4.73%\n8    21      7.64%\n9     1      0.36%\n10   27      9.82%",
      "text/html": "<div>\n<style scoped>\n    .dataframe tbody tr th:only-of-type {\n        vertical-align: middle;\n    }\n\n    .dataframe tbody tr th {\n        vertical-align: top;\n    }\n\n    .dataframe thead th {\n        text-align: right;\n    }\n</style>\n<table border=\"1\" class=\"dataframe\">\n  <thead>\n    <tr style=\"text-align: right;\">\n      <th></th>\n      <th>Num</th>\n      <th>Percentage</th>\n    </tr>\n  </thead>\n  <tbody>\n    <tr>\n      <th>0</th>\n      <td>52</td>\n      <td>18.91%</td>\n    </tr>\n    <tr>\n      <th>1</th>\n      <td>7</td>\n      <td>2.55%</td>\n    </tr>\n    <tr>\n      <th>2</th>\n      <td>9</td>\n      <td>3.27%</td>\n    </tr>\n    <tr>\n      <th>3</th>\n      <td>87</td>\n      <td>31.64%</td>\n    </tr>\n    <tr>\n      <th>4</th>\n      <td>3</td>\n      <td>1.09%</td>\n    </tr>\n    <tr>\n      <th>5</th>\n      <td>46</td>\n      <td>16.73%</td>\n    </tr>\n    <tr>\n      <th>6</th>\n      <td>9</td>\n      <td>3.27%</td>\n    </tr>\n    <tr>\n      <th>7</th>\n      <td>13</td>\n      <td>4.73%</td>\n    </tr>\n    <tr>\n      <th>8</th>\n      <td>21</td>\n      <td>7.64%</td>\n    </tr>\n    <tr>\n      <th>9</th>\n      <td>1</td>\n      <td>0.36%</td>\n    </tr>\n    <tr>\n      <th>10</th>\n      <td>27</td>\n      <td>9.82%</td>\n    </tr>\n  </tbody>\n</table>\n</div>"
     },
     "execution_count": 14,
     "metadata": {},
     "output_type": "execute_result"
    }
   ],
   "source": [
    "cluster_value_counts['Percentage'] =cluster_value_counts['Num']/len(train_df\n",
    "                                                                )\n",
    "cluster_value_counts['Percentage'] = cluster_value_counts['Percentage'].apply(lambda x: format(x, '.2%'))\n",
    "cluster_value_counts"
   ],
   "metadata": {
    "collapsed": false,
    "pycharm": {
     "name": "#%%\n"
    }
   }
  },
  {
   "cell_type": "code",
   "execution_count": null,
   "outputs": [],
   "source": [],
   "metadata": {
    "collapsed": false,
    "pycharm": {
     "name": "#%%\n"
    }
   }
  }
 ],
 "metadata": {
  "kernelspec": {
   "display_name": "Python 3",
   "language": "python",
   "name": "python3"
  },
  "language_info": {
   "codemirror_mode": {
    "name": "ipython",
    "version": 2
   },
   "file_extension": ".py",
   "mimetype": "text/x-python",
   "name": "python",
   "nbconvert_exporter": "python",
   "pygments_lexer": "ipython2",
   "version": "2.7.6"
  }
 },
 "nbformat": 4,
 "nbformat_minor": 0
}