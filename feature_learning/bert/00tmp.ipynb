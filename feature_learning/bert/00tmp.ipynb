{
 "cells": [
  {
   "cell_type": "code",
   "execution_count": 5,
   "metadata": {
    "collapsed": true
   },
   "outputs": [
    {
     "name": "stdout",
     "output_type": "stream",
     "text": [
      "dict_keys(['model'])\n",
      "torch.Size([1024, 1024])\n",
      "tensor([[-0.0172, -0.0146, -0.0126,  ...,  0.0154, -0.0285,  0.0263],\n",
      "        [-0.0141, -0.0284, -0.0309,  ..., -0.0152, -0.0187, -0.0087],\n",
      "        [ 0.0168,  0.0058, -0.0048,  ..., -0.0280,  0.0086,  0.0189],\n",
      "        ...,\n",
      "        [-0.0291, -0.0107, -0.0004,  ..., -0.0072,  0.0092, -0.0160],\n",
      "        [ 0.0297,  0.0302,  0.0028,  ...,  0.0193,  0.0235, -0.0308],\n",
      "        [ 0.0191, -0.0004,  0.0078,  ...,  0.0042, -0.0246,  0.0213]],\n",
      "       device='cuda:0')\n"
     ]
    }
   ],
   "source": [
    "import torch  # 命令行是逐行立即执行的\n",
    "\n",
    "content = torch.load('./pth_model/loc-train_traj_5-test_traj_5-batch256-epoch100-loss-2022101516.pth')\n",
    "\n",
    "print(content.keys())  # keys()\n",
    "# 之后有其他需求比如要看 key 为 model 的内容有啥\n",
    "print(content['model']['linear.weight'].shape)\n",
    "print(content['model']['linear.weight'])"
   ]
  },
  {
   "cell_type": "code",
   "execution_count": null,
   "outputs": [],
   "source": [],
   "metadata": {
    "collapsed": false,
    "pycharm": {
     "name": "#%%\n"
    }
   }
  }
 ],
 "metadata": {
  "kernelspec": {
   "display_name": "Python 3",
   "language": "python",
   "name": "python3"
  },
  "language_info": {
   "codemirror_mode": {
    "name": "ipython",
    "version": 2
   },
   "file_extension": ".py",
   "mimetype": "text/x-python",
   "name": "python",
   "nbconvert_exporter": "python",
   "pygments_lexer": "ipython2",
   "version": "2.7.6"
  }
 },
 "nbformat": 4,
 "nbformat_minor": 0
}