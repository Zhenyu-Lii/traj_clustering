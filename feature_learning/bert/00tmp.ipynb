{
 "cells": [
  {
   "cell_type": "code",
   "execution_count": 1,
   "metadata": {
    "collapsed": true
   },
   "outputs": [
    {
     "name": "stdout",
     "output_type": "stream",
     "text": [
      "dict_keys(['model'])\n",
      "torch.Size([1024, 1024])\n",
      "tensor([[-0.0175, -0.0259, -0.0270,  ..., -0.0176, -0.0264,  0.0266],\n",
      "        [ 0.0219,  0.0117,  0.0124,  ...,  0.0102, -0.0174,  0.0050],\n",
      "        [ 0.0070,  0.0017,  0.0256,  ..., -0.0271, -0.0290, -0.0295],\n",
      "        ...,\n",
      "        [ 0.0074,  0.0074, -0.0297,  ..., -0.0246,  0.0028, -0.0198],\n",
      "        [ 0.0093, -0.0001, -0.0246,  ..., -0.0175, -0.0094, -0.0028],\n",
      "        [-0.0205,  0.0287,  0.0310,  ...,  0.0113, -0.0238, -0.0208]],\n",
      "       device='cuda:0')\n"
     ]
    }
   ],
   "source": [
    "import torch  # 命令行是逐行立即执行的\n",
    "\n",
    "content = torch.load('./pth_model/loc-batch256-epoch100-loss-2022101715.pth')\n",
    "\n",
    "print(content.keys())  # keys()\n",
    "# 之后有其他需求比如要看 key 为 model 的内容有啥\n",
    "print(content['model']['linear.weight'].shape)\n",
    "print(content['model']['linear.weight'])"
   ]
  },
  {
   "cell_type": "code",
   "execution_count": 4,
   "outputs": [
    {
     "ename": "ModuleNotFoundError",
     "evalue": "No module named 'models'",
     "output_type": "error",
     "traceback": [
      "\u001B[0;31m---------------------------------------------------------------------------\u001B[0m",
      "\u001B[0;31mModuleNotFoundError\u001B[0m                       Traceback (most recent call last)",
      "\u001B[0;32m<ipython-input-4-31ccbf7d5dce>\u001B[0m in \u001B[0;36m<module>\u001B[0;34m\u001B[0m\n\u001B[0;32m----> 1\u001B[0;31m \u001B[0;32mfrom\u001B[0m \u001B[0mmodels\u001B[0m\u001B[0;34m.\u001B[0m\u001B[0mpy\u001B[0m \u001B[0;32mimport\u001B[0m \u001B[0mIntermediateLayerGetter\u001B[0m\u001B[0;34m\u001B[0m\u001B[0;34m\u001B[0m\u001B[0m\n\u001B[0m",
      "\u001B[0;31mModuleNotFoundError\u001B[0m: No module named 'models'"
     ]
    }
   ],
   "source": [
    "from models.py import IntermediateLayerGetter"
   ],
   "metadata": {
    "collapsed": false,
    "pycharm": {
     "name": "#%%\n"
    }
   }
  },
  {
   "cell_type": "code",
   "execution_count": 6,
   "outputs": [],
   "source": [
    "import pandas as pd\n",
    "import os\n",
    "sgm = 0.8\n",
    "lbd = 0.6\n",
    "train_dataset = 'all_traj_labeled_σ_{sgm}_λ_{lbd}.h5'.format(sgm=sgm, lbd=lbd)\n",
    "\n",
    "train_df = pd.read_hdf(os.path.join('./data/Geolife/', train_dataset), key='data')\n",
    "train_df = train_df.drop(train_df[train_df['label'] == -1].index)"
   ],
   "metadata": {
    "collapsed": false,
    "pycharm": {
     "name": "#%%\n"
    }
   }
  },
  {
   "cell_type": "markdown",
   "source": [],
   "metadata": {
    "collapsed": false
   }
  },
  {
   "cell_type": "code",
   "execution_count": 10,
   "outputs": [
    {
     "name": "stdout",
     "output_type": "stream",
     "text": [
      "0     52\n",
      "1      7\n",
      "2      9\n",
      "3     87\n",
      "4      3\n",
      "5     46\n",
      "6      9\n",
      "7     13\n",
      "8     21\n",
      "9      1\n",
      "10    27\n",
      "Name: label, dtype: int64\n"
     ]
    }
   ],
   "source": [
    "print(train_df['label'].value_counts().sort_index())\n"
   ],
   "metadata": {
    "collapsed": false,
    "pycharm": {
     "name": "#%%\n"
    }
   }
  },
  {
   "cell_type": "code",
   "execution_count": 11,
   "outputs": [],
   "source": [
    "cluster_value_counts = pd.DataFrame(columns=['Num','Percentage'])\n",
    "cluster_value_counts['Num'] = train_df['label'].value_counts().sort_index()"
   ],
   "metadata": {
    "collapsed": false,
    "pycharm": {
     "name": "#%%\n"
    }
   }
  },
  {
   "cell_type": "code",
   "execution_count": 14,
   "outputs": [
    {
     "data": {
      "text/plain": "    Num Percentage\n0    52     18.91%\n1     7      2.55%\n2     9      3.27%\n3    87     31.64%\n4     3      1.09%\n5    46     16.73%\n6     9      3.27%\n7    13      4.73%\n8    21      7.64%\n9     1      0.36%\n10   27      9.82%",
      "text/html": "<div>\n<style scoped>\n    .dataframe tbody tr th:only-of-type {\n        vertical-align: middle;\n    }\n\n    .dataframe tbody tr th {\n        vertical-align: top;\n    }\n\n    .dataframe thead th {\n        text-align: right;\n    }\n</style>\n<table border=\"1\" class=\"dataframe\">\n  <thead>\n    <tr style=\"text-align: right;\">\n      <th></th>\n      <th>Num</th>\n      <th>Percentage</th>\n    </tr>\n  </thead>\n  <tbody>\n    <tr>\n      <th>0</th>\n      <td>52</td>\n      <td>18.91%</td>\n    </tr>\n    <tr>\n      <th>1</th>\n      <td>7</td>\n      <td>2.55%</td>\n    </tr>\n    <tr>\n      <th>2</th>\n      <td>9</td>\n      <td>3.27%</td>\n    </tr>\n    <tr>\n      <th>3</th>\n      <td>87</td>\n      <td>31.64%</td>\n    </tr>\n    <tr>\n      <th>4</th>\n      <td>3</td>\n      <td>1.09%</td>\n    </tr>\n    <tr>\n      <th>5</th>\n      <td>46</td>\n      <td>16.73%</td>\n    </tr>\n    <tr>\n      <th>6</th>\n      <td>9</td>\n      <td>3.27%</td>\n    </tr>\n    <tr>\n      <th>7</th>\n      <td>13</td>\n      <td>4.73%</td>\n    </tr>\n    <tr>\n      <th>8</th>\n      <td>21</td>\n      <td>7.64%</td>\n    </tr>\n    <tr>\n      <th>9</th>\n      <td>1</td>\n      <td>0.36%</td>\n    </tr>\n    <tr>\n      <th>10</th>\n      <td>27</td>\n      <td>9.82%</td>\n    </tr>\n  </tbody>\n</table>\n</div>"
     },
     "execution_count": 14,
     "metadata": {},
     "output_type": "execute_result"
    }
   ],
   "source": [
    "cluster_value_counts['Percentage'] =cluster_value_counts['Num']/len(train_df\n",
    "                                                                )\n",
    "cluster_value_counts['Percentage'] = cluster_value_counts['Percentage'].apply(lambda x: format(x, '.2%'))\n",
    "cluster_value_counts"
   ],
   "metadata": {
    "collapsed": false,
    "pycharm": {
     "name": "#%%\n"
    }
   }
  },
  {
   "cell_type": "code",
   "execution_count": null,
   "outputs": [],
   "source": [],
   "metadata": {
    "collapsed": false,
    "pycharm": {
     "name": "#%%\n"
    }
   }
  }
 ],
 "metadata": {
  "kernelspec": {
   "display_name": "Python 3",
   "language": "python",
   "name": "python3"
  },
  "language_info": {
   "codemirror_mode": {
    "name": "ipython",
    "version": 2
   },
   "file_extension": ".py",
   "mimetype": "text/x-python",
   "name": "python",
   "nbconvert_exporter": "python",
   "pygments_lexer": "ipython2",
   "version": "2.7.6"
  }
 },
 "nbformat": 4,
 "nbformat_minor": 0
}