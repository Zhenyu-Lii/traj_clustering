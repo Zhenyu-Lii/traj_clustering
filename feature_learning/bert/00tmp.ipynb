{
 "cells": [
  {
   "cell_type": "code",
   "execution_count": 1,
   "metadata": {
    "collapsed": true
   },
   "outputs": [
    {
     "name": "stdout",
     "output_type": "stream",
     "text": [
      "dict_keys(['model'])\n",
      "torch.Size([1024, 1024])\n",
      "tensor([[-0.0175, -0.0259, -0.0270,  ..., -0.0176, -0.0264,  0.0266],\n",
      "        [ 0.0219,  0.0117,  0.0124,  ...,  0.0102, -0.0174,  0.0050],\n",
      "        [ 0.0070,  0.0017,  0.0256,  ..., -0.0271, -0.0290, -0.0295],\n",
      "        ...,\n",
      "        [ 0.0074,  0.0074, -0.0297,  ..., -0.0246,  0.0028, -0.0198],\n",
      "        [ 0.0093, -0.0001, -0.0246,  ..., -0.0175, -0.0094, -0.0028],\n",
      "        [-0.0205,  0.0287,  0.0310,  ...,  0.0113, -0.0238, -0.0208]],\n",
      "       device='cuda:0')\n"
     ]
    }
   ],
   "source": [
    "import torch  # 命令行是逐行立即执行的\n",
    "\n",
    "content = torch.load('./pth_model/loc-batch256-epoch100-loss-2022101715.pth')\n",
    "\n",
    "print(content.keys())  # keys()\n",
    "# 之后有其他需求比如要看 key 为 model 的内容有啥\n",
    "print(content['model']['linear.weight'].shape)\n",
    "print(content['model']['linear.weight'])"
   ]
  },
  {
   "cell_type": "code",
   "execution_count": 72,
   "outputs": [
    {
     "data": {
      "text/plain": "[]"
     },
     "execution_count": 72,
     "metadata": {},
     "output_type": "execute_result"
    }
   ],
   "source": [
    "batch=0\n",
    "start=255\n",
    "c = [1,2,3]\n",
    "\n",
    "c[start-batch:start]\n"
   ],
   "metadata": {
    "collapsed": false,
    "pycharm": {
     "name": "#%%\n"
    }
   }
  },
  {
   "cell_type": "code",
   "execution_count": 60,
   "outputs": [
    {
     "data": {
      "text/plain": "tensor([[1, 2, 3, 4, 4, 4],\n        [1, 2, 3, 4, 4, 4]])"
     },
     "execution_count": 60,
     "metadata": {},
     "output_type": "execute_result"
    }
   ],
   "source": [
    "import torch\n",
    "import pandas as pd\n",
    "import numpy as np\n",
    "import os\n",
    "\n",
    "x1 = torch.tensor([[1,2,3],[1,2,3]])\n",
    "x2 = torch.tensor([[4,4,4],[4,4,4]])\n",
    "y = torch.cat((x1, x2), dim=1)\n",
    "y"
   ],
   "metadata": {
    "collapsed": false,
    "pycharm": {
     "name": "#%%\n"
    }
   }
  },
  {
   "cell_type": "code",
   "execution_count": 42,
   "outputs": [],
   "source": [
    "all_traj.to_csv('./all_traj.csv')"
   ],
   "metadata": {
    "collapsed": false,
    "pycharm": {
     "name": "#%%\n"
    }
   }
  },
  {
   "cell_type": "code",
   "execution_count": 43,
   "outputs": [
    {
     "data": {
      "text/plain": "'/home/lizhenyu/Project/E2DTC/feature_learning/bert'"
     },
     "execution_count": 43,
     "metadata": {},
     "output_type": "execute_result"
    }
   ],
   "source": [
    "os.getcwd()"
   ],
   "metadata": {
    "collapsed": false,
    "pycharm": {
     "name": "#%%\n"
    }
   }
  },
  {
   "cell_type": "code",
   "execution_count": 15,
   "outputs": [],
   "source": [
    "import pandas as pd\n",
    "import os\n",
    "sgm = 0.8\n",
    "lbd = 0.6\n",
    "train_dataset = 'all_traj_labeled_σ_{sgm}_λ_{lbd}.h5'.format(sgm=sgm, lbd=lbd)\n",
    "\n",
    "train_df = pd.read_hdf(os.path.join('./data/Geolife/', train_dataset), key='data')\n",
    "train_df = train_df.drop(train_df[train_df['label'] == -1].index)"
   ],
   "metadata": {
    "collapsed": false,
    "pycharm": {
     "name": "#%%\n"
    }
   }
  },
  {
   "cell_type": "markdown",
   "source": [],
   "metadata": {
    "collapsed": false
   }
  },
  {
   "cell_type": "code",
   "execution_count": 44,
   "outputs": [],
   "source": [
    "import pandas\n",
    "embed_size = 256\n",
    "sgm = 0.8\n",
    "lbd = 0.6\n",
    "cwd = os.path.abspath('.')\n",
    "# traj_path = cwd+\"/all_traj_labeled_σ_{sgm}_λ_{lbd}.h5\".format(sgm=sgm, lbd=lbd)\n",
    "traj_path = cwd+'/data/E2DTC/data.h5'\n",
    "embed_path = './data/Geolife/embed_256.pt'\n",
    "# embed_256 = np.random.randn(loc_size, embed_size)\n",
    "# np.save('data/Geolife/embedding_256.npy', embed_256)\n",
    "\n",
    "# drop掉label为-1的轨迹\n",
    "all_traj = pd.read_hdf(traj_path, key='data')\n",
    "all_data = all_traj.drop(all_traj[all_traj['label']==-1].index)\n",
    "labels = np.array(all_data['label'])\n",
    "embeddings = torch.load(embed_path).cpu().detach().numpy()"
   ],
   "metadata": {
    "collapsed": false,
    "pycharm": {
     "name": "#%%\n"
    }
   }
  },
  {
   "cell_type": "code",
   "execution_count": 56,
   "outputs": [],
   "source": [
    "traj_path = cwd+'/data/E2DTC/data.h5'\n",
    "# traj_path = cwd+\"/all_traj_labeled_σ_{sgm}_λ_{lbd}.h5\".format(sgm=sgm, lbd=lbd)\n",
    "embed_path = './data/E2DTC/embed_256_epoch_150.pt'\n",
    "all_traj = pd.read_hdf(traj_path)\n",
    "embeddings = torch.load(embed_path).cpu().detach().numpy()"
   ],
   "metadata": {
    "collapsed": false,
    "pycharm": {
     "name": "#%%\n"
    }
   }
  },
  {
   "cell_type": "code",
   "execution_count": 57,
   "outputs": [
    {
     "data": {
      "text/plain": "                                              trajectory  user_index  day  \\\n0      61 9 61 9 61 86 61 86 61 209 86 209 86 209 86 ...           1    1   \n1      42 92 42 92 129 42 129 562 129 144 129 144 129...           1    1   \n2      146 209 146 468 86 146 86 146 468 86 468 146 2...           1    1   \n3      475 76 143 76 475 76 475 76 475 73 76 143 475 ...           1    1   \n4      26 156 5 26 72 26 156 72 26 156 26 156 26 72 2...           1    1   \n...                                                  ...         ...  ...   \n66142  177 35 218 35 344 35 85 80 85 36 80 36 204 36 ...           1    1   \n66143  10 103 10 103 10 103 10 103 10 103 10 [PAD] [P...           1    1   \n66144  12 42 129 256 325 843 325 381 812 657 [PAD] [P...           1    1   \n66145  24 16 24 16 33 16 33 115 33 115 33 16 33 16 33...           1    1   \n66146  31 63 102 63 102 63 31 102 31 63 102 63 18 63 ...           1    1   \n\n       year  month  index  label  \n0         1      1      0      1  \n1         1      1      1      5  \n2         1      1      2      1  \n3         1      1      3      9  \n4         1      1      4      0  \n...     ...    ...    ...    ...  \n66142     1      1  86106      6  \n66143     1      1  86107      9  \n66144     1      1  86108      5  \n66145     1      1  86109      8  \n66146     1      1  86111     10  \n\n[66147 rows x 7 columns]",
      "text/html": "<div>\n<style scoped>\n    .dataframe tbody tr th:only-of-type {\n        vertical-align: middle;\n    }\n\n    .dataframe tbody tr th {\n        vertical-align: top;\n    }\n\n    .dataframe thead th {\n        text-align: right;\n    }\n</style>\n<table border=\"1\" class=\"dataframe\">\n  <thead>\n    <tr style=\"text-align: right;\">\n      <th></th>\n      <th>trajectory</th>\n      <th>user_index</th>\n      <th>day</th>\n      <th>year</th>\n      <th>month</th>\n      <th>index</th>\n      <th>label</th>\n    </tr>\n  </thead>\n  <tbody>\n    <tr>\n      <th>0</th>\n      <td>61 9 61 9 61 86 61 86 61 209 86 209 86 209 86 ...</td>\n      <td>1</td>\n      <td>1</td>\n      <td>1</td>\n      <td>1</td>\n      <td>0</td>\n      <td>1</td>\n    </tr>\n    <tr>\n      <th>1</th>\n      <td>42 92 42 92 129 42 129 562 129 144 129 144 129...</td>\n      <td>1</td>\n      <td>1</td>\n      <td>1</td>\n      <td>1</td>\n      <td>1</td>\n      <td>5</td>\n    </tr>\n    <tr>\n      <th>2</th>\n      <td>146 209 146 468 86 146 86 146 468 86 468 146 2...</td>\n      <td>1</td>\n      <td>1</td>\n      <td>1</td>\n      <td>1</td>\n      <td>2</td>\n      <td>1</td>\n    </tr>\n    <tr>\n      <th>3</th>\n      <td>475 76 143 76 475 76 475 76 475 73 76 143 475 ...</td>\n      <td>1</td>\n      <td>1</td>\n      <td>1</td>\n      <td>1</td>\n      <td>3</td>\n      <td>9</td>\n    </tr>\n    <tr>\n      <th>4</th>\n      <td>26 156 5 26 72 26 156 72 26 156 26 156 26 72 2...</td>\n      <td>1</td>\n      <td>1</td>\n      <td>1</td>\n      <td>1</td>\n      <td>4</td>\n      <td>0</td>\n    </tr>\n    <tr>\n      <th>...</th>\n      <td>...</td>\n      <td>...</td>\n      <td>...</td>\n      <td>...</td>\n      <td>...</td>\n      <td>...</td>\n      <td>...</td>\n    </tr>\n    <tr>\n      <th>66142</th>\n      <td>177 35 218 35 344 35 85 80 85 36 80 36 204 36 ...</td>\n      <td>1</td>\n      <td>1</td>\n      <td>1</td>\n      <td>1</td>\n      <td>86106</td>\n      <td>6</td>\n    </tr>\n    <tr>\n      <th>66143</th>\n      <td>10 103 10 103 10 103 10 103 10 103 10 [PAD] [P...</td>\n      <td>1</td>\n      <td>1</td>\n      <td>1</td>\n      <td>1</td>\n      <td>86107</td>\n      <td>9</td>\n    </tr>\n    <tr>\n      <th>66144</th>\n      <td>12 42 129 256 325 843 325 381 812 657 [PAD] [P...</td>\n      <td>1</td>\n      <td>1</td>\n      <td>1</td>\n      <td>1</td>\n      <td>86108</td>\n      <td>5</td>\n    </tr>\n    <tr>\n      <th>66145</th>\n      <td>24 16 24 16 33 16 33 115 33 115 33 16 33 16 33...</td>\n      <td>1</td>\n      <td>1</td>\n      <td>1</td>\n      <td>1</td>\n      <td>86109</td>\n      <td>8</td>\n    </tr>\n    <tr>\n      <th>66146</th>\n      <td>31 63 102 63 102 63 31 102 31 63 102 63 18 63 ...</td>\n      <td>1</td>\n      <td>1</td>\n      <td>1</td>\n      <td>1</td>\n      <td>86111</td>\n      <td>10</td>\n    </tr>\n  </tbody>\n</table>\n<p>66147 rows × 7 columns</p>\n</div>"
     },
     "execution_count": 57,
     "metadata": {},
     "output_type": "execute_result"
    }
   ],
   "source": [
    "all_traj"
   ],
   "metadata": {
    "collapsed": false,
    "pycharm": {
     "name": "#%%\n"
    }
   }
  },
  {
   "cell_type": "code",
   "execution_count": 33,
   "outputs": [
    {
     "data": {
      "text/plain": "array([ 1,  5,  1, ...,  0, 10,  9], dtype=int32)"
     },
     "execution_count": 33,
     "metadata": {},
     "output_type": "execute_result"
    }
   ],
   "source": [
    "import pickle\n",
    "def load_label(labelpath):\n",
    "    '''\n",
    "    Load label data: numpy array (datasize,)\n",
    "    '''\n",
    "    f = open(labelpath, 'rb')\n",
    "    y = pickle.load(f)\n",
    "    return y\n",
    "Y = load_label('../../data/labels.pkl')\n",
    "Y"
   ],
   "metadata": {
    "collapsed": false,
    "pycharm": {
     "name": "#%%\n"
    }
   }
  },
  {
   "cell_type": "code",
   "execution_count": 38,
   "outputs": [
    {
     "name": "stdout",
     "output_type": "stream",
     "text": [
      "(86113,)\n"
     ]
    }
   ],
   "source": [
    "print(Y.shape)"
   ],
   "metadata": {
    "collapsed": false,
    "pycharm": {
     "name": "#%%\n"
    }
   }
  },
  {
   "cell_type": "code",
   "execution_count": 11,
   "outputs": [],
   "source": [
    "cluster_value_counts = pd.DataFrame(columns=['Num','Percentage'])\n",
    "cluster_value_counts['Num'] = train_df['label'].value_counts().sort_index()"
   ],
   "metadata": {
    "collapsed": false,
    "pycharm": {
     "name": "#%%\n"
    }
   }
  },
  {
   "cell_type": "code",
   "execution_count": 14,
   "outputs": [
    {
     "data": {
      "text/plain": "    Num Percentage\n0    52     18.91%\n1     7      2.55%\n2     9      3.27%\n3    87     31.64%\n4     3      1.09%\n5    46     16.73%\n6     9      3.27%\n7    13      4.73%\n8    21      7.64%\n9     1      0.36%\n10   27      9.82%",
      "text/html": "<div>\n<style scoped>\n    .dataframe tbody tr th:only-of-type {\n        vertical-align: middle;\n    }\n\n    .dataframe tbody tr th {\n        vertical-align: top;\n    }\n\n    .dataframe thead th {\n        text-align: right;\n    }\n</style>\n<table border=\"1\" class=\"dataframe\">\n  <thead>\n    <tr style=\"text-align: right;\">\n      <th></th>\n      <th>Num</th>\n      <th>Percentage</th>\n    </tr>\n  </thead>\n  <tbody>\n    <tr>\n      <th>0</th>\n      <td>52</td>\n      <td>18.91%</td>\n    </tr>\n    <tr>\n      <th>1</th>\n      <td>7</td>\n      <td>2.55%</td>\n    </tr>\n    <tr>\n      <th>2</th>\n      <td>9</td>\n      <td>3.27%</td>\n    </tr>\n    <tr>\n      <th>3</th>\n      <td>87</td>\n      <td>31.64%</td>\n    </tr>\n    <tr>\n      <th>4</th>\n      <td>3</td>\n      <td>1.09%</td>\n    </tr>\n    <tr>\n      <th>5</th>\n      <td>46</td>\n      <td>16.73%</td>\n    </tr>\n    <tr>\n      <th>6</th>\n      <td>9</td>\n      <td>3.27%</td>\n    </tr>\n    <tr>\n      <th>7</th>\n      <td>13</td>\n      <td>4.73%</td>\n    </tr>\n    <tr>\n      <th>8</th>\n      <td>21</td>\n      <td>7.64%</td>\n    </tr>\n    <tr>\n      <th>9</th>\n      <td>1</td>\n      <td>0.36%</td>\n    </tr>\n    <tr>\n      <th>10</th>\n      <td>27</td>\n      <td>9.82%</td>\n    </tr>\n  </tbody>\n</table>\n</div>"
     },
     "execution_count": 14,
     "metadata": {},
     "output_type": "execute_result"
    }
   ],
   "source": [
    "cluster_value_counts['Percentage'] =cluster_value_counts['Num']/len(train_df\n",
    "                                                                )\n",
    "cluster_value_counts['Percentage'] = cluster_value_counts['Percentage'].apply(lambda x: format(x, '.2%'))\n",
    "cluster_value_counts"
   ],
   "metadata": {
    "collapsed": false,
    "pycharm": {
     "name": "#%%\n"
    }
   }
  },
  {
   "cell_type": "code",
   "execution_count": null,
   "outputs": [],
   "source": [],
   "metadata": {
    "collapsed": false,
    "pycharm": {
     "name": "#%%\n"
    }
   }
  }
 ],
 "metadata": {
  "kernelspec": {
   "display_name": "Python 3",
   "language": "python",
   "name": "python3"
  },
  "language_info": {
   "codemirror_mode": {
    "name": "ipython",
    "version": 2
   },
   "file_extension": ".py",
   "mimetype": "text/x-python",
   "name": "python",
   "nbconvert_exporter": "python",
   "pygments_lexer": "ipython2",
   "version": "2.7.6"
  }
 },
 "nbformat": 4,
 "nbformat_minor": 0
}