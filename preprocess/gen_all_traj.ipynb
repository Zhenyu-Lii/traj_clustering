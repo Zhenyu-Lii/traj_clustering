{
 "cells": [
  {
   "cell_type": "code",
   "execution_count": 11,
   "metadata": {
    "collapsed": true
   },
   "outputs": [],
   "source": [
    "import read__geolife as rg\n",
    "import os, time\n",
    "import pandas as pd"
   ]
  },
  {
   "cell_type": "code",
   "execution_count": 12,
   "outputs": [],
   "source": [
    "def del_traj_day(df, col_name):\n",
    "    d = pd.DataFrame(df[col_name].value_counts())\n",
    "    d.columns = ['nums']\n",
    "    # 少于5天的次的全部删除\n",
    "    d = d[d['nums'] < 5]\n",
    "    delindexs = d.index\n",
    "    print(len(delindexs))\n",
    "    return df[~df[col_name].isin(delindexs)]"
   ],
   "metadata": {
    "collapsed": false,
    "pycharm": {
     "name": "#%%\n"
    }
   }
  },
  {
   "cell_type": "code",
   "execution_count": 13,
   "outputs": [],
   "source": [
    "def get_ts_mode_mean(df):\n",
    "    t1 = df.groupby(['lat', 'lon']).size().reset_index()\n",
    "    t1.columns = ['a', 'b', 'count']\n",
    "    t2 = t1.groupby(['a'])['count'].max().reset_index()\n",
    "    t2.columns = ['a', 'max_count']\n",
    "    t1 = t1.merge(t2, on=['a'], how='left')\n",
    "    t1 = t1[t1['count']==t1['max_count']]\n",
    "    t1 = t1.groupby(['a'])['b'].mean().reset_index()\n",
    "    t1"
   ],
   "metadata": {
    "collapsed": false,
    "pycharm": {
     "name": "#%%\n"
    }
   }
  },
  {
   "cell_type": "code",
   "execution_count": 14,
   "outputs": [],
   "source": [
    "# 每個timeslot的軌跡是最後一次出現的軌跡\n",
    "def get_slot_by_unix(ts):\n",
    "    dt = time.localtime(ts)\n",
    "    day, hour, minute = dt.tm_mday, dt.tm_hour, dt.tm_min\n",
    "    slot = hour * 2 + (0 if minute <= 30 else 1)\n",
    "    return slot"
   ],
   "metadata": {
    "collapsed": false,
    "pycharm": {
     "name": "#%%\n"
    }
   }
  },
  {
   "cell_type": "code",
   "execution_count": 15,
   "outputs": [],
   "source": [
    "def ts_to_slot(ts):\n",
    "    ans = [0] * 48\n",
    "    for t in ts:\n",
    "        slot = get_slot_by_unix(t)\n",
    "        ans[slot] = 1\n",
    "    return ans"
   ],
   "metadata": {
    "collapsed": false,
    "pycharm": {
     "name": "#%%\n"
    }
   }
  },
  {
   "cell_type": "code",
   "execution_count": 16,
   "outputs": [],
   "source": [
    "def traj_to_slot(trajectory, ts, pad=0):\n",
    "    ans = [pad] * 48\n",
    "    for i in range(len(ts)):\n",
    "        slot_id = get_slot_by_unix(ts[i])\n",
    "        ans[slot_id] = trajectory[i]\n",
    "    return ans"
   ],
   "metadata": {
    "collapsed": false,
    "pycharm": {
     "name": "#%%\n"
    }
   }
  },
  {
   "cell_type": "code",
   "execution_count": 17,
   "outputs": [],
   "source": [
    "def get_loc_index(lon, lat):\n",
    "    df = pd.read_csv('./loc_index.csv')\n"
   ],
   "metadata": {
    "collapsed": false,
    "pycharm": {
     "name": "#%%\n"
    }
   }
  },
  {
   "cell_type": "code",
   "execution_count": 18,
   "outputs": [
    {
     "name": "stdout",
     "output_type": "stream",
     "text": [
      "[1/182] processing user 169\n",
      "[2/182] processing user 054\n",
      "[3/182] processing user 107\n",
      "[4/182] processing user 171\n"
     ]
    },
    {
     "name": "stderr",
     "output_type": "stream",
     "text": [
      "/home/lizhenyu/Project/E2DTC/preprocess/read__geolife.py:40: SettingWithCopyWarning: \n",
      "A value is trying to be set on a copy of a slice from a DataFrame\n",
      "\n",
      "See the caveats in the documentation: https://pandas.pydata.org/pandas-docs/stable/user_guide/indexing.html#returning-a-view-versus-a-copy\n",
      "  points['label'][no_label] = 0\n",
      "/home/lizhenyu/Project/E2DTC/preprocess/read__geolife.py:40: SettingWithCopyWarning: \n",
      "A value is trying to be set on a copy of a slice from a DataFrame\n",
      "\n",
      "See the caveats in the documentation: https://pandas.pydata.org/pandas-docs/stable/user_guide/indexing.html#returning-a-view-versus-a-copy\n",
      "  points['label'][no_label] = 0\n"
     ]
    },
    {
     "name": "stdout",
     "output_type": "stream",
     "text": [
      "[5/182] processing user 098\n",
      "[6/182] processing user 013\n",
      "[7/182] processing user 007\n",
      "[8/182] processing user 089\n",
      "[9/182] processing user 165\n"
     ]
    },
    {
     "name": "stderr",
     "output_type": "stream",
     "text": [
      "/home/lizhenyu/Project/E2DTC/preprocess/read__geolife.py:40: SettingWithCopyWarning: \n",
      "A value is trying to be set on a copy of a slice from a DataFrame\n",
      "\n",
      "See the caveats in the documentation: https://pandas.pydata.org/pandas-docs/stable/user_guide/indexing.html#returning-a-view-versus-a-copy\n",
      "  points['label'][no_label] = 0\n"
     ]
    },
    {
     "name": "stdout",
     "output_type": "stream",
     "text": [
      "[10/182] processing user 102\n",
      "[11/182] processing user 006\n",
      "[12/182] processing user 126\n"
     ]
    },
    {
     "name": "stderr",
     "output_type": "stream",
     "text": [
      "/home/lizhenyu/Project/E2DTC/preprocess/read__geolife.py:40: SettingWithCopyWarning: \n",
      "A value is trying to be set on a copy of a slice from a DataFrame\n",
      "\n",
      "See the caveats in the documentation: https://pandas.pydata.org/pandas-docs/stable/user_guide/indexing.html#returning-a-view-versus-a-copy\n",
      "  points['label'][no_label] = 0\n",
      "/home/lizhenyu/Project/E2DTC/preprocess/read__geolife.py:40: SettingWithCopyWarning: \n",
      "A value is trying to be set on a copy of a slice from a DataFrame\n",
      "\n",
      "See the caveats in the documentation: https://pandas.pydata.org/pandas-docs/stable/user_guide/indexing.html#returning-a-view-versus-a-copy\n",
      "  points['label'][no_label] = 0\n",
      "/home/lizhenyu/Project/E2DTC/preprocess/read__geolife.py:40: SettingWithCopyWarning: \n",
      "A value is trying to be set on a copy of a slice from a DataFrame\n",
      "\n",
      "See the caveats in the documentation: https://pandas.pydata.org/pandas-docs/stable/user_guide/indexing.html#returning-a-view-versus-a-copy\n",
      "  points['label'][no_label] = 0\n"
     ]
    },
    {
     "name": "stdout",
     "output_type": "stream",
     "text": [
      "[13/182] processing user 045\n",
      "[14/182] processing user 101\n",
      "[15/182] processing user 142\n",
      "[16/182] processing user 023\n",
      "[17/182] processing user 017\n",
      "[18/182] processing user 041\n",
      "[19/182] processing user 108\n",
      "[20/182] processing user 020\n"
     ]
    },
    {
     "name": "stderr",
     "output_type": "stream",
     "text": [
      "/home/lizhenyu/Project/E2DTC/preprocess/read__geolife.py:40: SettingWithCopyWarning: \n",
      "A value is trying to be set on a copy of a slice from a DataFrame\n",
      "\n",
      "See the caveats in the documentation: https://pandas.pydata.org/pandas-docs/stable/user_guide/indexing.html#returning-a-view-versus-a-copy\n",
      "  points['label'][no_label] = 0\n",
      "/home/lizhenyu/Project/E2DTC/preprocess/read__geolife.py:40: SettingWithCopyWarning: \n",
      "A value is trying to be set on a copy of a slice from a DataFrame\n",
      "\n",
      "See the caveats in the documentation: https://pandas.pydata.org/pandas-docs/stable/user_guide/indexing.html#returning-a-view-versus-a-copy\n",
      "  points['label'][no_label] = 0\n"
     ]
    },
    {
     "name": "stdout",
     "output_type": "stream",
     "text": [
      "[21/182] processing user 104\n"
     ]
    },
    {
     "name": "stderr",
     "output_type": "stream",
     "text": [
      "/home/lizhenyu/Project/E2DTC/preprocess/read__geolife.py:40: SettingWithCopyWarning: \n",
      "A value is trying to be set on a copy of a slice from a DataFrame\n",
      "\n",
      "See the caveats in the documentation: https://pandas.pydata.org/pandas-docs/stable/user_guide/indexing.html#returning-a-view-versus-a-copy\n",
      "  points['label'][no_label] = 0\n"
     ]
    },
    {
     "name": "stdout",
     "output_type": "stream",
     "text": [
      "[22/182] processing user 127\n",
      "[23/182] processing user 043\n",
      "[24/182] processing user 128\n"
     ]
    },
    {
     "name": "stderr",
     "output_type": "stream",
     "text": [
      "/home/lizhenyu/Project/E2DTC/preprocess/read__geolife.py:40: SettingWithCopyWarning: \n",
      "A value is trying to be set on a copy of a slice from a DataFrame\n",
      "\n",
      "See the caveats in the documentation: https://pandas.pydata.org/pandas-docs/stable/user_guide/indexing.html#returning-a-view-versus-a-copy\n",
      "  points['label'][no_label] = 0\n"
     ]
    },
    {
     "name": "stdout",
     "output_type": "stream",
     "text": [
      "[25/182] processing user 162\n",
      "[26/182] processing user 002\n",
      "[27/182] processing user 168\n",
      "[28/182] processing user 082\n"
     ]
    },
    {
     "name": "stderr",
     "output_type": "stream",
     "text": [
      "/home/lizhenyu/Project/E2DTC/preprocess/read__geolife.py:40: SettingWithCopyWarning: \n",
      "A value is trying to be set on a copy of a slice from a DataFrame\n",
      "\n",
      "See the caveats in the documentation: https://pandas.pydata.org/pandas-docs/stable/user_guide/indexing.html#returning-a-view-versus-a-copy\n",
      "  points['label'][no_label] = 0\n"
     ]
    },
    {
     "name": "stdout",
     "output_type": "stream",
     "text": [
      "[29/182] processing user 159\n",
      "[30/182] processing user 115\n"
     ]
    },
    {
     "name": "stderr",
     "output_type": "stream",
     "text": [
      "/home/lizhenyu/Project/E2DTC/preprocess/read__geolife.py:40: SettingWithCopyWarning: \n",
      "A value is trying to be set on a copy of a slice from a DataFrame\n",
      "\n",
      "See the caveats in the documentation: https://pandas.pydata.org/pandas-docs/stable/user_guide/indexing.html#returning-a-view-versus-a-copy\n",
      "  points['label'][no_label] = 0\n"
     ]
    },
    {
     "name": "stdout",
     "output_type": "stream",
     "text": [
      "[31/182] processing user 039\n",
      "[32/182] processing user 012\n",
      "[33/182] processing user 026\n",
      "[34/182] processing user 173\n",
      "[35/182] processing user 093\n",
      "[36/182] processing user 072\n",
      "[37/182] processing user 081\n",
      "[38/182] processing user 062\n"
     ]
    },
    {
     "name": "stderr",
     "output_type": "stream",
     "text": [
      "/home/lizhenyu/Project/E2DTC/preprocess/read__geolife.py:40: SettingWithCopyWarning: \n",
      "A value is trying to be set on a copy of a slice from a DataFrame\n",
      "\n",
      "See the caveats in the documentation: https://pandas.pydata.org/pandas-docs/stable/user_guide/indexing.html#returning-a-view-versus-a-copy\n",
      "  points['label'][no_label] = 0\n",
      "/home/lizhenyu/Project/E2DTC/preprocess/read__geolife.py:40: SettingWithCopyWarning: \n",
      "A value is trying to be set on a copy of a slice from a DataFrame\n",
      "\n",
      "See the caveats in the documentation: https://pandas.pydata.org/pandas-docs/stable/user_guide/indexing.html#returning-a-view-versus-a-copy\n",
      "  points['label'][no_label] = 0\n"
     ]
    },
    {
     "name": "stdout",
     "output_type": "stream",
     "text": [
      "[39/182] processing user 146\n",
      "[40/182] processing user 016\n",
      "[41/182] processing user 080\n",
      "[42/182] processing user 029\n",
      "[43/182] processing user 030\n"
     ]
    },
    {
     "name": "stderr",
     "output_type": "stream",
     "text": [
      "/home/lizhenyu/Project/E2DTC/preprocess/read__geolife.py:40: SettingWithCopyWarning: \n",
      "A value is trying to be set on a copy of a slice from a DataFrame\n",
      "\n",
      "See the caveats in the documentation: https://pandas.pydata.org/pandas-docs/stable/user_guide/indexing.html#returning-a-view-versus-a-copy\n",
      "  points['label'][no_label] = 0\n"
     ]
    },
    {
     "name": "stdout",
     "output_type": "stream",
     "text": [
      "[44/182] processing user 018\n",
      "[45/182] processing user 134\n",
      "[46/182] processing user 138\n",
      "[47/182] processing user 077\n",
      "[48/182] processing user 064\n",
      "[49/182] processing user 004\n"
     ]
    },
    {
     "name": "stderr",
     "output_type": "stream",
     "text": [
      "/home/lizhenyu/Project/E2DTC/preprocess/read__geolife.py:40: SettingWithCopyWarning: \n",
      "A value is trying to be set on a copy of a slice from a DataFrame\n",
      "\n",
      "See the caveats in the documentation: https://pandas.pydata.org/pandas-docs/stable/user_guide/indexing.html#returning-a-view-versus-a-copy\n",
      "  points['label'][no_label] = 0\n",
      "/home/lizhenyu/Project/E2DTC/preprocess/read__geolife.py:40: SettingWithCopyWarning: \n",
      "A value is trying to be set on a copy of a slice from a DataFrame\n",
      "\n",
      "See the caveats in the documentation: https://pandas.pydata.org/pandas-docs/stable/user_guide/indexing.html#returning-a-view-versus-a-copy\n",
      "  points['label'][no_label] = 0\n"
     ]
    },
    {
     "name": "stdout",
     "output_type": "stream",
     "text": [
      "[50/182] processing user 158\n",
      "[51/182] processing user 014\n",
      "[52/182] processing user 096\n"
     ]
    },
    {
     "name": "stderr",
     "output_type": "stream",
     "text": [
      "/home/lizhenyu/Project/E2DTC/preprocess/read__geolife.py:40: SettingWithCopyWarning: \n",
      "A value is trying to be set on a copy of a slice from a DataFrame\n",
      "\n",
      "See the caveats in the documentation: https://pandas.pydata.org/pandas-docs/stable/user_guide/indexing.html#returning-a-view-versus-a-copy\n",
      "  points['label'][no_label] = 0\n",
      "/home/lizhenyu/Project/E2DTC/preprocess/read__geolife.py:40: SettingWithCopyWarning: \n",
      "A value is trying to be set on a copy of a slice from a DataFrame\n",
      "\n",
      "See the caveats in the documentation: https://pandas.pydata.org/pandas-docs/stable/user_guide/indexing.html#returning-a-view-versus-a-copy\n",
      "  points['label'][no_label] = 0\n",
      "/home/lizhenyu/Project/E2DTC/preprocess/read__geolife.py:40: SettingWithCopyWarning: \n",
      "A value is trying to be set on a copy of a slice from a DataFrame\n",
      "\n",
      "See the caveats in the documentation: https://pandas.pydata.org/pandas-docs/stable/user_guide/indexing.html#returning-a-view-versus-a-copy\n",
      "  points['label'][no_label] = 0\n",
      "/home/lizhenyu/Project/E2DTC/preprocess/read__geolife.py:40: SettingWithCopyWarning: \n",
      "A value is trying to be set on a copy of a slice from a DataFrame\n",
      "\n",
      "See the caveats in the documentation: https://pandas.pydata.org/pandas-docs/stable/user_guide/indexing.html#returning-a-view-versus-a-copy\n",
      "  points['label'][no_label] = 0\n",
      "/home/lizhenyu/Project/E2DTC/preprocess/read__geolife.py:40: SettingWithCopyWarning: \n",
      "A value is trying to be set on a copy of a slice from a DataFrame\n",
      "\n",
      "See the caveats in the documentation: https://pandas.pydata.org/pandas-docs/stable/user_guide/indexing.html#returning-a-view-versus-a-copy\n",
      "  points['label'][no_label] = 0\n"
     ]
    },
    {
     "name": "stdout",
     "output_type": "stream",
     "text": [
      "[53/182] processing user 076\n",
      "[54/182] processing user 161\n",
      "[55/182] processing user 075\n",
      "[56/182] processing user 086\n",
      "[57/182] processing user 058\n"
     ]
    },
    {
     "name": "stderr",
     "output_type": "stream",
     "text": [
      "/home/lizhenyu/Project/E2DTC/preprocess/read__geolife.py:40: SettingWithCopyWarning: \n",
      "A value is trying to be set on a copy of a slice from a DataFrame\n",
      "\n",
      "See the caveats in the documentation: https://pandas.pydata.org/pandas-docs/stable/user_guide/indexing.html#returning-a-view-versus-a-copy\n",
      "  points['label'][no_label] = 0\n"
     ]
    },
    {
     "name": "stdout",
     "output_type": "stream",
     "text": [
      "[58/182] processing user 068\n"
     ]
    },
    {
     "name": "stderr",
     "output_type": "stream",
     "text": [
      "/home/lizhenyu/Project/E2DTC/preprocess/read__geolife.py:40: SettingWithCopyWarning: \n",
      "A value is trying to be set on a copy of a slice from a DataFrame\n",
      "\n",
      "See the caveats in the documentation: https://pandas.pydata.org/pandas-docs/stable/user_guide/indexing.html#returning-a-view-versus-a-copy\n",
      "  points['label'][no_label] = 0\n"
     ]
    },
    {
     "name": "stdout",
     "output_type": "stream",
     "text": [
      "[59/182] processing user 073\n"
     ]
    },
    {
     "name": "stderr",
     "output_type": "stream",
     "text": [
      "/home/lizhenyu/Project/E2DTC/preprocess/read__geolife.py:40: SettingWithCopyWarning: \n",
      "A value is trying to be set on a copy of a slice from a DataFrame\n",
      "\n",
      "See the caveats in the documentation: https://pandas.pydata.org/pandas-docs/stable/user_guide/indexing.html#returning-a-view-versus-a-copy\n",
      "  points['label'][no_label] = 0\n"
     ]
    },
    {
     "name": "stdout",
     "output_type": "stream",
     "text": [
      "[60/182] processing user 000\n",
      "[61/182] processing user 095\n",
      "[62/182] processing user 011\n",
      "[63/182] processing user 120\n",
      "[64/182] processing user 087\n",
      "[65/182] processing user 150\n",
      "[66/182] processing user 038\n"
     ]
    },
    {
     "name": "stderr",
     "output_type": "stream",
     "text": [
      "/home/lizhenyu/Project/E2DTC/preprocess/read__geolife.py:40: SettingWithCopyWarning: \n",
      "A value is trying to be set on a copy of a slice from a DataFrame\n",
      "\n",
      "See the caveats in the documentation: https://pandas.pydata.org/pandas-docs/stable/user_guide/indexing.html#returning-a-view-versus-a-copy\n",
      "  points['label'][no_label] = 0\n"
     ]
    },
    {
     "name": "stdout",
     "output_type": "stream",
     "text": [
      "[67/182] processing user 152\n",
      "[68/182] processing user 022\n",
      "[69/182] processing user 094\n",
      "[70/182] processing user 176\n",
      "[71/182] processing user 048\n",
      "[72/182] processing user 019\n",
      "[73/182] processing user 135\n",
      "[74/182] processing user 063\n",
      "[75/182] processing user 114\n"
     ]
    },
    {
     "name": "stderr",
     "output_type": "stream",
     "text": [
      "/home/lizhenyu/Project/E2DTC/preprocess/read__geolife.py:40: SettingWithCopyWarning: \n",
      "A value is trying to be set on a copy of a slice from a DataFrame\n",
      "\n",
      "See the caveats in the documentation: https://pandas.pydata.org/pandas-docs/stable/user_guide/indexing.html#returning-a-view-versus-a-copy\n",
      "  points['label'][no_label] = 0\n"
     ]
    },
    {
     "name": "stdout",
     "output_type": "stream",
     "text": [
      "[76/182] processing user 050\n",
      "[77/182] processing user 117\n",
      "[78/182] processing user 010\n"
     ]
    },
    {
     "name": "stderr",
     "output_type": "stream",
     "text": [
      "/home/lizhenyu/Project/E2DTC/preprocess/read__geolife.py:40: SettingWithCopyWarning: \n",
      "A value is trying to be set on a copy of a slice from a DataFrame\n",
      "\n",
      "See the caveats in the documentation: https://pandas.pydata.org/pandas-docs/stable/user_guide/indexing.html#returning-a-view-versus-a-copy\n",
      "  points['label'][no_label] = 0\n",
      "/home/lizhenyu/Project/E2DTC/preprocess/read__geolife.py:40: SettingWithCopyWarning: \n",
      "A value is trying to be set on a copy of a slice from a DataFrame\n",
      "\n",
      "See the caveats in the documentation: https://pandas.pydata.org/pandas-docs/stable/user_guide/indexing.html#returning-a-view-versus-a-copy\n",
      "  points['label'][no_label] = 0\n"
     ]
    },
    {
     "name": "stdout",
     "output_type": "stream",
     "text": [
      "[79/182] processing user 144\n"
     ]
    },
    {
     "name": "stderr",
     "output_type": "stream",
     "text": [
      "/home/lizhenyu/Project/E2DTC/preprocess/read__geolife.py:40: SettingWithCopyWarning: \n",
      "A value is trying to be set on a copy of a slice from a DataFrame\n",
      "\n",
      "See the caveats in the documentation: https://pandas.pydata.org/pandas-docs/stable/user_guide/indexing.html#returning-a-view-versus-a-copy\n",
      "  points['label'][no_label] = 0\n"
     ]
    },
    {
     "name": "stdout",
     "output_type": "stream",
     "text": [
      "[80/182] processing user 179\n"
     ]
    },
    {
     "name": "stderr",
     "output_type": "stream",
     "text": [
      "/home/lizhenyu/Project/E2DTC/preprocess/read__geolife.py:40: SettingWithCopyWarning: \n",
      "A value is trying to be set on a copy of a slice from a DataFrame\n",
      "\n",
      "See the caveats in the documentation: https://pandas.pydata.org/pandas-docs/stable/user_guide/indexing.html#returning-a-view-versus-a-copy\n",
      "  points['label'][no_label] = 0\n"
     ]
    },
    {
     "name": "stdout",
     "output_type": "stream",
     "text": [
      "[81/182] processing user 028\n",
      "[82/182] processing user 148\n",
      "[83/182] processing user 119\n",
      "[84/182] processing user 111\n",
      "[85/182] processing user 069\n",
      "[86/182] processing user 025\n"
     ]
    },
    {
     "name": "stderr",
     "output_type": "stream",
     "text": [
      "/home/lizhenyu/Project/E2DTC/preprocess/read__geolife.py:40: SettingWithCopyWarning: \n",
      "A value is trying to be set on a copy of a slice from a DataFrame\n",
      "\n",
      "See the caveats in the documentation: https://pandas.pydata.org/pandas-docs/stable/user_guide/indexing.html#returning-a-view-versus-a-copy\n",
      "  points['label'][no_label] = 0\n",
      "/home/lizhenyu/Project/E2DTC/preprocess/read__geolife.py:40: SettingWithCopyWarning: \n",
      "A value is trying to be set on a copy of a slice from a DataFrame\n",
      "\n",
      "See the caveats in the documentation: https://pandas.pydata.org/pandas-docs/stable/user_guide/indexing.html#returning-a-view-versus-a-copy\n",
      "  points['label'][no_label] = 0\n"
     ]
    },
    {
     "name": "stdout",
     "output_type": "stream",
     "text": [
      "[87/182] processing user 044\n",
      "[88/182] processing user 052\n"
     ]
    },
    {
     "name": "stderr",
     "output_type": "stream",
     "text": [
      "/home/lizhenyu/Project/E2DTC/preprocess/read__geolife.py:40: SettingWithCopyWarning: \n",
      "A value is trying to be set on a copy of a slice from a DataFrame\n",
      "\n",
      "See the caveats in the documentation: https://pandas.pydata.org/pandas-docs/stable/user_guide/indexing.html#returning-a-view-versus-a-copy\n",
      "  points['label'][no_label] = 0\n",
      "/home/lizhenyu/Project/E2DTC/preprocess/read__geolife.py:40: SettingWithCopyWarning: \n",
      "A value is trying to be set on a copy of a slice from a DataFrame\n",
      "\n",
      "See the caveats in the documentation: https://pandas.pydata.org/pandas-docs/stable/user_guide/indexing.html#returning-a-view-versus-a-copy\n",
      "  points['label'][no_label] = 0\n"
     ]
    },
    {
     "name": "stdout",
     "output_type": "stream",
     "text": [
      "[89/182] processing user 088\n",
      "[90/182] processing user 097\n"
     ]
    },
    {
     "name": "stderr",
     "output_type": "stream",
     "text": [
      "/home/lizhenyu/Project/E2DTC/preprocess/read__geolife.py:40: SettingWithCopyWarning: \n",
      "A value is trying to be set on a copy of a slice from a DataFrame\n",
      "\n",
      "See the caveats in the documentation: https://pandas.pydata.org/pandas-docs/stable/user_guide/indexing.html#returning-a-view-versus-a-copy\n",
      "  points['label'][no_label] = 0\n",
      "/home/lizhenyu/Project/E2DTC/preprocess/read__geolife.py:40: SettingWithCopyWarning: \n",
      "A value is trying to be set on a copy of a slice from a DataFrame\n",
      "\n",
      "See the caveats in the documentation: https://pandas.pydata.org/pandas-docs/stable/user_guide/indexing.html#returning-a-view-versus-a-copy\n",
      "  points['label'][no_label] = 0\n"
     ]
    },
    {
     "name": "stdout",
     "output_type": "stream",
     "text": [
      "[91/182] processing user 118\n",
      "[92/182] processing user 125\n"
     ]
    },
    {
     "name": "stderr",
     "output_type": "stream",
     "text": [
      "/home/lizhenyu/Project/E2DTC/preprocess/read__geolife.py:40: SettingWithCopyWarning: \n",
      "A value is trying to be set on a copy of a slice from a DataFrame\n",
      "\n",
      "See the caveats in the documentation: https://pandas.pydata.org/pandas-docs/stable/user_guide/indexing.html#returning-a-view-versus-a-copy\n",
      "  points['label'][no_label] = 0\n"
     ]
    },
    {
     "name": "stdout",
     "output_type": "stream",
     "text": [
      "[93/182] processing user 090\n",
      "[94/182] processing user 177\n",
      "[95/182] processing user 167\n"
     ]
    },
    {
     "name": "stderr",
     "output_type": "stream",
     "text": [
      "/home/lizhenyu/Project/E2DTC/preprocess/read__geolife.py:40: SettingWithCopyWarning: \n",
      "A value is trying to be set on a copy of a slice from a DataFrame\n",
      "\n",
      "See the caveats in the documentation: https://pandas.pydata.org/pandas-docs/stable/user_guide/indexing.html#returning-a-view-versus-a-copy\n",
      "  points['label'][no_label] = 0\n"
     ]
    },
    {
     "name": "stdout",
     "output_type": "stream",
     "text": [
      "[96/182] processing user 085\n"
     ]
    },
    {
     "name": "stderr",
     "output_type": "stream",
     "text": [
      "/home/lizhenyu/Project/E2DTC/preprocess/read__geolife.py:40: SettingWithCopyWarning: \n",
      "A value is trying to be set on a copy of a slice from a DataFrame\n",
      "\n",
      "See the caveats in the documentation: https://pandas.pydata.org/pandas-docs/stable/user_guide/indexing.html#returning-a-view-versus-a-copy\n",
      "  points['label'][no_label] = 0\n",
      "/home/lizhenyu/Project/E2DTC/preprocess/read__geolife.py:40: SettingWithCopyWarning: \n",
      "A value is trying to be set on a copy of a slice from a DataFrame\n",
      "\n",
      "See the caveats in the documentation: https://pandas.pydata.org/pandas-docs/stable/user_guide/indexing.html#returning-a-view-versus-a-copy\n",
      "  points['label'][no_label] = 0\n"
     ]
    },
    {
     "name": "stdout",
     "output_type": "stream",
     "text": [
      "[97/182] processing user 060\n",
      "[98/182] processing user 033\n",
      "[99/182] processing user 015\n",
      "[100/182] processing user 067\n"
     ]
    },
    {
     "name": "stderr",
     "output_type": "stream",
     "text": [
      "/home/lizhenyu/Project/E2DTC/preprocess/read__geolife.py:40: SettingWithCopyWarning: \n",
      "A value is trying to be set on a copy of a slice from a DataFrame\n",
      "\n",
      "See the caveats in the documentation: https://pandas.pydata.org/pandas-docs/stable/user_guide/indexing.html#returning-a-view-versus-a-copy\n",
      "  points['label'][no_label] = 0\n",
      "/home/lizhenyu/Project/E2DTC/preprocess/read__geolife.py:40: SettingWithCopyWarning: \n",
      "A value is trying to be set on a copy of a slice from a DataFrame\n",
      "\n",
      "See the caveats in the documentation: https://pandas.pydata.org/pandas-docs/stable/user_guide/indexing.html#returning-a-view-versus-a-copy\n",
      "  points['label'][no_label] = 0\n",
      "/home/lizhenyu/Project/E2DTC/preprocess/read__geolife.py:40: SettingWithCopyWarning: \n",
      "A value is trying to be set on a copy of a slice from a DataFrame\n",
      "\n",
      "See the caveats in the documentation: https://pandas.pydata.org/pandas-docs/stable/user_guide/indexing.html#returning-a-view-versus-a-copy\n",
      "  points['label'][no_label] = 0\n",
      "/home/lizhenyu/Project/E2DTC/preprocess/read__geolife.py:40: SettingWithCopyWarning: \n",
      "A value is trying to be set on a copy of a slice from a DataFrame\n",
      "\n",
      "See the caveats in the documentation: https://pandas.pydata.org/pandas-docs/stable/user_guide/indexing.html#returning-a-view-versus-a-copy\n",
      "  points['label'][no_label] = 0\n"
     ]
    },
    {
     "name": "stdout",
     "output_type": "stream",
     "text": [
      "[101/182] processing user 031\n",
      "[102/182] processing user 139\n",
      "[103/182] processing user 059\n",
      "[104/182] processing user 136\n",
      "[105/182] processing user 092\n"
     ]
    },
    {
     "name": "stderr",
     "output_type": "stream",
     "text": [
      "/home/lizhenyu/Project/E2DTC/preprocess/read__geolife.py:40: SettingWithCopyWarning: \n",
      "A value is trying to be set on a copy of a slice from a DataFrame\n",
      "\n",
      "See the caveats in the documentation: https://pandas.pydata.org/pandas-docs/stable/user_guide/indexing.html#returning-a-view-versus-a-copy\n",
      "  points['label'][no_label] = 0\n"
     ]
    },
    {
     "name": "stdout",
     "output_type": "stream",
     "text": [
      "[106/182] processing user 180\n",
      "[107/182] processing user 065\n"
     ]
    },
    {
     "name": "stderr",
     "output_type": "stream",
     "text": [
      "/home/lizhenyu/Project/E2DTC/preprocess/read__geolife.py:40: SettingWithCopyWarning: \n",
      "A value is trying to be set on a copy of a slice from a DataFrame\n",
      "\n",
      "See the caveats in the documentation: https://pandas.pydata.org/pandas-docs/stable/user_guide/indexing.html#returning-a-view-versus-a-copy\n",
      "  points['label'][no_label] = 0\n"
     ]
    },
    {
     "name": "stdout",
     "output_type": "stream",
     "text": [
      "[108/182] processing user 121\n",
      "[109/182] processing user 160\n",
      "[110/182] processing user 047\n",
      "[111/182] processing user 143\n",
      "[112/182] processing user 112\n"
     ]
    },
    {
     "name": "stderr",
     "output_type": "stream",
     "text": [
      "/home/lizhenyu/Project/E2DTC/preprocess/read__geolife.py:40: SettingWithCopyWarning: \n",
      "A value is trying to be set on a copy of a slice from a DataFrame\n",
      "\n",
      "See the caveats in the documentation: https://pandas.pydata.org/pandas-docs/stable/user_guide/indexing.html#returning-a-view-versus-a-copy\n",
      "  points['label'][no_label] = 0\n"
     ]
    },
    {
     "name": "stdout",
     "output_type": "stream",
     "text": [
      "[113/182] processing user 141\n"
     ]
    },
    {
     "name": "stderr",
     "output_type": "stream",
     "text": [
      "/home/lizhenyu/Project/E2DTC/preprocess/read__geolife.py:40: SettingWithCopyWarning: \n",
      "A value is trying to be set on a copy of a slice from a DataFrame\n",
      "\n",
      "See the caveats in the documentation: https://pandas.pydata.org/pandas-docs/stable/user_guide/indexing.html#returning-a-view-versus-a-copy\n",
      "  points['label'][no_label] = 0\n"
     ]
    },
    {
     "name": "stdout",
     "output_type": "stream",
     "text": [
      "[114/182] processing user 147\n"
     ]
    },
    {
     "name": "stderr",
     "output_type": "stream",
     "text": [
      "/home/lizhenyu/Project/E2DTC/preprocess/read__geolife.py:40: SettingWithCopyWarning: \n",
      "A value is trying to be set on a copy of a slice from a DataFrame\n",
      "\n",
      "See the caveats in the documentation: https://pandas.pydata.org/pandas-docs/stable/user_guide/indexing.html#returning-a-view-versus-a-copy\n",
      "  points['label'][no_label] = 0\n"
     ]
    },
    {
     "name": "stdout",
     "output_type": "stream",
     "text": [
      "[115/182] processing user 083\n",
      "[116/182] processing user 131\n",
      "[117/182] processing user 140\n",
      "[118/182] processing user 055\n",
      "[119/182] processing user 163\n"
     ]
    },
    {
     "name": "stderr",
     "output_type": "stream",
     "text": [
      "/home/lizhenyu/Project/E2DTC/preprocess/read__geolife.py:40: SettingWithCopyWarning: \n",
      "A value is trying to be set on a copy of a slice from a DataFrame\n",
      "\n",
      "See the caveats in the documentation: https://pandas.pydata.org/pandas-docs/stable/user_guide/indexing.html#returning-a-view-versus-a-copy\n",
      "  points['label'][no_label] = 0\n"
     ]
    },
    {
     "name": "stdout",
     "output_type": "stream",
     "text": [
      "[120/182] processing user 035\n",
      "[121/182] processing user 009\n",
      "[122/182] processing user 027\n",
      "[123/182] processing user 049\n",
      "[124/182] processing user 155\n",
      "[125/182] processing user 053\n",
      "[126/182] processing user 057\n"
     ]
    },
    {
     "name": "stderr",
     "output_type": "stream",
     "text": [
      "/home/lizhenyu/Project/E2DTC/preprocess/read__geolife.py:40: SettingWithCopyWarning: \n",
      "A value is trying to be set on a copy of a slice from a DataFrame\n",
      "\n",
      "See the caveats in the documentation: https://pandas.pydata.org/pandas-docs/stable/user_guide/indexing.html#returning-a-view-versus-a-copy\n",
      "  points['label'][no_label] = 0\n",
      "/home/lizhenyu/Project/E2DTC/preprocess/read__geolife.py:40: SettingWithCopyWarning: \n",
      "A value is trying to be set on a copy of a slice from a DataFrame\n",
      "\n",
      "See the caveats in the documentation: https://pandas.pydata.org/pandas-docs/stable/user_guide/indexing.html#returning-a-view-versus-a-copy\n",
      "  points['label'][no_label] = 0\n"
     ]
    },
    {
     "name": "stdout",
     "output_type": "stream",
     "text": [
      "[127/182] processing user 123\n",
      "[128/182] processing user 129\n",
      "[129/182] processing user 061\n",
      "[130/182] processing user 149\n",
      "[131/182] processing user 166\n",
      "[132/182] processing user 042\n",
      "[133/182] processing user 040\n",
      "[134/182] processing user 037\n",
      "[135/182] processing user 005\n",
      "[136/182] processing user 003\n",
      "[137/182] processing user 132\n",
      "[138/182] processing user 110\n",
      "[139/182] processing user 079\n",
      "[140/182] processing user 100\n",
      "[141/182] processing user 113\n"
     ]
    },
    {
     "name": "stderr",
     "output_type": "stream",
     "text": [
      "/home/lizhenyu/Project/E2DTC/preprocess/read__geolife.py:40: SettingWithCopyWarning: \n",
      "A value is trying to be set on a copy of a slice from a DataFrame\n",
      "\n",
      "See the caveats in the documentation: https://pandas.pydata.org/pandas-docs/stable/user_guide/indexing.html#returning-a-view-versus-a-copy\n",
      "  points['label'][no_label] = 0\n",
      "/home/lizhenyu/Project/E2DTC/preprocess/read__geolife.py:40: SettingWithCopyWarning: \n",
      "A value is trying to be set on a copy of a slice from a DataFrame\n",
      "\n",
      "See the caveats in the documentation: https://pandas.pydata.org/pandas-docs/stable/user_guide/indexing.html#returning-a-view-versus-a-copy\n",
      "  points['label'][no_label] = 0\n"
     ]
    },
    {
     "name": "stdout",
     "output_type": "stream",
     "text": [
      "[142/182] processing user 001\n",
      "[143/182] processing user 091\n"
     ]
    },
    {
     "name": "stderr",
     "output_type": "stream",
     "text": [
      "/home/lizhenyu/Project/E2DTC/preprocess/read__geolife.py:40: SettingWithCopyWarning: \n",
      "A value is trying to be set on a copy of a slice from a DataFrame\n",
      "\n",
      "See the caveats in the documentation: https://pandas.pydata.org/pandas-docs/stable/user_guide/indexing.html#returning-a-view-versus-a-copy\n",
      "  points['label'][no_label] = 0\n"
     ]
    },
    {
     "name": "stdout",
     "output_type": "stream",
     "text": [
      "[144/182] processing user 151\n",
      "[145/182] processing user 070\n",
      "[146/182] processing user 051\n",
      "[147/182] processing user 084\n"
     ]
    },
    {
     "name": "stderr",
     "output_type": "stream",
     "text": [
      "/home/lizhenyu/Project/E2DTC/preprocess/read__geolife.py:40: SettingWithCopyWarning: \n",
      "A value is trying to be set on a copy of a slice from a DataFrame\n",
      "\n",
      "See the caveats in the documentation: https://pandas.pydata.org/pandas-docs/stable/user_guide/indexing.html#returning-a-view-versus-a-copy\n",
      "  points['label'][no_label] = 0\n",
      "/home/lizhenyu/Project/E2DTC/preprocess/read__geolife.py:40: SettingWithCopyWarning: \n",
      "A value is trying to be set on a copy of a slice from a DataFrame\n",
      "\n",
      "See the caveats in the documentation: https://pandas.pydata.org/pandas-docs/stable/user_guide/indexing.html#returning-a-view-versus-a-copy\n",
      "  points['label'][no_label] = 0\n",
      "/home/lizhenyu/Project/E2DTC/preprocess/read__geolife.py:40: SettingWithCopyWarning: \n",
      "A value is trying to be set on a copy of a slice from a DataFrame\n",
      "\n",
      "See the caveats in the documentation: https://pandas.pydata.org/pandas-docs/stable/user_guide/indexing.html#returning-a-view-versus-a-copy\n",
      "  points['label'][no_label] = 0\n"
     ]
    },
    {
     "name": "stdout",
     "output_type": "stream",
     "text": [
      "[148/182] processing user 106\n",
      "[149/182] processing user 172\n",
      "[150/182] processing user 170\n",
      "[151/182] processing user 099\n",
      "[152/182] processing user 178\n",
      "[153/182] processing user 145\n",
      "[154/182] processing user 124\n"
     ]
    },
    {
     "name": "stderr",
     "output_type": "stream",
     "text": [
      "/home/lizhenyu/Project/E2DTC/preprocess/read__geolife.py:40: SettingWithCopyWarning: \n",
      "A value is trying to be set on a copy of a slice from a DataFrame\n",
      "\n",
      "See the caveats in the documentation: https://pandas.pydata.org/pandas-docs/stable/user_guide/indexing.html#returning-a-view-versus-a-copy\n",
      "  points['label'][no_label] = 0\n"
     ]
    },
    {
     "name": "stdout",
     "output_type": "stream",
     "text": [
      "[155/182] processing user 109\n",
      "[156/182] processing user 036\n",
      "[157/182] processing user 175\n",
      "[158/182] processing user 174\n",
      "[159/182] processing user 103\n"
     ]
    },
    {
     "name": "stderr",
     "output_type": "stream",
     "text": [
      "/home/lizhenyu/Project/E2DTC/preprocess/read__geolife.py:40: SettingWithCopyWarning: \n",
      "A value is trying to be set on a copy of a slice from a DataFrame\n",
      "\n",
      "See the caveats in the documentation: https://pandas.pydata.org/pandas-docs/stable/user_guide/indexing.html#returning-a-view-versus-a-copy\n",
      "  points['label'][no_label] = 0\n",
      "/home/lizhenyu/Project/E2DTC/preprocess/read__geolife.py:40: SettingWithCopyWarning: \n",
      "A value is trying to be set on a copy of a slice from a DataFrame\n",
      "\n",
      "See the caveats in the documentation: https://pandas.pydata.org/pandas-docs/stable/user_guide/indexing.html#returning-a-view-versus-a-copy\n",
      "  points['label'][no_label] = 0\n"
     ]
    },
    {
     "name": "stdout",
     "output_type": "stream",
     "text": [
      "[160/182] processing user 133\n",
      "[161/182] processing user 154\n",
      "[162/182] processing user 122\n",
      "[163/182] processing user 078\n"
     ]
    },
    {
     "name": "stderr",
     "output_type": "stream",
     "text": [
      "/home/lizhenyu/Project/E2DTC/preprocess/read__geolife.py:40: SettingWithCopyWarning: \n",
      "A value is trying to be set on a copy of a slice from a DataFrame\n",
      "\n",
      "See the caveats in the documentation: https://pandas.pydata.org/pandas-docs/stable/user_guide/indexing.html#returning-a-view-versus-a-copy\n",
      "  points['label'][no_label] = 0\n",
      "/home/lizhenyu/Project/E2DTC/preprocess/read__geolife.py:40: SettingWithCopyWarning: \n",
      "A value is trying to be set on a copy of a slice from a DataFrame\n",
      "\n",
      "See the caveats in the documentation: https://pandas.pydata.org/pandas-docs/stable/user_guide/indexing.html#returning-a-view-versus-a-copy\n",
      "  points['label'][no_label] = 0\n"
     ]
    },
    {
     "name": "stdout",
     "output_type": "stream",
     "text": [
      "[164/182] processing user 032\n",
      "[165/182] processing user 074\n",
      "[166/182] processing user 034\n",
      "[167/182] processing user 116\n",
      "[168/182] processing user 137\n",
      "[169/182] processing user 105\n",
      "[170/182] processing user 046\n",
      "[171/182] processing user 071\n"
     ]
    },
    {
     "name": "stderr",
     "output_type": "stream",
     "text": [
      "/home/lizhenyu/Project/E2DTC/preprocess/read__geolife.py:40: SettingWithCopyWarning: \n",
      "A value is trying to be set on a copy of a slice from a DataFrame\n",
      "\n",
      "See the caveats in the documentation: https://pandas.pydata.org/pandas-docs/stable/user_guide/indexing.html#returning-a-view-versus-a-copy\n",
      "  points['label'][no_label] = 0\n",
      "/home/lizhenyu/Project/E2DTC/preprocess/read__geolife.py:40: SettingWithCopyWarning: \n",
      "A value is trying to be set on a copy of a slice from a DataFrame\n",
      "\n",
      "See the caveats in the documentation: https://pandas.pydata.org/pandas-docs/stable/user_guide/indexing.html#returning-a-view-versus-a-copy\n",
      "  points['label'][no_label] = 0\n"
     ]
    },
    {
     "name": "stdout",
     "output_type": "stream",
     "text": [
      "[172/182] processing user 153\n"
     ]
    },
    {
     "name": "stderr",
     "output_type": "stream",
     "text": [
      "/home/lizhenyu/Project/E2DTC/preprocess/read__geolife.py:40: SettingWithCopyWarning: \n",
      "A value is trying to be set on a copy of a slice from a DataFrame\n",
      "\n",
      "See the caveats in the documentation: https://pandas.pydata.org/pandas-docs/stable/user_guide/indexing.html#returning-a-view-versus-a-copy\n",
      "  points['label'][no_label] = 0\n",
      "/home/lizhenyu/Project/E2DTC/preprocess/read__geolife.py:40: SettingWithCopyWarning: \n",
      "A value is trying to be set on a copy of a slice from a DataFrame\n",
      "\n",
      "See the caveats in the documentation: https://pandas.pydata.org/pandas-docs/stable/user_guide/indexing.html#returning-a-view-versus-a-copy\n",
      "  points['label'][no_label] = 0\n",
      "/home/lizhenyu/Project/E2DTC/preprocess/read__geolife.py:40: SettingWithCopyWarning: \n",
      "A value is trying to be set on a copy of a slice from a DataFrame\n",
      "\n",
      "See the caveats in the documentation: https://pandas.pydata.org/pandas-docs/stable/user_guide/indexing.html#returning-a-view-versus-a-copy\n",
      "  points['label'][no_label] = 0\n"
     ]
    },
    {
     "name": "stdout",
     "output_type": "stream",
     "text": [
      "[173/182] processing user 156\n",
      "[174/182] processing user 056\n",
      "[175/182] processing user 021\n",
      "[176/182] processing user 157\n",
      "[177/182] processing user 024\n",
      "[178/182] processing user 008\n",
      "[179/182] processing user 130\n",
      "[180/182] processing user 181\n",
      "[181/182] processing user 164\n",
      "[182/182] processing user 066\n"
     ]
    }
   ],
   "source": [
    "# all users\n",
    "df_all = rg.read_all_users('../data/geolife/Data')\n",
    "df_all.sort_values(by=['time'],inplace=True)"
   ],
   "metadata": {
    "collapsed": false,
    "pycharm": {
     "name": "#%%\n"
    }
   }
  },
  {
   "cell_type": "code",
   "execution_count": 21,
   "outputs": [],
   "source": [
    "df_all\n",
    "df_all.to_hdf('./Geolife_all_user.h5',key='data')"
   ],
   "metadata": {
    "collapsed": false,
    "pycharm": {
     "name": "#%%\n"
    }
   }
  },
  {
   "cell_type": "code",
   "execution_count": 92,
   "outputs": [
    {
     "data": {
      "text/plain": "                   time        lat         lon         alt  label  user\n0   2000-01-01 23:12:19  39.988992  116.327023  128.937005      0   163\n1   2000-01-01 23:13:21  39.990964  116.327041  221.128615      0   163\n2   2000-01-01 23:15:23  39.993207  116.326827  217.191591      0   163\n0   2007-04-12 09:31:32  39.974233  116.330383  823.490814      0   142\n1   2007-04-12 09:39:37  39.974317  116.330450  823.490814      0   142\n..                  ...        ...         ...         ...    ...   ...\n291 2012-07-27 08:31:03  39.979481  116.303499  131.760207      0   163\n292 2012-07-27 08:31:05  39.979475  116.303497  131.097241      0   163\n293 2012-07-27 08:31:10  39.979374  116.303522  126.235679      0   163\n294 2012-07-27 08:31:15  39.979190  116.303587  119.301427      0   163\n295 2012-07-27 08:31:20  39.979081  116.303572  112.078146      0   163\n\n[20163391 rows x 6 columns]",
      "text/html": "<div>\n<style scoped>\n    .dataframe tbody tr th:only-of-type {\n        vertical-align: middle;\n    }\n\n    .dataframe tbody tr th {\n        vertical-align: top;\n    }\n\n    .dataframe thead th {\n        text-align: right;\n    }\n</style>\n<table border=\"1\" class=\"dataframe\">\n  <thead>\n    <tr style=\"text-align: right;\">\n      <th></th>\n      <th>time</th>\n      <th>lat</th>\n      <th>lon</th>\n      <th>alt</th>\n      <th>label</th>\n      <th>user</th>\n    </tr>\n  </thead>\n  <tbody>\n    <tr>\n      <th>0</th>\n      <td>2000-01-01 23:12:19</td>\n      <td>39.988992</td>\n      <td>116.327023</td>\n      <td>128.937005</td>\n      <td>0</td>\n      <td>163</td>\n    </tr>\n    <tr>\n      <th>1</th>\n      <td>2000-01-01 23:13:21</td>\n      <td>39.990964</td>\n      <td>116.327041</td>\n      <td>221.128615</td>\n      <td>0</td>\n      <td>163</td>\n    </tr>\n    <tr>\n      <th>2</th>\n      <td>2000-01-01 23:15:23</td>\n      <td>39.993207</td>\n      <td>116.326827</td>\n      <td>217.191591</td>\n      <td>0</td>\n      <td>163</td>\n    </tr>\n    <tr>\n      <th>0</th>\n      <td>2007-04-12 09:31:32</td>\n      <td>39.974233</td>\n      <td>116.330383</td>\n      <td>823.490814</td>\n      <td>0</td>\n      <td>142</td>\n    </tr>\n    <tr>\n      <th>1</th>\n      <td>2007-04-12 09:39:37</td>\n      <td>39.974317</td>\n      <td>116.330450</td>\n      <td>823.490814</td>\n      <td>0</td>\n      <td>142</td>\n    </tr>\n    <tr>\n      <th>...</th>\n      <td>...</td>\n      <td>...</td>\n      <td>...</td>\n      <td>...</td>\n      <td>...</td>\n      <td>...</td>\n    </tr>\n    <tr>\n      <th>291</th>\n      <td>2012-07-27 08:31:03</td>\n      <td>39.979481</td>\n      <td>116.303499</td>\n      <td>131.760207</td>\n      <td>0</td>\n      <td>163</td>\n    </tr>\n    <tr>\n      <th>292</th>\n      <td>2012-07-27 08:31:05</td>\n      <td>39.979475</td>\n      <td>116.303497</td>\n      <td>131.097241</td>\n      <td>0</td>\n      <td>163</td>\n    </tr>\n    <tr>\n      <th>293</th>\n      <td>2012-07-27 08:31:10</td>\n      <td>39.979374</td>\n      <td>116.303522</td>\n      <td>126.235679</td>\n      <td>0</td>\n      <td>163</td>\n    </tr>\n    <tr>\n      <th>294</th>\n      <td>2012-07-27 08:31:15</td>\n      <td>39.979190</td>\n      <td>116.303587</td>\n      <td>119.301427</td>\n      <td>0</td>\n      <td>163</td>\n    </tr>\n    <tr>\n      <th>295</th>\n      <td>2012-07-27 08:31:20</td>\n      <td>39.979081</td>\n      <td>116.303572</td>\n      <td>112.078146</td>\n      <td>0</td>\n      <td>163</td>\n    </tr>\n  </tbody>\n</table>\n<p>20163391 rows × 6 columns</p>\n</div>"
     },
     "execution_count": 92,
     "metadata": {},
     "output_type": "execute_result"
    }
   ],
   "source": [
    "# 删除非北京的采样点\n",
    "lon = [115.416827, 117.508251]\n",
    "lat = [39.442078, 41.058964]\n",
    "df = df_all[(df_all.lat>lat[0])&(df_all.lat<lat[1])&(df_all.lon>lon[0]) & (df_all.lon<lon[1])]\n",
    "df"
   ],
   "metadata": {
    "collapsed": false,
    "pycharm": {
     "name": "#%%\n"
    }
   }
  },
  {
   "cell_type": "code",
   "execution_count": 96,
   "outputs": [
    {
     "name": "stderr",
     "output_type": "stream",
     "text": [
      "/tmp/ipykernel_2214526/3021142272.py:1: SettingWithCopyWarning: \n",
      "A value is trying to be set on a copy of a slice from a DataFrame.\n",
      "Try using .loc[row_indexer,col_indexer] = value instead\n",
      "\n",
      "See the caveats in the documentation: https://pandas.pydata.org/pandas-docs/stable/user_guide/indexing.html#returning-a-view-versus-a-copy\n",
      "  df['timestamp'] = df['time'].apply(lambda x: int(x.timestamp()))\n",
      "/tmp/ipykernel_2214526/3021142272.py:2: SettingWithCopyWarning: \n",
      "A value is trying to be set on a copy of a slice from a DataFrame.\n",
      "Try using .loc[row_indexer,col_indexer] = value instead\n",
      "\n",
      "See the caveats in the documentation: https://pandas.pydata.org/pandas-docs/stable/user_guide/indexing.html#returning-a-view-versus-a-copy\n",
      "  df['year'] = df['timestamp'].apply(lambda x: time.localtime(x).tm_year)\n",
      "/tmp/ipykernel_2214526/3021142272.py:3: SettingWithCopyWarning: \n",
      "A value is trying to be set on a copy of a slice from a DataFrame.\n",
      "Try using .loc[row_indexer,col_indexer] = value instead\n",
      "\n",
      "See the caveats in the documentation: https://pandas.pydata.org/pandas-docs/stable/user_guide/indexing.html#returning-a-view-versus-a-copy\n",
      "  df['month'] = df['timestamp'].apply(lambda x: time.localtime(x).tm_mon)\n",
      "/tmp/ipykernel_2214526/3021142272.py:4: SettingWithCopyWarning: \n",
      "A value is trying to be set on a copy of a slice from a DataFrame.\n",
      "Try using .loc[row_indexer,col_indexer] = value instead\n",
      "\n",
      "See the caveats in the documentation: https://pandas.pydata.org/pandas-docs/stable/user_guide/indexing.html#returning-a-view-versus-a-copy\n",
      "  df['day'] = df['timestamp'].apply(lambda x: time.localtime(x).tm_mday)\n",
      "/tmp/ipykernel_2214526/3021142272.py:5: SettingWithCopyWarning: \n",
      "A value is trying to be set on a copy of a slice from a DataFrame.\n",
      "Try using .loc[row_indexer,col_indexer] = value instead\n",
      "\n",
      "See the caveats in the documentation: https://pandas.pydata.org/pandas-docs/stable/user_guide/indexing.html#returning-a-view-versus-a-copy\n",
      "  df['slot_id'] = df['timestamp'].apply(lambda x: get_slot_by_unix(x))\n",
      "/tmp/ipykernel_2214526/3021142272.py:7: SettingWithCopyWarning: \n",
      "A value is trying to be set on a copy of a slice from a DataFrame\n",
      "\n",
      "See the caveats in the documentation: https://pandas.pydata.org/pandas-docs/stable/user_guide/indexing.html#returning-a-view-versus-a-copy\n",
      "  df.sort_values(by='user',inplace=True)\n"
     ]
    },
    {
     "data": {
      "text/plain": "                     time        lat         lon         alt  label  user  \\\n0     2009-05-12 05:31:02  40.008054  116.324130  159.000000      0     0   \n1     2009-04-14 04:43:25  39.762913  116.295306  492.000000      0     0   \n2     2009-06-16 14:58:00  40.001417  116.321702  113.000000      0     0   \n3     2009-06-16 15:00:00  39.999736  116.324415   51.000000      0     0   \n4     2009-06-16 16:16:38  39.999935  116.327138  106.000000      0     0   \n...                   ...        ...         ...         ...    ...   ...   \n72401 2007-12-11 05:49:32  39.922650  116.348017  147.637795      0   181   \n72402 2007-12-11 05:00:50  39.986733  116.298917  154.199475      0   181   \n72403 2007-12-11 04:47:55  39.982233  116.301467  259.186352      0   181   \n72404 2007-12-10 05:18:40  39.984433  116.299933  127.952756      0   181   \n72405 2007-12-31 08:36:45  39.989700  116.298483  177.165354      0   181   \n\n        timestamp  year  month  day  slot_id  \n0      1242106262  2009      5   12       27  \n1      1239684205  2009      4   14       25  \n2      1245164280  2009      6   16       45  \n3      1245164400  2009      6   16       46  \n4      1245168998  2009      6   17        0  \n...           ...   ...    ...  ...      ...  \n72401  1197352172  2007     12   11       27  \n72402  1197349250  2007     12   11       26  \n72403  1197348475  2007     12   11       25  \n72404  1197263920  2007     12   10       26  \n72405  1199090205  2007     12   31       33  \n\n[72406 rows x 11 columns]",
      "text/html": "<div>\n<style scoped>\n    .dataframe tbody tr th:only-of-type {\n        vertical-align: middle;\n    }\n\n    .dataframe tbody tr th {\n        vertical-align: top;\n    }\n\n    .dataframe thead th {\n        text-align: right;\n    }\n</style>\n<table border=\"1\" class=\"dataframe\">\n  <thead>\n    <tr style=\"text-align: right;\">\n      <th></th>\n      <th>time</th>\n      <th>lat</th>\n      <th>lon</th>\n      <th>alt</th>\n      <th>label</th>\n      <th>user</th>\n      <th>timestamp</th>\n      <th>year</th>\n      <th>month</th>\n      <th>day</th>\n      <th>slot_id</th>\n    </tr>\n  </thead>\n  <tbody>\n    <tr>\n      <th>0</th>\n      <td>2009-05-12 05:31:02</td>\n      <td>40.008054</td>\n      <td>116.324130</td>\n      <td>159.000000</td>\n      <td>0</td>\n      <td>0</td>\n      <td>1242106262</td>\n      <td>2009</td>\n      <td>5</td>\n      <td>12</td>\n      <td>27</td>\n    </tr>\n    <tr>\n      <th>1</th>\n      <td>2009-04-14 04:43:25</td>\n      <td>39.762913</td>\n      <td>116.295306</td>\n      <td>492.000000</td>\n      <td>0</td>\n      <td>0</td>\n      <td>1239684205</td>\n      <td>2009</td>\n      <td>4</td>\n      <td>14</td>\n      <td>25</td>\n    </tr>\n    <tr>\n      <th>2</th>\n      <td>2009-06-16 14:58:00</td>\n      <td>40.001417</td>\n      <td>116.321702</td>\n      <td>113.000000</td>\n      <td>0</td>\n      <td>0</td>\n      <td>1245164280</td>\n      <td>2009</td>\n      <td>6</td>\n      <td>16</td>\n      <td>45</td>\n    </tr>\n    <tr>\n      <th>3</th>\n      <td>2009-06-16 15:00:00</td>\n      <td>39.999736</td>\n      <td>116.324415</td>\n      <td>51.000000</td>\n      <td>0</td>\n      <td>0</td>\n      <td>1245164400</td>\n      <td>2009</td>\n      <td>6</td>\n      <td>16</td>\n      <td>46</td>\n    </tr>\n    <tr>\n      <th>4</th>\n      <td>2009-06-16 16:16:38</td>\n      <td>39.999935</td>\n      <td>116.327138</td>\n      <td>106.000000</td>\n      <td>0</td>\n      <td>0</td>\n      <td>1245168998</td>\n      <td>2009</td>\n      <td>6</td>\n      <td>17</td>\n      <td>0</td>\n    </tr>\n    <tr>\n      <th>...</th>\n      <td>...</td>\n      <td>...</td>\n      <td>...</td>\n      <td>...</td>\n      <td>...</td>\n      <td>...</td>\n      <td>...</td>\n      <td>...</td>\n      <td>...</td>\n      <td>...</td>\n      <td>...</td>\n    </tr>\n    <tr>\n      <th>72401</th>\n      <td>2007-12-11 05:49:32</td>\n      <td>39.922650</td>\n      <td>116.348017</td>\n      <td>147.637795</td>\n      <td>0</td>\n      <td>181</td>\n      <td>1197352172</td>\n      <td>2007</td>\n      <td>12</td>\n      <td>11</td>\n      <td>27</td>\n    </tr>\n    <tr>\n      <th>72402</th>\n      <td>2007-12-11 05:00:50</td>\n      <td>39.986733</td>\n      <td>116.298917</td>\n      <td>154.199475</td>\n      <td>0</td>\n      <td>181</td>\n      <td>1197349250</td>\n      <td>2007</td>\n      <td>12</td>\n      <td>11</td>\n      <td>26</td>\n    </tr>\n    <tr>\n      <th>72403</th>\n      <td>2007-12-11 04:47:55</td>\n      <td>39.982233</td>\n      <td>116.301467</td>\n      <td>259.186352</td>\n      <td>0</td>\n      <td>181</td>\n      <td>1197348475</td>\n      <td>2007</td>\n      <td>12</td>\n      <td>11</td>\n      <td>25</td>\n    </tr>\n    <tr>\n      <th>72404</th>\n      <td>2007-12-10 05:18:40</td>\n      <td>39.984433</td>\n      <td>116.299933</td>\n      <td>127.952756</td>\n      <td>0</td>\n      <td>181</td>\n      <td>1197263920</td>\n      <td>2007</td>\n      <td>12</td>\n      <td>10</td>\n      <td>26</td>\n    </tr>\n    <tr>\n      <th>72405</th>\n      <td>2007-12-31 08:36:45</td>\n      <td>39.989700</td>\n      <td>116.298483</td>\n      <td>177.165354</td>\n      <td>0</td>\n      <td>181</td>\n      <td>1199090205</td>\n      <td>2007</td>\n      <td>12</td>\n      <td>31</td>\n      <td>33</td>\n    </tr>\n  </tbody>\n</table>\n<p>72406 rows × 11 columns</p>\n</div>"
     },
     "execution_count": 96,
     "metadata": {},
     "output_type": "execute_result"
    }
   ],
   "source": [
    "df['timestamp'] = df['time'].apply(lambda x: int(x.timestamp()))\n",
    "df['year'] = df['timestamp'].apply(lambda x: time.localtime(x).tm_year)\n",
    "df['month'] = df['timestamp'].apply(lambda x: time.localtime(x).tm_mon)\n",
    "df['day'] = df['timestamp'].apply(lambda x: time.localtime(x).tm_mday)\n",
    "df['slot_id'] = df['timestamp'].apply(lambda x: get_slot_by_unix(x))\n",
    "df = df.drop_duplicates(subset=['user', 'year', 'month', 'day', 'slot_id'])\n",
    "df.sort_values(by='user',inplace=True)\n",
    "df.reset_index(drop=True, inplace=True)\n",
    "df"
   ],
   "metadata": {
    "collapsed": false,
    "pycharm": {
     "name": "#%%\n"
    }
   }
  },
  {
   "cell_type": "code",
   "execution_count": 97,
   "outputs": [
    {
     "data": {
      "text/plain": "[117.508232,\n 117.50823,\n 117.5082283,\n 117.5081933,\n 117.508193,\n 117.5081799,\n 117.5081483,\n 117.508128,\n 117.508117,\n 117.508068,\n 117.508019,\n 117.5079616,\n 117.5079416,\n 117.507684,\n 117.50767,\n 117.50749,\n 117.507419,\n 117.507126,\n 117.5071199,\n 117.506954,\n 117.5068066,\n 117.5067283,\n 117.5062233,\n 117.5058766,\n 117.5054216,\n 117.5051616,\n 117.5047,\n 117.504425,\n 117.50165,\n 117.4988049,\n 117.4944433,\n 117.485905,\n 117.4856483,\n 117.48541,\n 117.484366666667,\n 117.4828,\n 117.48245,\n 117.48209,\n 117.481766666667,\n 117.4816,\n 117.481366666667,\n 117.480433333333,\n 117.479533333333,\n 117.47795,\n 117.476246,\n 117.473516666667,\n 117.4712,\n 117.4701833,\n 117.467933333333,\n 117.466133333333,\n 117.464466666667,\n 117.4631883,\n 117.4619899,\n 117.460535,\n 117.458733333333,\n 117.458183333333,\n 117.4575216,\n 117.456816666667,\n 117.455166666667,\n 117.45045,\n 117.449143,\n 117.44744,\n 117.4472,\n 117.437633333333,\n 117.437133333333,\n 117.431445,\n 117.42975,\n 117.4288399,\n 117.423155,\n 117.41605,\n 117.4126849,\n 117.411461,\n 117.4091049,\n 117.4037866,\n 117.3978883,\n 117.3928733,\n 117.3927216,\n 117.3887916,\n 117.3850649,\n 117.382941,\n 117.3828583,\n 117.3728583,\n 117.3709933,\n 117.367792,\n 117.361371,\n 117.360178,\n 117.3552516,\n 117.3495466,\n 117.34815,\n 117.3481183,\n 117.3477816,\n 117.347566,\n 117.347474,\n 117.347382,\n 117.3448766,\n 117.3448416,\n 117.343996,\n 117.3436633,\n 117.3427516,\n 117.3416149,\n 117.3415483,\n 117.3384666,\n 117.337083333333,\n 117.3349999,\n 117.3347683,\n 117.3345183,\n 117.3344216,\n 117.3344199,\n 117.334375,\n 117.3343366,\n 117.3343299,\n 117.3343149,\n 117.3343116,\n 117.3343066,\n 117.3343049,\n 117.3342583,\n 117.3342316,\n 117.3335999,\n 117.3335449,\n 117.3335099,\n 117.3335083,\n 117.3326716,\n 117.3316166,\n 117.331062,\n 117.3306633,\n 117.3299483,\n 117.3299133,\n 117.32905,\n 117.3289216,\n 117.3289099,\n 117.3287316,\n 117.3286616,\n 117.3286133,\n 117.3286099,\n 117.328563,\n 117.3285183,\n 117.328361,\n 117.3279966,\n 117.3274216,\n 117.3272416,\n 117.3263933,\n 117.32633,\n 117.3255833,\n 117.3249649,\n 117.3248383,\n 117.3245733,\n 117.3234666,\n 117.3231733,\n 117.32242,\n 117.32221,\n 117.3211816,\n 117.3208699,\n 117.320725,\n 117.3206733,\n 117.3199133,\n 117.3189566,\n 117.3188883,\n 117.3187616,\n 117.318416666667,\n 117.3183799,\n 117.31767,\n 117.317626,\n 117.3172649,\n 117.3172049,\n 117.3169966,\n 117.31636,\n 117.316277,\n 117.3157566,\n 117.3156049,\n 117.3155916,\n 117.3154216,\n 117.314373,\n 117.314332,\n 117.3142366,\n 117.3140249,\n 117.3095249,\n 117.3051483,\n 117.3050666,\n 117.304283333333,\n 117.301751,\n 117.3007749,\n 117.288863,\n 117.28855,\n 117.288521,\n 117.288296,\n 117.287683333333,\n 117.287633333333,\n 117.2819,\n 117.2815033,\n 117.2807816,\n 117.2801166,\n 117.279639,\n 117.279416666667,\n 117.2787566,\n 117.2785399,\n 117.2779516,\n 117.2759416,\n 117.275815,\n 117.2757783,\n 117.27555,\n 117.2737516,\n 117.273338,\n 117.273083333333,\n 117.2729033,\n 117.272483333333,\n 117.271941,\n 117.2704749,\n 117.2666416,\n 117.2652183,\n 117.264933,\n 117.2631783,\n 117.2628716,\n 117.2617166,\n 117.25682,\n 117.2563716,\n 117.2551483,\n 117.252721,\n 117.25261,\n 117.251816666667,\n 117.2503,\n 117.2501133,\n 117.2495466,\n 117.248053,\n 117.247966666667,\n 117.247033333333,\n 117.2431833,\n 117.242456,\n 117.242011,\n 117.241768,\n 117.2417149,\n 117.241322,\n 117.241185,\n 117.239237,\n 117.239168,\n 117.2391583,\n 117.238567,\n 117.237416666667,\n 117.236354,\n 117.2352916,\n 117.234768,\n 117.233485,\n 117.233418,\n 117.233075,\n 117.230476,\n 117.229035,\n 117.227415,\n 117.226633333333,\n 117.2261399,\n 117.221316666667,\n 117.21683,\n 117.216633,\n 117.2154549,\n 117.21512,\n 117.2139633,\n 117.207142,\n 117.2063866,\n 117.2063,\n 117.2061916,\n 117.2061599,\n 117.2029783,\n 117.20151,\n 117.1991216,\n 117.1980866,\n 117.19676,\n 117.188241,\n 117.1863633,\n 117.18251,\n 117.180428,\n 117.177386,\n 117.1770166,\n 117.17563,\n 117.175566666667,\n 117.175496,\n 117.175359,\n 117.172932,\n 117.1727199,\n 117.1726983,\n 117.172602,\n 117.172552,\n 117.172526,\n 117.171766666667,\n 117.170353,\n 117.168108,\n 117.168019,\n 117.165985,\n 117.1649533,\n 117.1645649,\n 117.164484,\n 117.1644466,\n 117.16417,\n 117.1640216,\n 117.1609233,\n 117.160119,\n 117.159958,\n 117.15977,\n 117.159725,\n 117.1596833,\n 117.159666,\n 117.1596483,\n 117.159602,\n 117.159595,\n 117.159442,\n 117.159297,\n 117.1584649,\n 117.1579749,\n 117.15776,\n 117.1569866,\n 117.1566849,\n 117.155461,\n 117.155393,\n 117.1543633,\n 117.1528816,\n 117.152,\n 117.1518883,\n 117.1517733,\n 117.15139,\n 117.149713,\n 117.1491983,\n 117.148787,\n 117.148761,\n 117.145509,\n 117.14521,\n 117.141055,\n 117.1403666,\n 117.139525,\n 117.138604,\n 117.138591,\n 117.138588,\n 117.138551,\n 117.138523,\n 117.136845,\n 117.1364733,\n 117.135507,\n 117.13213,\n 117.131403,\n 117.130804,\n 117.1270766,\n 117.1251933,\n 117.1248849,\n 117.124552,\n 117.124266,\n 117.124103,\n 117.123639,\n 117.123587,\n 117.123573,\n 117.1235283,\n 117.123486,\n 117.123349,\n 117.123327,\n 117.123316,\n 117.123232,\n 117.123113,\n 117.123103,\n 117.1230016,\n 117.1228699,\n 117.1228583,\n 117.122666,\n 117.122516,\n 117.122478,\n 117.122471,\n 117.122447,\n 117.122187,\n 117.1220216,\n 117.12112,\n 117.1198416,\n 117.1172383,\n 117.116865,\n 117.115516666667,\n 117.1139783,\n 117.1134133,\n 117.112323,\n 117.112001,\n 117.111814,\n 117.1110883,\n 117.1110766,\n 117.1108033,\n 117.108262,\n 117.1071866,\n 117.105407,\n 117.105237,\n 117.105179,\n 117.105066666667,\n 117.1038566,\n 117.103675,\n 117.1034433,\n 117.1025566,\n 117.101075,\n 117.100116666667,\n 117.099666666667,\n 117.0966183,\n 117.0966066,\n 117.0931866,\n 117.0889966,\n 117.0887199,\n 117.0882733,\n 117.0835849,\n 117.0831983,\n 117.081736,\n 117.081696,\n 117.0811849,\n 117.0809916,\n 117.0804016,\n 117.0803383,\n 117.078737,\n 117.078612,\n 117.0783199,\n 117.078267,\n 117.075099,\n 117.0727016,\n 117.069884,\n 117.069666666667,\n 117.0662866,\n 117.064387,\n 117.062086,\n 117.0583649,\n 117.058297,\n 117.0568149,\n 117.055233,\n 117.0483,\n 117.048035,\n 117.047363,\n 117.047014,\n 117.046699,\n 117.045807,\n 117.0456783,\n 117.0452416,\n 117.0449716,\n 117.04358,\n 117.043316666667,\n 117.0412383,\n 117.0411533,\n 117.04026,\n 117.0391266,\n 117.038326,\n 117.0381099,\n 117.036674,\n 117.035706,\n 117.0354899,\n 117.0348766,\n 117.0243783,\n 117.0234099,\n 117.0177499,\n 117.01739,\n 117.0169349,\n 117.016807,\n 117.0164166,\n 117.016048,\n 117.01195,\n 117.011289,\n 117.006416666667,\n 117.0063433,\n 117.005617,\n 117.0045333,\n 116.996871,\n 116.996555,\n 116.99631,\n 116.995805,\n 116.995462,\n 116.99536,\n 116.99511,\n 116.994347,\n 116.993883,\n 116.993143,\n 116.993033,\n 116.992884,\n 116.99266,\n 116.992655,\n 116.992619,\n 116.9925899,\n 116.9917483,\n 116.9917349,\n 116.988039,\n 116.9869366,\n 116.9861733,\n 116.9852283,\n 116.980795,\n 116.980208,\n 116.9800666,\n 116.977233333333,\n 116.9771,\n 116.975864,\n 116.9753766,\n 116.9751083,\n 116.9750999,\n 116.974849,\n 116.974675,\n 116.97449,\n 116.9735999,\n 116.9721833,\n 116.9714299,\n 116.9697916,\n 116.9687549,\n 116.9632483,\n 116.9566666,\n 116.954923,\n 116.95099,\n 116.9505,\n 116.949476,\n 116.9442966,\n 116.938362,\n 116.9366716,\n 116.9282066,\n 116.92748,\n 116.927207,\n 116.925477,\n 116.92539,\n 116.9238099,\n 116.9198333,\n 116.9194166,\n 116.9166199,\n 116.9151833,\n 116.913295,\n 116.9119383,\n 116.9081816,\n 116.9007166,\n 116.898568,\n 116.896854,\n 116.89627,\n 116.8937566,\n 116.893747,\n 116.892353,\n 116.890882,\n 116.8871,\n 116.8863866,\n 116.886065,\n 116.885172,\n 116.8851099,\n 116.8846666,\n 116.881423,\n 116.881046,\n 116.876813,\n 116.874962,\n 116.8736849,\n 116.8616183,\n 116.8604916,\n 116.859502,\n 116.8594,\n 116.858974,\n 116.85845,\n 116.856907,\n 116.85645,\n 116.856205,\n 116.856183333333,\n 116.8561633,\n 116.856116666667,\n 116.85601,\n 116.855866666667,\n 116.8558016,\n 116.855416666667,\n 116.855225,\n 116.8552216,\n 116.8551866,\n 116.8551599,\n 116.85504,\n 116.854973,\n 116.8549,\n 116.854883333333,\n 116.854716666667,\n 116.85455,\n 116.85444,\n 116.8543166,\n 116.8543033,\n 116.8542399,\n 116.8542183,\n 116.8541549,\n 116.85403,\n 116.8539699,\n 116.8529133,\n 116.852737,\n 116.852583333333,\n 116.8522516,\n 116.8518949,\n 116.851433333333,\n 116.8482733,\n 116.846897,\n 116.8463533,\n 116.8462516,\n 116.845435,\n 116.84474,\n 116.8442316,\n 116.8434633,\n 116.8432949,\n 116.8427,\n 116.8425682,\n 116.8423633,\n 116.841,\n 116.840735,\n 116.8405316,\n 116.8405199,\n 116.8403383,\n 116.8402733,\n 116.8402233,\n 116.83925,\n 116.8383033,\n 116.8378166,\n 116.8344683,\n 116.8343466,\n 116.834226,\n 116.8340149,\n 116.8339016,\n 116.833857,\n 116.8338466,\n 116.8338366,\n 116.8337099,\n 116.8333849,\n 116.8333316,\n 116.8300749,\n 116.830063333333,\n 116.830053,\n 116.82998,\n 116.8299716,\n 116.829913,\n 116.829683,\n 116.82963,\n 116.829018,\n 116.828952,\n 116.8287749,\n 116.828685,\n 116.82853,\n 116.8284716,\n 116.828349,\n 116.8283266,\n 116.827662,\n 116.827558,\n 116.8267266,\n 116.8265533,\n 116.8265083,\n 116.8264283,\n 116.8263533,\n 116.8257333,\n 116.8251683,\n 116.823206666667,\n 116.8209949,\n 116.8200666,\n 116.8193266,\n 116.817986,\n 116.8177433,\n 116.8162749,\n 116.8160933,\n 116.8159483,\n 116.8155883,\n 116.81555,\n 116.8151566,\n 116.8144499,\n 116.8142916,\n 116.8140599,\n 116.8139899,\n 116.8138666,\n 116.813855,\n 116.8133299,\n 116.8129549,\n 116.8128999,\n 116.8126333,\n 116.8126082,\n 116.812145,\n 116.8118866,\n 116.8116566,\n 116.8111999,\n 116.8110016,\n 116.8107366,\n 116.8106849,\n 116.8105916,\n 116.810332,\n 116.80979,\n 116.8095733,\n 116.809139,\n 116.809059,\n 116.8090016,\n 116.8087216,\n 116.808322,\n 116.808187,\n 116.807661,\n 116.807595,\n 116.806724,\n 116.8065733,\n 116.806475,\n 116.8061983,\n 116.805471,\n 116.804255,\n 116.803578,\n 116.803268,\n 116.803202,\n 116.803036,\n 116.802907,\n 116.802863,\n 116.802751,\n 116.802673,\n 116.802659,\n 116.802603,\n 116.802587,\n 116.802454,\n 116.802364,\n 116.802359,\n 116.802353,\n 116.802254,\n 116.802177,\n 116.80211,\n 116.802105,\n 116.802095,\n 116.802072,\n 116.802033,\n 116.80203,\n 116.802001,\n 116.801985,\n 116.801938,\n 116.801929,\n 116.801898,\n 116.801896,\n 116.801887,\n 116.801885,\n 116.801881,\n 116.801879,\n 116.801861,\n 116.801855,\n 116.801854,\n 116.801844,\n 116.801841,\n 116.80183,\n 116.801824,\n 116.801821,\n 116.801819,\n 116.801814,\n 116.801813,\n 116.801809,\n 116.801804,\n 116.801795,\n 116.80179,\n 116.801781,\n 116.801775,\n 116.801767,\n 116.801764,\n 116.801762,\n 116.801761,\n 116.80176,\n 116.801754,\n 116.801741,\n 116.801733,\n 116.801724,\n 116.801721,\n 116.80171,\n 116.801708,\n 116.801694,\n 116.801689,\n 116.801688,\n 116.801681,\n 116.801676,\n 116.801675,\n 116.801655,\n 116.801634,\n 116.801594,\n 116.801583,\n 116.801565,\n 116.801564,\n 116.801504,\n 116.801481,\n 116.801474,\n 116.801468,\n 116.801411,\n 116.801394,\n 116.801289,\n 116.801278,\n 116.801253,\n 116.801252,\n 116.801251,\n 116.801247,\n 116.801231,\n 116.801211,\n 116.801199,\n 116.80119,\n 116.801188,\n 116.801177,\n 116.801165,\n 116.801158,\n 116.801043,\n 116.800965,\n 116.800948,\n 116.800908,\n 116.8008683,\n 116.800829,\n 116.800776,\n 116.800774,\n 116.800759,\n 116.800728,\n 116.800674,\n 116.800658,\n 116.800639,\n 116.800524,\n 116.800479,\n 116.800446,\n 116.800367,\n 116.800352,\n 116.800346,\n 116.799995,\n 116.799898,\n 116.799869,\n 116.799809,\n 116.799787,\n 116.799716,\n 116.799641,\n 116.799607,\n 116.799553,\n 116.7995366,\n 116.799466,\n 116.799426,\n 116.799383,\n 116.799333,\n 116.799259,\n 116.799237,\n 116.799217,\n 116.79919,\n 116.799188,\n 116.799105,\n 116.799037,\n 116.799022,\n 116.798859,\n 116.798711,\n 116.798652,\n 116.79865,\n 116.798639,\n 116.798607,\n 116.798604,\n 116.7986,\n 116.798596,\n 116.798546,\n 116.79854,\n 116.798494,\n 116.798444,\n 116.798434,\n 116.798413,\n 116.798397,\n 116.798392,\n 116.798374,\n 116.798316,\n 116.798312,\n 116.798301,\n 116.79829,\n 116.798284,\n 116.798245,\n 116.798223,\n 116.798213,\n 116.798209,\n 116.798208,\n 116.7981966,\n 116.798182,\n 116.79818,\n 116.798167,\n 116.798124,\n 116.798068,\n 116.7979782,\n 116.7979,\n 116.797872,\n 116.797696,\n 116.797629,\n 116.7975883,\n 116.797503,\n 116.797434,\n 116.797255,\n 116.797196,\n 116.7971149,\n 116.7969783,\n 116.796957,\n 116.7969416,\n 116.7968016,\n 116.796779,\n 116.796456,\n 116.796404,\n 116.796378,\n 116.79631,\n 116.796262,\n 116.796069,\n 116.796047,\n 116.795942,\n 116.795885,\n 116.795666,\n 116.795586,\n 116.7955,\n 116.79545,\n 116.795379,\n 116.7953649,\n 116.795325,\n 116.795322,\n 116.795321,\n 116.795291,\n 116.795282,\n 116.795274,\n 116.795265,\n 116.795248,\n 116.7952466,\n 116.79524,\n 116.795235,\n 116.795145,\n 116.795105,\n 116.795095,\n 116.794981,\n 116.794733,\n 116.794694,\n 116.794685,\n 116.794507,\n 116.794482,\n 116.7944233,\n 116.7944099,\n 116.794374,\n 116.794343,\n 116.794322,\n 116.794236,\n 116.794127,\n 116.794083,\n 116.793967,\n 116.793896,\n 116.793864,\n 116.793755,\n 116.793736,\n 116.7935632,\n 116.79351,\n 116.793332,\n 116.793176,\n 116.793022,\n 116.792989,\n 116.792953,\n 116.792934,\n 116.792903,\n 116.79274,\n 116.792734,\n 116.79255,\n 116.792546,\n 116.7924833,\n 116.7924433,\n 116.792442,\n 116.792264,\n 116.792246,\n 116.7921699,\n 116.7917766,\n 116.7916516,\n 116.791244,\n 116.7909483,\n 116.79071,\n 116.7902733,\n 116.790261,\n 116.79015,\n 116.790062,\n 116.790016,\n 116.789853,\n 116.789813,\n 116.789706,\n 116.789531,\n 116.789525,\n 116.789197,\n 116.789193,\n 116.7890733,\n 116.789036,\n 116.788982,\n 116.78897,\n 116.788848,\n 116.7888132,\n 116.788807,\n 116.788767,\n 116.788723,\n 116.78871,\n 116.788499,\n 116.788411,\n 116.787999,\n 116.7877699,\n 116.7877449,\n 116.7876999,\n 116.7876149,\n 116.787587,\n 116.7875366,\n 116.787507,\n 116.787413333333,\n 116.787018,\n 116.78672,\n 116.7866016,\n 116.786571,\n 116.786383,\n 116.786297,\n 116.785957,\n 116.785873,\n 116.785645,\n 116.78555,\n 116.785424,\n 116.785369,\n 116.785318,\n 116.784796,\n 116.784691,\n 116.784589,\n 116.7845649,\n 116.784366666667,\n 116.783937,\n 116.783813,\n 116.783774,\n 116.783567,\n 116.783561,\n 116.783501,\n 116.783471,\n 116.783432,\n 116.783379,\n 116.78335,\n 116.783347,\n 116.7833,\n 116.783295,\n ...]"
     },
     "execution_count": 97,
     "metadata": {},
     "output_type": "execute_result"
    }
   ],
   "source": [
    "lon_list = (df['lon'].value_counts().index.tolist())\n",
    "lon_list.sort(reverse=True)\n",
    "lon_list"
   ],
   "metadata": {
    "collapsed": false,
    "pycharm": {
     "name": "#%%\n"
    }
   }
  },
  {
   "cell_type": "markdown",
   "source": [
    "df['timestamp'] = df['time'].apply(lambda x: int(x.timestamp()))\n",
    "df['year'] = df['timestamp'].apply(lambda x: time.localtime(x).tm_year)\n",
    "df['month'] = df['timestamp'].apply(lambda x: time.localtime(x).tm_mon)\n",
    "df['day'] = df['timestamp'].apply(lambda x: time.localtime(x).tm_mday)\n",
    "df['slot_id'] = df['timestamp'].apply(lambda x: get_slot_by_unix(x))\n",
    "df = df.drop_duplicates(subset=['user', 'year', 'month', 'day', 'slot_id'])\n",
    "df.sort_values(by='user',inplace=True)\n",
    "df.reset_index(drop=True, inplace=True)\n",
    "df"
   ],
   "metadata": {
    "collapsed": false,
    "pycharm": {
     "name": "#%% md\n"
    }
   }
  },
  {
   "cell_type": "code",
   "execution_count": 100,
   "outputs": [],
   "source": [
    "loc_index = df[['lat','lon']]\n",
    "loc_index = loc_index.sort_values(by='lat').drop_duplicates().reset_index(drop=True)\n",
    "loc_index.to_csv('loc_index.csv')"
   ],
   "metadata": {
    "collapsed": false,
    "pycharm": {
     "name": "#%%\n"
    }
   }
  },
  {
   "cell_type": "code",
   "execution_count": 101,
   "outputs": [
    {
     "data": {
      "text/plain": "             lat         lon\n0      39.442088  116.830053\n1      39.442098  116.830063\n2      39.442125  116.643245\n3      39.442126  116.829913\n4      39.442175  116.323205\n...          ...         ...\n68584  40.998972  117.494443\n68585  41.003206  117.507126\n68586  41.003427  117.508193\n68587  41.022467  116.633300\n68588  41.055618  117.504425\n\n[68589 rows x 2 columns]",
      "text/html": "<div>\n<style scoped>\n    .dataframe tbody tr th:only-of-type {\n        vertical-align: middle;\n    }\n\n    .dataframe tbody tr th {\n        vertical-align: top;\n    }\n\n    .dataframe thead th {\n        text-align: right;\n    }\n</style>\n<table border=\"1\" class=\"dataframe\">\n  <thead>\n    <tr style=\"text-align: right;\">\n      <th></th>\n      <th>lat</th>\n      <th>lon</th>\n    </tr>\n  </thead>\n  <tbody>\n    <tr>\n      <th>0</th>\n      <td>39.442088</td>\n      <td>116.830053</td>\n    </tr>\n    <tr>\n      <th>1</th>\n      <td>39.442098</td>\n      <td>116.830063</td>\n    </tr>\n    <tr>\n      <th>2</th>\n      <td>39.442125</td>\n      <td>116.643245</td>\n    </tr>\n    <tr>\n      <th>3</th>\n      <td>39.442126</td>\n      <td>116.829913</td>\n    </tr>\n    <tr>\n      <th>4</th>\n      <td>39.442175</td>\n      <td>116.323205</td>\n    </tr>\n    <tr>\n      <th>...</th>\n      <td>...</td>\n      <td>...</td>\n    </tr>\n    <tr>\n      <th>68584</th>\n      <td>40.998972</td>\n      <td>117.494443</td>\n    </tr>\n    <tr>\n      <th>68585</th>\n      <td>41.003206</td>\n      <td>117.507126</td>\n    </tr>\n    <tr>\n      <th>68586</th>\n      <td>41.003427</td>\n      <td>117.508193</td>\n    </tr>\n    <tr>\n      <th>68587</th>\n      <td>41.022467</td>\n      <td>116.633300</td>\n    </tr>\n    <tr>\n      <th>68588</th>\n      <td>41.055618</td>\n      <td>117.504425</td>\n    </tr>\n  </tbody>\n</table>\n<p>68589 rows × 2 columns</p>\n</div>"
     },
     "execution_count": 101,
     "metadata": {},
     "output_type": "execute_result"
    }
   ],
   "source": [
    "loc_index"
   ],
   "metadata": {
    "collapsed": false,
    "pycharm": {
     "name": "#%%\n"
    }
   }
  },
  {
   "cell_type": "code",
   "execution_count": 62,
   "outputs": [
    {
     "name": "stderr",
     "output_type": "stream",
     "text": [
      "/tmp/ipykernel_2214526/4152561819.py:10: SettingWithCopyWarning: \n",
      "A value is trying to be set on a copy of a slice from a DataFrame.\n",
      "Try using .loc[row_indexer,col_indexer] = value instead\n",
      "\n",
      "See the caveats in the documentation: https://pandas.pydata.org/pandas-docs/stable/user_guide/indexing.html#returning-a-view-versus-a-copy\n",
      "  df['loc_index'] = index\n"
     ]
    },
    {
     "data": {
      "text/plain": "                   time        lat         lon         alt  label  user  \\\n0   2000-01-01 23:12:19  39.988992  116.327023  128.937005      0   163   \n0   2007-04-12 09:31:32  39.974233  116.330383  823.490814      0   142   \n9   2007-04-12 10:05:00  39.974517  116.330067  406.824147      0   142   \n0   2007-04-12 10:18:53  39.975517  116.330283  351.049869      0   161   \n0   2007-04-12 10:21:16  39.976467  116.330067  173.884514      2   163   \n..                  ...        ...         ...         ...    ...   ...   \n0   2012-07-25 19:03:00  39.984960  116.310739  489.429065      0   163   \n316 2012-07-25 19:31:04  39.994674  116.445402  150.249462      0   163   \n0   2012-07-26 08:01:06  39.991750  116.440100  489.500253      0   163   \n0   2012-07-27 08:07:00  39.990677  116.444623  487.477461      0   163   \n290 2012-07-27 08:31:00  39.979481  116.303499  131.760207      0   163   \n\n      timestamp  year  month  day  slot_id  loc_index  \n0     946768339  2000      1    2       14      44847  \n0    1176370292  2007      4   12       35      26376  \n9    1176372300  2007      4   12       36      26741  \n0    1176373133  2007      4   12       36      29837  \n0    1176373276  2007      4   12       36      31392  \n..          ...   ...    ...  ...      ...        ...  \n0    1343242980  2012      7   26        6      40194  \n316  1343244664  2012      7   26        7      48392  \n0    1343289666  2012      7   26       32      46901  \n0    1343376420  2012      7   27       32      45819  \n290  1343377860  2012      7   27       33      34183  \n\n[73384 rows x 12 columns]",
      "text/html": "<div>\n<style scoped>\n    .dataframe tbody tr th:only-of-type {\n        vertical-align: middle;\n    }\n\n    .dataframe tbody tr th {\n        vertical-align: top;\n    }\n\n    .dataframe thead th {\n        text-align: right;\n    }\n</style>\n<table border=\"1\" class=\"dataframe\">\n  <thead>\n    <tr style=\"text-align: right;\">\n      <th></th>\n      <th>time</th>\n      <th>lat</th>\n      <th>lon</th>\n      <th>alt</th>\n      <th>label</th>\n      <th>user</th>\n      <th>timestamp</th>\n      <th>year</th>\n      <th>month</th>\n      <th>day</th>\n      <th>slot_id</th>\n      <th>loc_index</th>\n    </tr>\n  </thead>\n  <tbody>\n    <tr>\n      <th>0</th>\n      <td>2000-01-01 23:12:19</td>\n      <td>39.988992</td>\n      <td>116.327023</td>\n      <td>128.937005</td>\n      <td>0</td>\n      <td>163</td>\n      <td>946768339</td>\n      <td>2000</td>\n      <td>1</td>\n      <td>2</td>\n      <td>14</td>\n      <td>44847</td>\n    </tr>\n    <tr>\n      <th>0</th>\n      <td>2007-04-12 09:31:32</td>\n      <td>39.974233</td>\n      <td>116.330383</td>\n      <td>823.490814</td>\n      <td>0</td>\n      <td>142</td>\n      <td>1176370292</td>\n      <td>2007</td>\n      <td>4</td>\n      <td>12</td>\n      <td>35</td>\n      <td>26376</td>\n    </tr>\n    <tr>\n      <th>9</th>\n      <td>2007-04-12 10:05:00</td>\n      <td>39.974517</td>\n      <td>116.330067</td>\n      <td>406.824147</td>\n      <td>0</td>\n      <td>142</td>\n      <td>1176372300</td>\n      <td>2007</td>\n      <td>4</td>\n      <td>12</td>\n      <td>36</td>\n      <td>26741</td>\n    </tr>\n    <tr>\n      <th>0</th>\n      <td>2007-04-12 10:18:53</td>\n      <td>39.975517</td>\n      <td>116.330283</td>\n      <td>351.049869</td>\n      <td>0</td>\n      <td>161</td>\n      <td>1176373133</td>\n      <td>2007</td>\n      <td>4</td>\n      <td>12</td>\n      <td>36</td>\n      <td>29837</td>\n    </tr>\n    <tr>\n      <th>0</th>\n      <td>2007-04-12 10:21:16</td>\n      <td>39.976467</td>\n      <td>116.330067</td>\n      <td>173.884514</td>\n      <td>2</td>\n      <td>163</td>\n      <td>1176373276</td>\n      <td>2007</td>\n      <td>4</td>\n      <td>12</td>\n      <td>36</td>\n      <td>31392</td>\n    </tr>\n    <tr>\n      <th>...</th>\n      <td>...</td>\n      <td>...</td>\n      <td>...</td>\n      <td>...</td>\n      <td>...</td>\n      <td>...</td>\n      <td>...</td>\n      <td>...</td>\n      <td>...</td>\n      <td>...</td>\n      <td>...</td>\n      <td>...</td>\n    </tr>\n    <tr>\n      <th>0</th>\n      <td>2012-07-25 19:03:00</td>\n      <td>39.984960</td>\n      <td>116.310739</td>\n      <td>489.429065</td>\n      <td>0</td>\n      <td>163</td>\n      <td>1343242980</td>\n      <td>2012</td>\n      <td>7</td>\n      <td>26</td>\n      <td>6</td>\n      <td>40194</td>\n    </tr>\n    <tr>\n      <th>316</th>\n      <td>2012-07-25 19:31:04</td>\n      <td>39.994674</td>\n      <td>116.445402</td>\n      <td>150.249462</td>\n      <td>0</td>\n      <td>163</td>\n      <td>1343244664</td>\n      <td>2012</td>\n      <td>7</td>\n      <td>26</td>\n      <td>7</td>\n      <td>48392</td>\n    </tr>\n    <tr>\n      <th>0</th>\n      <td>2012-07-26 08:01:06</td>\n      <td>39.991750</td>\n      <td>116.440100</td>\n      <td>489.500253</td>\n      <td>0</td>\n      <td>163</td>\n      <td>1343289666</td>\n      <td>2012</td>\n      <td>7</td>\n      <td>26</td>\n      <td>32</td>\n      <td>46901</td>\n    </tr>\n    <tr>\n      <th>0</th>\n      <td>2012-07-27 08:07:00</td>\n      <td>39.990677</td>\n      <td>116.444623</td>\n      <td>487.477461</td>\n      <td>0</td>\n      <td>163</td>\n      <td>1343376420</td>\n      <td>2012</td>\n      <td>7</td>\n      <td>27</td>\n      <td>32</td>\n      <td>45819</td>\n    </tr>\n    <tr>\n      <th>290</th>\n      <td>2012-07-27 08:31:00</td>\n      <td>39.979481</td>\n      <td>116.303499</td>\n      <td>131.760207</td>\n      <td>0</td>\n      <td>163</td>\n      <td>1343377860</td>\n      <td>2012</td>\n      <td>7</td>\n      <td>27</td>\n      <td>33</td>\n      <td>34183</td>\n    </tr>\n  </tbody>\n</table>\n<p>73384 rows × 12 columns</p>\n</div>"
     },
     "execution_count": 62,
     "metadata": {},
     "output_type": "execute_result"
    }
   ],
   "source": [
    "# dict:(lat,lon)--->index\n",
    "loc = [tuple(x) for x in loc_index.values.tolist()]\n",
    "index = loc_index.index.tolist()\n",
    "loc_index_dict = dict(zip(loc, index))\n",
    "\n",
    "tmp = df[['lat', 'lon']]\n",
    "index = []\n",
    "for i in range(len(tmp)):\n",
    "    index.append(loc_index_dict[(tmp.iloc[i][0], tmp.iloc[i][1])])\n",
    "df['loc_index'] = index\n",
    "df"
   ],
   "metadata": {
    "collapsed": false,
    "pycharm": {
     "name": "#%%\n"
    }
   }
  },
  {
   "cell_type": "code",
   "execution_count": 63,
   "outputs": [
    {
     "data": {
      "text/plain": "69422"
     },
     "execution_count": 63,
     "metadata": {},
     "output_type": "execute_result"
    }
   ],
   "source": [
    "df['loc_index'].max()"
   ],
   "metadata": {
    "collapsed": false,
    "pycharm": {
     "name": "#%%\n"
    }
   }
  },
  {
   "cell_type": "code",
   "execution_count": 64,
   "outputs": [],
   "source": [
    "seqs = []\n",
    "for (user_index, year, month, day), group in df.groupby(['user', 'year', 'month', 'day']):\n",
    "    group.reset_index(inplace=True)\n",
    "    if group.shape[0] < 12:\n",
    "        continue\n",
    "    ts = group['timestamp']\n",
    "    seq = group['loc_index'].tolist()\n",
    "    seq = traj_to_slot(seq, ts, pad='[PAD]')\n",
    "\n",
    "    if seq.count('[PAD]') > 36:\n",
    "        continue\n",
    "    seq = [str(x) for x in seq]\n",
    "    seqs.append([\" \".join(seq), user_index, year, month, day])\n",
    "\n",
    "    # print('uid:', user_index,'date:', month, '-', day)\n",
    "    # print(\"group shape:\", group.shape, '[PAD] count:', seq.count('[PAD]'))\n",
    "    # print(group.head())\n",
    "\n",
    "    # print(group)\n",
    "    # print(ts)\n",
    "    # print(seq)\n",
    "    # print(seqs)"
   ],
   "metadata": {
    "collapsed": false,
    "pycharm": {
     "name": "#%%\n"
    }
   }
  },
  {
   "cell_type": "code",
   "execution_count": 65,
   "outputs": [
    {
     "name": "stdout",
     "output_type": "stream",
     "text": [
      "60\n"
     ]
    },
    {
     "data": {
      "text/plain": "                                             trajectory  user_index  year  \\\n0     54062 [PAD] [PAD] [PAD] [PAD] [PAD] [PAD] [PAD...           0  2009   \n1     [PAD] [PAD] [PAD] [PAD] [PAD] [PAD] [PAD] [PAD...           0  2009   \n2     56423 56409 56278 56398 56243 56209 56436 5626...           0  2009   \n3     [PAD] [PAD] [PAD] [PAD] [PAD] [PAD] [PAD] [PAD...           0  2009   \n4     [PAD] [PAD] [PAD] [PAD] [PAD] [PAD] [PAD] [PAD...           0  2009   \n...                                                 ...         ...   ...   \n1890  [PAD] [PAD] [PAD] [PAD] [PAD] [PAD] [PAD] [PAD...         179  2008   \n1891  [PAD] [PAD] [PAD] [PAD] [PAD] [PAD] [PAD] [PAD...         179  2008   \n1892  [PAD] [PAD] [PAD] [PAD] [PAD] [PAD] [PAD] [PAD...         179  2008   \n1893  [PAD] [PAD] [PAD] [PAD] [PAD] [PAD] [PAD] [PAD...         179  2008   \n1894  [PAD] [PAD] [PAD] [PAD] [PAD] [PAD] [PAD] [PAD...         179  2008   \n\n      month  day  \n0         3   31  \n1         4    3  \n2         4    4  \n3         4    5  \n4         4    6  \n...     ...  ...  \n1890      9   13  \n1891      9   15  \n1892     10    2  \n1893     10   12  \n1894     11    1  \n\n[1780 rows x 5 columns]",
      "text/html": "<div>\n<style scoped>\n    .dataframe tbody tr th:only-of-type {\n        vertical-align: middle;\n    }\n\n    .dataframe tbody tr th {\n        vertical-align: top;\n    }\n\n    .dataframe thead th {\n        text-align: right;\n    }\n</style>\n<table border=\"1\" class=\"dataframe\">\n  <thead>\n    <tr style=\"text-align: right;\">\n      <th></th>\n      <th>trajectory</th>\n      <th>user_index</th>\n      <th>year</th>\n      <th>month</th>\n      <th>day</th>\n    </tr>\n  </thead>\n  <tbody>\n    <tr>\n      <th>0</th>\n      <td>54062 [PAD] [PAD] [PAD] [PAD] [PAD] [PAD] [PAD...</td>\n      <td>0</td>\n      <td>2009</td>\n      <td>3</td>\n      <td>31</td>\n    </tr>\n    <tr>\n      <th>1</th>\n      <td>[PAD] [PAD] [PAD] [PAD] [PAD] [PAD] [PAD] [PAD...</td>\n      <td>0</td>\n      <td>2009</td>\n      <td>4</td>\n      <td>3</td>\n    </tr>\n    <tr>\n      <th>2</th>\n      <td>56423 56409 56278 56398 56243 56209 56436 5626...</td>\n      <td>0</td>\n      <td>2009</td>\n      <td>4</td>\n      <td>4</td>\n    </tr>\n    <tr>\n      <th>3</th>\n      <td>[PAD] [PAD] [PAD] [PAD] [PAD] [PAD] [PAD] [PAD...</td>\n      <td>0</td>\n      <td>2009</td>\n      <td>4</td>\n      <td>5</td>\n    </tr>\n    <tr>\n      <th>4</th>\n      <td>[PAD] [PAD] [PAD] [PAD] [PAD] [PAD] [PAD] [PAD...</td>\n      <td>0</td>\n      <td>2009</td>\n      <td>4</td>\n      <td>6</td>\n    </tr>\n    <tr>\n      <th>...</th>\n      <td>...</td>\n      <td>...</td>\n      <td>...</td>\n      <td>...</td>\n      <td>...</td>\n    </tr>\n    <tr>\n      <th>1890</th>\n      <td>[PAD] [PAD] [PAD] [PAD] [PAD] [PAD] [PAD] [PAD...</td>\n      <td>179</td>\n      <td>2008</td>\n      <td>9</td>\n      <td>13</td>\n    </tr>\n    <tr>\n      <th>1891</th>\n      <td>[PAD] [PAD] [PAD] [PAD] [PAD] [PAD] [PAD] [PAD...</td>\n      <td>179</td>\n      <td>2008</td>\n      <td>9</td>\n      <td>15</td>\n    </tr>\n    <tr>\n      <th>1892</th>\n      <td>[PAD] [PAD] [PAD] [PAD] [PAD] [PAD] [PAD] [PAD...</td>\n      <td>179</td>\n      <td>2008</td>\n      <td>10</td>\n      <td>2</td>\n    </tr>\n    <tr>\n      <th>1893</th>\n      <td>[PAD] [PAD] [PAD] [PAD] [PAD] [PAD] [PAD] [PAD...</td>\n      <td>179</td>\n      <td>2008</td>\n      <td>10</td>\n      <td>12</td>\n    </tr>\n    <tr>\n      <th>1894</th>\n      <td>[PAD] [PAD] [PAD] [PAD] [PAD] [PAD] [PAD] [PAD...</td>\n      <td>179</td>\n      <td>2008</td>\n      <td>11</td>\n      <td>1</td>\n    </tr>\n  </tbody>\n</table>\n<p>1780 rows × 5 columns</p>\n</div>"
     },
     "execution_count": 65,
     "metadata": {},
     "output_type": "execute_result"
    }
   ],
   "source": [
    "all_traj = pd.DataFrame(seqs, columns=['trajectory', 'user_index', 'year', 'month', 'day'])\n",
    "all_traj = del_traj_day(all_traj,'user_index')\n",
    "all_traj"
   ],
   "metadata": {
    "collapsed": false,
    "pycharm": {
     "name": "#%%\n"
    }
   }
  },
  {
   "cell_type": "code",
   "execution_count": 66,
   "outputs": [
    {
     "data": {
      "text/plain": "                                             trajectory  user_index  year  \\\n0     54062 [PAD] [PAD] [PAD] [PAD] [PAD] [PAD] [PAD...           0  2009   \n1     [PAD] [PAD] [PAD] [PAD] [PAD] [PAD] [PAD] [PAD...           0  2009   \n2     56423 56409 56278 56398 56243 56209 56436 5626...           0  2009   \n3     [PAD] [PAD] [PAD] [PAD] [PAD] [PAD] [PAD] [PAD...           0  2009   \n4     [PAD] [PAD] [PAD] [PAD] [PAD] [PAD] [PAD] [PAD...           0  2009   \n...                                                 ...         ...   ...   \n1775  [PAD] [PAD] [PAD] [PAD] [PAD] [PAD] [PAD] [PAD...         179  2008   \n1776  [PAD] [PAD] [PAD] [PAD] [PAD] [PAD] [PAD] [PAD...         179  2008   \n1777  [PAD] [PAD] [PAD] [PAD] [PAD] [PAD] [PAD] [PAD...         179  2008   \n1778  [PAD] [PAD] [PAD] [PAD] [PAD] [PAD] [PAD] [PAD...         179  2008   \n1779  [PAD] [PAD] [PAD] [PAD] [PAD] [PAD] [PAD] [PAD...         179  2008   \n\n      month  day  \n0         3   31  \n1         4    3  \n2         4    4  \n3         4    5  \n4         4    6  \n...     ...  ...  \n1775      9   13  \n1776      9   15  \n1777     10    2  \n1778     10   12  \n1779     11    1  \n\n[1780 rows x 5 columns]",
      "text/html": "<div>\n<style scoped>\n    .dataframe tbody tr th:only-of-type {\n        vertical-align: middle;\n    }\n\n    .dataframe tbody tr th {\n        vertical-align: top;\n    }\n\n    .dataframe thead th {\n        text-align: right;\n    }\n</style>\n<table border=\"1\" class=\"dataframe\">\n  <thead>\n    <tr style=\"text-align: right;\">\n      <th></th>\n      <th>trajectory</th>\n      <th>user_index</th>\n      <th>year</th>\n      <th>month</th>\n      <th>day</th>\n    </tr>\n  </thead>\n  <tbody>\n    <tr>\n      <th>0</th>\n      <td>54062 [PAD] [PAD] [PAD] [PAD] [PAD] [PAD] [PAD...</td>\n      <td>0</td>\n      <td>2009</td>\n      <td>3</td>\n      <td>31</td>\n    </tr>\n    <tr>\n      <th>1</th>\n      <td>[PAD] [PAD] [PAD] [PAD] [PAD] [PAD] [PAD] [PAD...</td>\n      <td>0</td>\n      <td>2009</td>\n      <td>4</td>\n      <td>3</td>\n    </tr>\n    <tr>\n      <th>2</th>\n      <td>56423 56409 56278 56398 56243 56209 56436 5626...</td>\n      <td>0</td>\n      <td>2009</td>\n      <td>4</td>\n      <td>4</td>\n    </tr>\n    <tr>\n      <th>3</th>\n      <td>[PAD] [PAD] [PAD] [PAD] [PAD] [PAD] [PAD] [PAD...</td>\n      <td>0</td>\n      <td>2009</td>\n      <td>4</td>\n      <td>5</td>\n    </tr>\n    <tr>\n      <th>4</th>\n      <td>[PAD] [PAD] [PAD] [PAD] [PAD] [PAD] [PAD] [PAD...</td>\n      <td>0</td>\n      <td>2009</td>\n      <td>4</td>\n      <td>6</td>\n    </tr>\n    <tr>\n      <th>...</th>\n      <td>...</td>\n      <td>...</td>\n      <td>...</td>\n      <td>...</td>\n      <td>...</td>\n    </tr>\n    <tr>\n      <th>1775</th>\n      <td>[PAD] [PAD] [PAD] [PAD] [PAD] [PAD] [PAD] [PAD...</td>\n      <td>179</td>\n      <td>2008</td>\n      <td>9</td>\n      <td>13</td>\n    </tr>\n    <tr>\n      <th>1776</th>\n      <td>[PAD] [PAD] [PAD] [PAD] [PAD] [PAD] [PAD] [PAD...</td>\n      <td>179</td>\n      <td>2008</td>\n      <td>9</td>\n      <td>15</td>\n    </tr>\n    <tr>\n      <th>1777</th>\n      <td>[PAD] [PAD] [PAD] [PAD] [PAD] [PAD] [PAD] [PAD...</td>\n      <td>179</td>\n      <td>2008</td>\n      <td>10</td>\n      <td>2</td>\n    </tr>\n    <tr>\n      <th>1778</th>\n      <td>[PAD] [PAD] [PAD] [PAD] [PAD] [PAD] [PAD] [PAD...</td>\n      <td>179</td>\n      <td>2008</td>\n      <td>10</td>\n      <td>12</td>\n    </tr>\n    <tr>\n      <th>1779</th>\n      <td>[PAD] [PAD] [PAD] [PAD] [PAD] [PAD] [PAD] [PAD...</td>\n      <td>179</td>\n      <td>2008</td>\n      <td>11</td>\n      <td>1</td>\n    </tr>\n  </tbody>\n</table>\n<p>1780 rows × 5 columns</p>\n</div>"
     },
     "execution_count": 66,
     "metadata": {},
     "output_type": "execute_result"
    }
   ],
   "source": [
    "all_traj.reset_index(drop= True)"
   ],
   "metadata": {
    "collapsed": false,
    "pycharm": {
     "name": "#%%\n"
    }
   }
  },
  {
   "cell_type": "code",
   "execution_count": 67,
   "outputs": [],
   "source": [
    "all_traj.to_hdf('all_traj.h5', key='data')"
   ],
   "metadata": {
    "collapsed": false,
    "pycharm": {
     "name": "#%%\n"
    }
   }
  },
  {
   "cell_type": "code",
   "execution_count": 327,
   "outputs": [
    {
     "data": {
      "text/plain": "67"
     },
     "execution_count": 327,
     "metadata": {},
     "output_type": "execute_result"
    }
   ],
   "source": [
    "# num users\n",
    "len(dict(all_traj['user_index'].value_counts()))"
   ],
   "metadata": {
    "collapsed": false,
    "pycharm": {
     "name": "#%%\n"
    }
   }
  },
  {
   "cell_type": "code",
   "execution_count": 320,
   "outputs": [
    {
     "name": "stdout",
     "output_type": "stream",
     "text": [
      "2012 2007\n"
     ]
    }
   ],
   "source": [
    "# duration\n",
    "print(all_traj['year'].max(), all_traj['year'].min())"
   ],
   "metadata": {
    "collapsed": false,
    "pycharm": {
     "name": "#%%\n"
    }
   }
  },
  {
   "cell_type": "code",
   "execution_count": null,
   "outputs": [],
   "source": [],
   "metadata": {
    "collapsed": false,
    "pycharm": {
     "name": "#%%\n"
    }
   }
  }
 ],
 "metadata": {
  "kernelspec": {
   "display_name": "Python 3",
   "language": "python",
   "name": "python3"
  },
  "language_info": {
   "codemirror_mode": {
    "name": "ipython",
    "version": 2
   },
   "file_extension": ".py",
   "mimetype": "text/x-python",
   "name": "python",
   "nbconvert_exporter": "python",
   "pygments_lexer": "ipython2",
   "version": "2.7.6"
  }
 },
 "nbformat": 4,
 "nbformat_minor": 0
}