{
 "cells": [
  {
   "cell_type": "code",
   "execution_count": 11,
   "metadata": {
    "collapsed": true
   },
   "outputs": [],
   "source": [
    "import read__geolife as rg\n",
    "import os, time\n",
    "import pandas as pd"
   ]
  },
  {
   "cell_type": "code",
   "execution_count": 12,
   "outputs": [],
   "source": [
    "def del_traj_day(df, col_name):\n",
    "    d = pd.DataFrame(df[col_name].value_counts())\n",
    "    d.columns = ['nums']\n",
    "    # 少于5天的次的全部删除\n",
    "    d = d[d['nums'] < 5]\n",
    "    delindexs = d.index\n",
    "    print(len(delindexs))\n",
    "    return df[~df[col_name].isin(delindexs)]"
   ],
   "metadata": {
    "collapsed": false,
    "pycharm": {
     "name": "#%%\n"
    }
   }
  },
  {
   "cell_type": "code",
   "execution_count": 13,
   "outputs": [],
   "source": [
    "def get_ts_mode_mean(df):\n",
    "    t1 = df.groupby(['lat', 'lon']).size().reset_index()\n",
    "    t1.columns = ['a', 'b', 'count']\n",
    "    t2 = t1.groupby(['a'])['count'].max().reset_index()\n",
    "    t2.columns = ['a', 'max_count']\n",
    "    t1 = t1.merge(t2, on=['a'], how='left')\n",
    "    t1 = t1[t1['count']==t1['max_count']]\n",
    "    t1 = t1.groupby(['a'])['b'].mean().reset_index()\n",
    "    t1"
   ],
   "metadata": {
    "collapsed": false,
    "pycharm": {
     "name": "#%%\n"
    }
   }
  },
  {
   "cell_type": "code",
   "execution_count": 14,
   "outputs": [],
   "source": [
    "# 每個timeslot的軌跡是最後一次出現的軌跡\n",
    "def get_slot_by_unix(ts):\n",
    "    dt = time.localtime(ts)\n",
    "    day, hour, minute = dt.tm_mday, dt.tm_hour, dt.tm_min\n",
    "    slot = hour * 2 + (0 if minute <= 30 else 1)\n",
    "    return slot"
   ],
   "metadata": {
    "collapsed": false,
    "pycharm": {
     "name": "#%%\n"
    }
   }
  },
  {
   "cell_type": "code",
   "execution_count": 15,
   "outputs": [],
   "source": [
    "def ts_to_slot(ts):\n",
    "    ans = [0] * 48\n",
    "    for t in ts:\n",
    "        slot = get_slot_by_unix(t)\n",
    "        ans[slot] = 1\n",
    "    return ans"
   ],
   "metadata": {
    "collapsed": false,
    "pycharm": {
     "name": "#%%\n"
    }
   }
  },
  {
   "cell_type": "code",
   "execution_count": 16,
   "outputs": [],
   "source": [
    "def traj_to_slot(trajectory, ts, pad=0):\n",
    "    ans = [pad] * 48\n",
    "    for i in range(len(ts)):\n",
    "        slot_id = get_slot_by_unix(ts[i])\n",
    "        ans[slot_id] = trajectory[i]\n",
    "    return ans"
   ],
   "metadata": {
    "collapsed": false,
    "pycharm": {
     "name": "#%%\n"
    }
   }
  },
  {
   "cell_type": "code",
   "execution_count": 17,
   "outputs": [],
   "source": [
    "def get_loc_index(lon, lat):\n",
    "    df = pd.read_csv('./loc_index.csv')\n"
   ],
   "metadata": {
    "collapsed": false,
    "pycharm": {
     "name": "#%%\n"
    }
   }
  },
  {
   "cell_type": "code",
   "execution_count": 18,
   "outputs": [
    {
     "name": "stdout",
     "output_type": "stream",
     "text": [
      "[1/182] processing user 169\n",
      "[2/182] processing user 054\n",
      "[3/182] processing user 107\n",
      "[4/182] processing user 171\n"
     ]
    },
    {
     "name": "stderr",
     "output_type": "stream",
     "text": [
      "/home/lizhenyu/Project/E2DTC/preprocess/read__geolife.py:40: SettingWithCopyWarning: \n",
      "A value is trying to be set on a copy of a slice from a DataFrame\n",
      "\n",
      "See the caveats in the documentation: https://pandas.pydata.org/pandas-docs/stable/user_guide/indexing.html#returning-a-view-versus-a-copy\n",
      "  points['label'][no_label] = 0\n",
      "/home/lizhenyu/Project/E2DTC/preprocess/read__geolife.py:40: SettingWithCopyWarning: \n",
      "A value is trying to be set on a copy of a slice from a DataFrame\n",
      "\n",
      "See the caveats in the documentation: https://pandas.pydata.org/pandas-docs/stable/user_guide/indexing.html#returning-a-view-versus-a-copy\n",
      "  points['label'][no_label] = 0\n"
     ]
    },
    {
     "name": "stdout",
     "output_type": "stream",
     "text": [
      "[5/182] processing user 098\n",
      "[6/182] processing user 013\n",
      "[7/182] processing user 007\n",
      "[8/182] processing user 089\n",
      "[9/182] processing user 165\n"
     ]
    },
    {
     "name": "stderr",
     "output_type": "stream",
     "text": [
      "/home/lizhenyu/Project/E2DTC/preprocess/read__geolife.py:40: SettingWithCopyWarning: \n",
      "A value is trying to be set on a copy of a slice from a DataFrame\n",
      "\n",
      "See the caveats in the documentation: https://pandas.pydata.org/pandas-docs/stable/user_guide/indexing.html#returning-a-view-versus-a-copy\n",
      "  points['label'][no_label] = 0\n"
     ]
    },
    {
     "name": "stdout",
     "output_type": "stream",
     "text": [
      "[10/182] processing user 102\n",
      "[11/182] processing user 006\n",
      "[12/182] processing user 126\n"
     ]
    },
    {
     "name": "stderr",
     "output_type": "stream",
     "text": [
      "/home/lizhenyu/Project/E2DTC/preprocess/read__geolife.py:40: SettingWithCopyWarning: \n",
      "A value is trying to be set on a copy of a slice from a DataFrame\n",
      "\n",
      "See the caveats in the documentation: https://pandas.pydata.org/pandas-docs/stable/user_guide/indexing.html#returning-a-view-versus-a-copy\n",
      "  points['label'][no_label] = 0\n",
      "/home/lizhenyu/Project/E2DTC/preprocess/read__geolife.py:40: SettingWithCopyWarning: \n",
      "A value is trying to be set on a copy of a slice from a DataFrame\n",
      "\n",
      "See the caveats in the documentation: https://pandas.pydata.org/pandas-docs/stable/user_guide/indexing.html#returning-a-view-versus-a-copy\n",
      "  points['label'][no_label] = 0\n",
      "/home/lizhenyu/Project/E2DTC/preprocess/read__geolife.py:40: SettingWithCopyWarning: \n",
      "A value is trying to be set on a copy of a slice from a DataFrame\n",
      "\n",
      "See the caveats in the documentation: https://pandas.pydata.org/pandas-docs/stable/user_guide/indexing.html#returning-a-view-versus-a-copy\n",
      "  points['label'][no_label] = 0\n"
     ]
    },
    {
     "name": "stdout",
     "output_type": "stream",
     "text": [
      "[13/182] processing user 045\n",
      "[14/182] processing user 101\n",
      "[15/182] processing user 142\n",
      "[16/182] processing user 023\n",
      "[17/182] processing user 017\n",
      "[18/182] processing user 041\n",
      "[19/182] processing user 108\n",
      "[20/182] processing user 020\n"
     ]
    },
    {
     "name": "stderr",
     "output_type": "stream",
     "text": [
      "/home/lizhenyu/Project/E2DTC/preprocess/read__geolife.py:40: SettingWithCopyWarning: \n",
      "A value is trying to be set on a copy of a slice from a DataFrame\n",
      "\n",
      "See the caveats in the documentation: https://pandas.pydata.org/pandas-docs/stable/user_guide/indexing.html#returning-a-view-versus-a-copy\n",
      "  points['label'][no_label] = 0\n",
      "/home/lizhenyu/Project/E2DTC/preprocess/read__geolife.py:40: SettingWithCopyWarning: \n",
      "A value is trying to be set on a copy of a slice from a DataFrame\n",
      "\n",
      "See the caveats in the documentation: https://pandas.pydata.org/pandas-docs/stable/user_guide/indexing.html#returning-a-view-versus-a-copy\n",
      "  points['label'][no_label] = 0\n"
     ]
    },
    {
     "name": "stdout",
     "output_type": "stream",
     "text": [
      "[21/182] processing user 104\n"
     ]
    },
    {
     "name": "stderr",
     "output_type": "stream",
     "text": [
      "/home/lizhenyu/Project/E2DTC/preprocess/read__geolife.py:40: SettingWithCopyWarning: \n",
      "A value is trying to be set on a copy of a slice from a DataFrame\n",
      "\n",
      "See the caveats in the documentation: https://pandas.pydata.org/pandas-docs/stable/user_guide/indexing.html#returning-a-view-versus-a-copy\n",
      "  points['label'][no_label] = 0\n"
     ]
    },
    {
     "name": "stdout",
     "output_type": "stream",
     "text": [
      "[22/182] processing user 127\n",
      "[23/182] processing user 043\n",
      "[24/182] processing user 128\n"
     ]
    },
    {
     "name": "stderr",
     "output_type": "stream",
     "text": [
      "/home/lizhenyu/Project/E2DTC/preprocess/read__geolife.py:40: SettingWithCopyWarning: \n",
      "A value is trying to be set on a copy of a slice from a DataFrame\n",
      "\n",
      "See the caveats in the documentation: https://pandas.pydata.org/pandas-docs/stable/user_guide/indexing.html#returning-a-view-versus-a-copy\n",
      "  points['label'][no_label] = 0\n"
     ]
    },
    {
     "name": "stdout",
     "output_type": "stream",
     "text": [
      "[25/182] processing user 162\n",
      "[26/182] processing user 002\n",
      "[27/182] processing user 168\n",
      "[28/182] processing user 082\n"
     ]
    },
    {
     "name": "stderr",
     "output_type": "stream",
     "text": [
      "/home/lizhenyu/Project/E2DTC/preprocess/read__geolife.py:40: SettingWithCopyWarning: \n",
      "A value is trying to be set on a copy of a slice from a DataFrame\n",
      "\n",
      "See the caveats in the documentation: https://pandas.pydata.org/pandas-docs/stable/user_guide/indexing.html#returning-a-view-versus-a-copy\n",
      "  points['label'][no_label] = 0\n"
     ]
    },
    {
     "name": "stdout",
     "output_type": "stream",
     "text": [
      "[29/182] processing user 159\n",
      "[30/182] processing user 115\n"
     ]
    },
    {
     "name": "stderr",
     "output_type": "stream",
     "text": [
      "/home/lizhenyu/Project/E2DTC/preprocess/read__geolife.py:40: SettingWithCopyWarning: \n",
      "A value is trying to be set on a copy of a slice from a DataFrame\n",
      "\n",
      "See the caveats in the documentation: https://pandas.pydata.org/pandas-docs/stable/user_guide/indexing.html#returning-a-view-versus-a-copy\n",
      "  points['label'][no_label] = 0\n"
     ]
    },
    {
     "name": "stdout",
     "output_type": "stream",
     "text": [
      "[31/182] processing user 039\n",
      "[32/182] processing user 012\n",
      "[33/182] processing user 026\n",
      "[34/182] processing user 173\n",
      "[35/182] processing user 093\n",
      "[36/182] processing user 072\n",
      "[37/182] processing user 081\n",
      "[38/182] processing user 062\n"
     ]
    },
    {
     "name": "stderr",
     "output_type": "stream",
     "text": [
      "/home/lizhenyu/Project/E2DTC/preprocess/read__geolife.py:40: SettingWithCopyWarning: \n",
      "A value is trying to be set on a copy of a slice from a DataFrame\n",
      "\n",
      "See the caveats in the documentation: https://pandas.pydata.org/pandas-docs/stable/user_guide/indexing.html#returning-a-view-versus-a-copy\n",
      "  points['label'][no_label] = 0\n",
      "/home/lizhenyu/Project/E2DTC/preprocess/read__geolife.py:40: SettingWithCopyWarning: \n",
      "A value is trying to be set on a copy of a slice from a DataFrame\n",
      "\n",
      "See the caveats in the documentation: https://pandas.pydata.org/pandas-docs/stable/user_guide/indexing.html#returning-a-view-versus-a-copy\n",
      "  points['label'][no_label] = 0\n"
     ]
    },
    {
     "name": "stdout",
     "output_type": "stream",
     "text": [
      "[39/182] processing user 146\n",
      "[40/182] processing user 016\n",
      "[41/182] processing user 080\n",
      "[42/182] processing user 029\n",
      "[43/182] processing user 030\n"
     ]
    },
    {
     "name": "stderr",
     "output_type": "stream",
     "text": [
      "/home/lizhenyu/Project/E2DTC/preprocess/read__geolife.py:40: SettingWithCopyWarning: \n",
      "A value is trying to be set on a copy of a slice from a DataFrame\n",
      "\n",
      "See the caveats in the documentation: https://pandas.pydata.org/pandas-docs/stable/user_guide/indexing.html#returning-a-view-versus-a-copy\n",
      "  points['label'][no_label] = 0\n"
     ]
    },
    {
     "name": "stdout",
     "output_type": "stream",
     "text": [
      "[44/182] processing user 018\n",
      "[45/182] processing user 134\n",
      "[46/182] processing user 138\n",
      "[47/182] processing user 077\n",
      "[48/182] processing user 064\n",
      "[49/182] processing user 004\n"
     ]
    },
    {
     "name": "stderr",
     "output_type": "stream",
     "text": [
      "/home/lizhenyu/Project/E2DTC/preprocess/read__geolife.py:40: SettingWithCopyWarning: \n",
      "A value is trying to be set on a copy of a slice from a DataFrame\n",
      "\n",
      "See the caveats in the documentation: https://pandas.pydata.org/pandas-docs/stable/user_guide/indexing.html#returning-a-view-versus-a-copy\n",
      "  points['label'][no_label] = 0\n",
      "/home/lizhenyu/Project/E2DTC/preprocess/read__geolife.py:40: SettingWithCopyWarning: \n",
      "A value is trying to be set on a copy of a slice from a DataFrame\n",
      "\n",
      "See the caveats in the documentation: https://pandas.pydata.org/pandas-docs/stable/user_guide/indexing.html#returning-a-view-versus-a-copy\n",
      "  points['label'][no_label] = 0\n"
     ]
    },
    {
     "name": "stdout",
     "output_type": "stream",
     "text": [
      "[50/182] processing user 158\n",
      "[51/182] processing user 014\n",
      "[52/182] processing user 096\n"
     ]
    },
    {
     "name": "stderr",
     "output_type": "stream",
     "text": [
      "/home/lizhenyu/Project/E2DTC/preprocess/read__geolife.py:40: SettingWithCopyWarning: \n",
      "A value is trying to be set on a copy of a slice from a DataFrame\n",
      "\n",
      "See the caveats in the documentation: https://pandas.pydata.org/pandas-docs/stable/user_guide/indexing.html#returning-a-view-versus-a-copy\n",
      "  points['label'][no_label] = 0\n",
      "/home/lizhenyu/Project/E2DTC/preprocess/read__geolife.py:40: SettingWithCopyWarning: \n",
      "A value is trying to be set on a copy of a slice from a DataFrame\n",
      "\n",
      "See the caveats in the documentation: https://pandas.pydata.org/pandas-docs/stable/user_guide/indexing.html#returning-a-view-versus-a-copy\n",
      "  points['label'][no_label] = 0\n",
      "/home/lizhenyu/Project/E2DTC/preprocess/read__geolife.py:40: SettingWithCopyWarning: \n",
      "A value is trying to be set on a copy of a slice from a DataFrame\n",
      "\n",
      "See the caveats in the documentation: https://pandas.pydata.org/pandas-docs/stable/user_guide/indexing.html#returning-a-view-versus-a-copy\n",
      "  points['label'][no_label] = 0\n",
      "/home/lizhenyu/Project/E2DTC/preprocess/read__geolife.py:40: SettingWithCopyWarning: \n",
      "A value is trying to be set on a copy of a slice from a DataFrame\n",
      "\n",
      "See the caveats in the documentation: https://pandas.pydata.org/pandas-docs/stable/user_guide/indexing.html#returning-a-view-versus-a-copy\n",
      "  points['label'][no_label] = 0\n",
      "/home/lizhenyu/Project/E2DTC/preprocess/read__geolife.py:40: SettingWithCopyWarning: \n",
      "A value is trying to be set on a copy of a slice from a DataFrame\n",
      "\n",
      "See the caveats in the documentation: https://pandas.pydata.org/pandas-docs/stable/user_guide/indexing.html#returning-a-view-versus-a-copy\n",
      "  points['label'][no_label] = 0\n"
     ]
    },
    {
     "name": "stdout",
     "output_type": "stream",
     "text": [
      "[53/182] processing user 076\n",
      "[54/182] processing user 161\n",
      "[55/182] processing user 075\n",
      "[56/182] processing user 086\n",
      "[57/182] processing user 058\n"
     ]
    },
    {
     "name": "stderr",
     "output_type": "stream",
     "text": [
      "/home/lizhenyu/Project/E2DTC/preprocess/read__geolife.py:40: SettingWithCopyWarning: \n",
      "A value is trying to be set on a copy of a slice from a DataFrame\n",
      "\n",
      "See the caveats in the documentation: https://pandas.pydata.org/pandas-docs/stable/user_guide/indexing.html#returning-a-view-versus-a-copy\n",
      "  points['label'][no_label] = 0\n"
     ]
    },
    {
     "name": "stdout",
     "output_type": "stream",
     "text": [
      "[58/182] processing user 068\n"
     ]
    },
    {
     "name": "stderr",
     "output_type": "stream",
     "text": [
      "/home/lizhenyu/Project/E2DTC/preprocess/read__geolife.py:40: SettingWithCopyWarning: \n",
      "A value is trying to be set on a copy of a slice from a DataFrame\n",
      "\n",
      "See the caveats in the documentation: https://pandas.pydata.org/pandas-docs/stable/user_guide/indexing.html#returning-a-view-versus-a-copy\n",
      "  points['label'][no_label] = 0\n"
     ]
    },
    {
     "name": "stdout",
     "output_type": "stream",
     "text": [
      "[59/182] processing user 073\n"
     ]
    },
    {
     "name": "stderr",
     "output_type": "stream",
     "text": [
      "/home/lizhenyu/Project/E2DTC/preprocess/read__geolife.py:40: SettingWithCopyWarning: \n",
      "A value is trying to be set on a copy of a slice from a DataFrame\n",
      "\n",
      "See the caveats in the documentation: https://pandas.pydata.org/pandas-docs/stable/user_guide/indexing.html#returning-a-view-versus-a-copy\n",
      "  points['label'][no_label] = 0\n"
     ]
    },
    {
     "name": "stdout",
     "output_type": "stream",
     "text": [
      "[60/182] processing user 000\n",
      "[61/182] processing user 095\n",
      "[62/182] processing user 011\n",
      "[63/182] processing user 120\n",
      "[64/182] processing user 087\n",
      "[65/182] processing user 150\n",
      "[66/182] processing user 038\n"
     ]
    },
    {
     "name": "stderr",
     "output_type": "stream",
     "text": [
      "/home/lizhenyu/Project/E2DTC/preprocess/read__geolife.py:40: SettingWithCopyWarning: \n",
      "A value is trying to be set on a copy of a slice from a DataFrame\n",
      "\n",
      "See the caveats in the documentation: https://pandas.pydata.org/pandas-docs/stable/user_guide/indexing.html#returning-a-view-versus-a-copy\n",
      "  points['label'][no_label] = 0\n"
     ]
    },
    {
     "name": "stdout",
     "output_type": "stream",
     "text": [
      "[67/182] processing user 152\n",
      "[68/182] processing user 022\n",
      "[69/182] processing user 094\n",
      "[70/182] processing user 176\n",
      "[71/182] processing user 048\n",
      "[72/182] processing user 019\n",
      "[73/182] processing user 135\n",
      "[74/182] processing user 063\n",
      "[75/182] processing user 114\n"
     ]
    },
    {
     "name": "stderr",
     "output_type": "stream",
     "text": [
      "/home/lizhenyu/Project/E2DTC/preprocess/read__geolife.py:40: SettingWithCopyWarning: \n",
      "A value is trying to be set on a copy of a slice from a DataFrame\n",
      "\n",
      "See the caveats in the documentation: https://pandas.pydata.org/pandas-docs/stable/user_guide/indexing.html#returning-a-view-versus-a-copy\n",
      "  points['label'][no_label] = 0\n"
     ]
    },
    {
     "name": "stdout",
     "output_type": "stream",
     "text": [
      "[76/182] processing user 050\n",
      "[77/182] processing user 117\n",
      "[78/182] processing user 010\n"
     ]
    },
    {
     "name": "stderr",
     "output_type": "stream",
     "text": [
      "/home/lizhenyu/Project/E2DTC/preprocess/read__geolife.py:40: SettingWithCopyWarning: \n",
      "A value is trying to be set on a copy of a slice from a DataFrame\n",
      "\n",
      "See the caveats in the documentation: https://pandas.pydata.org/pandas-docs/stable/user_guide/indexing.html#returning-a-view-versus-a-copy\n",
      "  points['label'][no_label] = 0\n",
      "/home/lizhenyu/Project/E2DTC/preprocess/read__geolife.py:40: SettingWithCopyWarning: \n",
      "A value is trying to be set on a copy of a slice from a DataFrame\n",
      "\n",
      "See the caveats in the documentation: https://pandas.pydata.org/pandas-docs/stable/user_guide/indexing.html#returning-a-view-versus-a-copy\n",
      "  points['label'][no_label] = 0\n"
     ]
    },
    {
     "name": "stdout",
     "output_type": "stream",
     "text": [
      "[79/182] processing user 144\n"
     ]
    },
    {
     "name": "stderr",
     "output_type": "stream",
     "text": [
      "/home/lizhenyu/Project/E2DTC/preprocess/read__geolife.py:40: SettingWithCopyWarning: \n",
      "A value is trying to be set on a copy of a slice from a DataFrame\n",
      "\n",
      "See the caveats in the documentation: https://pandas.pydata.org/pandas-docs/stable/user_guide/indexing.html#returning-a-view-versus-a-copy\n",
      "  points['label'][no_label] = 0\n"
     ]
    },
    {
     "name": "stdout",
     "output_type": "stream",
     "text": [
      "[80/182] processing user 179\n"
     ]
    },
    {
     "name": "stderr",
     "output_type": "stream",
     "text": [
      "/home/lizhenyu/Project/E2DTC/preprocess/read__geolife.py:40: SettingWithCopyWarning: \n",
      "A value is trying to be set on a copy of a slice from a DataFrame\n",
      "\n",
      "See the caveats in the documentation: https://pandas.pydata.org/pandas-docs/stable/user_guide/indexing.html#returning-a-view-versus-a-copy\n",
      "  points['label'][no_label] = 0\n"
     ]
    },
    {
     "name": "stdout",
     "output_type": "stream",
     "text": [
      "[81/182] processing user 028\n",
      "[82/182] processing user 148\n",
      "[83/182] processing user 119\n",
      "[84/182] processing user 111\n",
      "[85/182] processing user 069\n",
      "[86/182] processing user 025\n"
     ]
    },
    {
     "name": "stderr",
     "output_type": "stream",
     "text": [
      "/home/lizhenyu/Project/E2DTC/preprocess/read__geolife.py:40: SettingWithCopyWarning: \n",
      "A value is trying to be set on a copy of a slice from a DataFrame\n",
      "\n",
      "See the caveats in the documentation: https://pandas.pydata.org/pandas-docs/stable/user_guide/indexing.html#returning-a-view-versus-a-copy\n",
      "  points['label'][no_label] = 0\n",
      "/home/lizhenyu/Project/E2DTC/preprocess/read__geolife.py:40: SettingWithCopyWarning: \n",
      "A value is trying to be set on a copy of a slice from a DataFrame\n",
      "\n",
      "See the caveats in the documentation: https://pandas.pydata.org/pandas-docs/stable/user_guide/indexing.html#returning-a-view-versus-a-copy\n",
      "  points['label'][no_label] = 0\n"
     ]
    },
    {
     "name": "stdout",
     "output_type": "stream",
     "text": [
      "[87/182] processing user 044\n",
      "[88/182] processing user 052\n"
     ]
    },
    {
     "name": "stderr",
     "output_type": "stream",
     "text": [
      "/home/lizhenyu/Project/E2DTC/preprocess/read__geolife.py:40: SettingWithCopyWarning: \n",
      "A value is trying to be set on a copy of a slice from a DataFrame\n",
      "\n",
      "See the caveats in the documentation: https://pandas.pydata.org/pandas-docs/stable/user_guide/indexing.html#returning-a-view-versus-a-copy\n",
      "  points['label'][no_label] = 0\n",
      "/home/lizhenyu/Project/E2DTC/preprocess/read__geolife.py:40: SettingWithCopyWarning: \n",
      "A value is trying to be set on a copy of a slice from a DataFrame\n",
      "\n",
      "See the caveats in the documentation: https://pandas.pydata.org/pandas-docs/stable/user_guide/indexing.html#returning-a-view-versus-a-copy\n",
      "  points['label'][no_label] = 0\n"
     ]
    },
    {
     "name": "stdout",
     "output_type": "stream",
     "text": [
      "[89/182] processing user 088\n",
      "[90/182] processing user 097\n"
     ]
    },
    {
     "name": "stderr",
     "output_type": "stream",
     "text": [
      "/home/lizhenyu/Project/E2DTC/preprocess/read__geolife.py:40: SettingWithCopyWarning: \n",
      "A value is trying to be set on a copy of a slice from a DataFrame\n",
      "\n",
      "See the caveats in the documentation: https://pandas.pydata.org/pandas-docs/stable/user_guide/indexing.html#returning-a-view-versus-a-copy\n",
      "  points['label'][no_label] = 0\n",
      "/home/lizhenyu/Project/E2DTC/preprocess/read__geolife.py:40: SettingWithCopyWarning: \n",
      "A value is trying to be set on a copy of a slice from a DataFrame\n",
      "\n",
      "See the caveats in the documentation: https://pandas.pydata.org/pandas-docs/stable/user_guide/indexing.html#returning-a-view-versus-a-copy\n",
      "  points['label'][no_label] = 0\n"
     ]
    },
    {
     "name": "stdout",
     "output_type": "stream",
     "text": [
      "[91/182] processing user 118\n",
      "[92/182] processing user 125\n"
     ]
    },
    {
     "name": "stderr",
     "output_type": "stream",
     "text": [
      "/home/lizhenyu/Project/E2DTC/preprocess/read__geolife.py:40: SettingWithCopyWarning: \n",
      "A value is trying to be set on a copy of a slice from a DataFrame\n",
      "\n",
      "See the caveats in the documentation: https://pandas.pydata.org/pandas-docs/stable/user_guide/indexing.html#returning-a-view-versus-a-copy\n",
      "  points['label'][no_label] = 0\n"
     ]
    },
    {
     "name": "stdout",
     "output_type": "stream",
     "text": [
      "[93/182] processing user 090\n",
      "[94/182] processing user 177\n",
      "[95/182] processing user 167\n"
     ]
    },
    {
     "name": "stderr",
     "output_type": "stream",
     "text": [
      "/home/lizhenyu/Project/E2DTC/preprocess/read__geolife.py:40: SettingWithCopyWarning: \n",
      "A value is trying to be set on a copy of a slice from a DataFrame\n",
      "\n",
      "See the caveats in the documentation: https://pandas.pydata.org/pandas-docs/stable/user_guide/indexing.html#returning-a-view-versus-a-copy\n",
      "  points['label'][no_label] = 0\n"
     ]
    },
    {
     "name": "stdout",
     "output_type": "stream",
     "text": [
      "[96/182] processing user 085\n"
     ]
    },
    {
     "name": "stderr",
     "output_type": "stream",
     "text": [
      "/home/lizhenyu/Project/E2DTC/preprocess/read__geolife.py:40: SettingWithCopyWarning: \n",
      "A value is trying to be set on a copy of a slice from a DataFrame\n",
      "\n",
      "See the caveats in the documentation: https://pandas.pydata.org/pandas-docs/stable/user_guide/indexing.html#returning-a-view-versus-a-copy\n",
      "  points['label'][no_label] = 0\n",
      "/home/lizhenyu/Project/E2DTC/preprocess/read__geolife.py:40: SettingWithCopyWarning: \n",
      "A value is trying to be set on a copy of a slice from a DataFrame\n",
      "\n",
      "See the caveats in the documentation: https://pandas.pydata.org/pandas-docs/stable/user_guide/indexing.html#returning-a-view-versus-a-copy\n",
      "  points['label'][no_label] = 0\n"
     ]
    },
    {
     "name": "stdout",
     "output_type": "stream",
     "text": [
      "[97/182] processing user 060\n",
      "[98/182] processing user 033\n",
      "[99/182] processing user 015\n",
      "[100/182] processing user 067\n"
     ]
    },
    {
     "name": "stderr",
     "output_type": "stream",
     "text": [
      "/home/lizhenyu/Project/E2DTC/preprocess/read__geolife.py:40: SettingWithCopyWarning: \n",
      "A value is trying to be set on a copy of a slice from a DataFrame\n",
      "\n",
      "See the caveats in the documentation: https://pandas.pydata.org/pandas-docs/stable/user_guide/indexing.html#returning-a-view-versus-a-copy\n",
      "  points['label'][no_label] = 0\n",
      "/home/lizhenyu/Project/E2DTC/preprocess/read__geolife.py:40: SettingWithCopyWarning: \n",
      "A value is trying to be set on a copy of a slice from a DataFrame\n",
      "\n",
      "See the caveats in the documentation: https://pandas.pydata.org/pandas-docs/stable/user_guide/indexing.html#returning-a-view-versus-a-copy\n",
      "  points['label'][no_label] = 0\n",
      "/home/lizhenyu/Project/E2DTC/preprocess/read__geolife.py:40: SettingWithCopyWarning: \n",
      "A value is trying to be set on a copy of a slice from a DataFrame\n",
      "\n",
      "See the caveats in the documentation: https://pandas.pydata.org/pandas-docs/stable/user_guide/indexing.html#returning-a-view-versus-a-copy\n",
      "  points['label'][no_label] = 0\n",
      "/home/lizhenyu/Project/E2DTC/preprocess/read__geolife.py:40: SettingWithCopyWarning: \n",
      "A value is trying to be set on a copy of a slice from a DataFrame\n",
      "\n",
      "See the caveats in the documentation: https://pandas.pydata.org/pandas-docs/stable/user_guide/indexing.html#returning-a-view-versus-a-copy\n",
      "  points['label'][no_label] = 0\n"
     ]
    },
    {
     "name": "stdout",
     "output_type": "stream",
     "text": [
      "[101/182] processing user 031\n",
      "[102/182] processing user 139\n",
      "[103/182] processing user 059\n",
      "[104/182] processing user 136\n",
      "[105/182] processing user 092\n"
     ]
    },
    {
     "name": "stderr",
     "output_type": "stream",
     "text": [
      "/home/lizhenyu/Project/E2DTC/preprocess/read__geolife.py:40: SettingWithCopyWarning: \n",
      "A value is trying to be set on a copy of a slice from a DataFrame\n",
      "\n",
      "See the caveats in the documentation: https://pandas.pydata.org/pandas-docs/stable/user_guide/indexing.html#returning-a-view-versus-a-copy\n",
      "  points['label'][no_label] = 0\n"
     ]
    },
    {
     "name": "stdout",
     "output_type": "stream",
     "text": [
      "[106/182] processing user 180\n",
      "[107/182] processing user 065\n"
     ]
    },
    {
     "name": "stderr",
     "output_type": "stream",
     "text": [
      "/home/lizhenyu/Project/E2DTC/preprocess/read__geolife.py:40: SettingWithCopyWarning: \n",
      "A value is trying to be set on a copy of a slice from a DataFrame\n",
      "\n",
      "See the caveats in the documentation: https://pandas.pydata.org/pandas-docs/stable/user_guide/indexing.html#returning-a-view-versus-a-copy\n",
      "  points['label'][no_label] = 0\n"
     ]
    },
    {
     "name": "stdout",
     "output_type": "stream",
     "text": [
      "[108/182] processing user 121\n",
      "[109/182] processing user 160\n",
      "[110/182] processing user 047\n",
      "[111/182] processing user 143\n",
      "[112/182] processing user 112\n"
     ]
    },
    {
     "name": "stderr",
     "output_type": "stream",
     "text": [
      "/home/lizhenyu/Project/E2DTC/preprocess/read__geolife.py:40: SettingWithCopyWarning: \n",
      "A value is trying to be set on a copy of a slice from a DataFrame\n",
      "\n",
      "See the caveats in the documentation: https://pandas.pydata.org/pandas-docs/stable/user_guide/indexing.html#returning-a-view-versus-a-copy\n",
      "  points['label'][no_label] = 0\n"
     ]
    },
    {
     "name": "stdout",
     "output_type": "stream",
     "text": [
      "[113/182] processing user 141\n"
     ]
    },
    {
     "name": "stderr",
     "output_type": "stream",
     "text": [
      "/home/lizhenyu/Project/E2DTC/preprocess/read__geolife.py:40: SettingWithCopyWarning: \n",
      "A value is trying to be set on a copy of a slice from a DataFrame\n",
      "\n",
      "See the caveats in the documentation: https://pandas.pydata.org/pandas-docs/stable/user_guide/indexing.html#returning-a-view-versus-a-copy\n",
      "  points['label'][no_label] = 0\n"
     ]
    },
    {
     "name": "stdout",
     "output_type": "stream",
     "text": [
      "[114/182] processing user 147\n"
     ]
    },
    {
     "name": "stderr",
     "output_type": "stream",
     "text": [
      "/home/lizhenyu/Project/E2DTC/preprocess/read__geolife.py:40: SettingWithCopyWarning: \n",
      "A value is trying to be set on a copy of a slice from a DataFrame\n",
      "\n",
      "See the caveats in the documentation: https://pandas.pydata.org/pandas-docs/stable/user_guide/indexing.html#returning-a-view-versus-a-copy\n",
      "  points['label'][no_label] = 0\n"
     ]
    },
    {
     "name": "stdout",
     "output_type": "stream",
     "text": [
      "[115/182] processing user 083\n",
      "[116/182] processing user 131\n",
      "[117/182] processing user 140\n",
      "[118/182] processing user 055\n",
      "[119/182] processing user 163\n"
     ]
    },
    {
     "name": "stderr",
     "output_type": "stream",
     "text": [
      "/home/lizhenyu/Project/E2DTC/preprocess/read__geolife.py:40: SettingWithCopyWarning: \n",
      "A value is trying to be set on a copy of a slice from a DataFrame\n",
      "\n",
      "See the caveats in the documentation: https://pandas.pydata.org/pandas-docs/stable/user_guide/indexing.html#returning-a-view-versus-a-copy\n",
      "  points['label'][no_label] = 0\n"
     ]
    },
    {
     "name": "stdout",
     "output_type": "stream",
     "text": [
      "[120/182] processing user 035\n",
      "[121/182] processing user 009\n",
      "[122/182] processing user 027\n",
      "[123/182] processing user 049\n",
      "[124/182] processing user 155\n",
      "[125/182] processing user 053\n",
      "[126/182] processing user 057\n"
     ]
    },
    {
     "name": "stderr",
     "output_type": "stream",
     "text": [
      "/home/lizhenyu/Project/E2DTC/preprocess/read__geolife.py:40: SettingWithCopyWarning: \n",
      "A value is trying to be set on a copy of a slice from a DataFrame\n",
      "\n",
      "See the caveats in the documentation: https://pandas.pydata.org/pandas-docs/stable/user_guide/indexing.html#returning-a-view-versus-a-copy\n",
      "  points['label'][no_label] = 0\n",
      "/home/lizhenyu/Project/E2DTC/preprocess/read__geolife.py:40: SettingWithCopyWarning: \n",
      "A value is trying to be set on a copy of a slice from a DataFrame\n",
      "\n",
      "See the caveats in the documentation: https://pandas.pydata.org/pandas-docs/stable/user_guide/indexing.html#returning-a-view-versus-a-copy\n",
      "  points['label'][no_label] = 0\n"
     ]
    },
    {
     "name": "stdout",
     "output_type": "stream",
     "text": [
      "[127/182] processing user 123\n",
      "[128/182] processing user 129\n",
      "[129/182] processing user 061\n",
      "[130/182] processing user 149\n",
      "[131/182] processing user 166\n",
      "[132/182] processing user 042\n",
      "[133/182] processing user 040\n",
      "[134/182] processing user 037\n",
      "[135/182] processing user 005\n",
      "[136/182] processing user 003\n",
      "[137/182] processing user 132\n",
      "[138/182] processing user 110\n",
      "[139/182] processing user 079\n",
      "[140/182] processing user 100\n",
      "[141/182] processing user 113\n"
     ]
    },
    {
     "name": "stderr",
     "output_type": "stream",
     "text": [
      "/home/lizhenyu/Project/E2DTC/preprocess/read__geolife.py:40: SettingWithCopyWarning: \n",
      "A value is trying to be set on a copy of a slice from a DataFrame\n",
      "\n",
      "See the caveats in the documentation: https://pandas.pydata.org/pandas-docs/stable/user_guide/indexing.html#returning-a-view-versus-a-copy\n",
      "  points['label'][no_label] = 0\n",
      "/home/lizhenyu/Project/E2DTC/preprocess/read__geolife.py:40: SettingWithCopyWarning: \n",
      "A value is trying to be set on a copy of a slice from a DataFrame\n",
      "\n",
      "See the caveats in the documentation: https://pandas.pydata.org/pandas-docs/stable/user_guide/indexing.html#returning-a-view-versus-a-copy\n",
      "  points['label'][no_label] = 0\n"
     ]
    },
    {
     "name": "stdout",
     "output_type": "stream",
     "text": [
      "[142/182] processing user 001\n",
      "[143/182] processing user 091\n"
     ]
    },
    {
     "name": "stderr",
     "output_type": "stream",
     "text": [
      "/home/lizhenyu/Project/E2DTC/preprocess/read__geolife.py:40: SettingWithCopyWarning: \n",
      "A value is trying to be set on a copy of a slice from a DataFrame\n",
      "\n",
      "See the caveats in the documentation: https://pandas.pydata.org/pandas-docs/stable/user_guide/indexing.html#returning-a-view-versus-a-copy\n",
      "  points['label'][no_label] = 0\n"
     ]
    },
    {
     "name": "stdout",
     "output_type": "stream",
     "text": [
      "[144/182] processing user 151\n",
      "[145/182] processing user 070\n",
      "[146/182] processing user 051\n",
      "[147/182] processing user 084\n"
     ]
    },
    {
     "name": "stderr",
     "output_type": "stream",
     "text": [
      "/home/lizhenyu/Project/E2DTC/preprocess/read__geolife.py:40: SettingWithCopyWarning: \n",
      "A value is trying to be set on a copy of a slice from a DataFrame\n",
      "\n",
      "See the caveats in the documentation: https://pandas.pydata.org/pandas-docs/stable/user_guide/indexing.html#returning-a-view-versus-a-copy\n",
      "  points['label'][no_label] = 0\n",
      "/home/lizhenyu/Project/E2DTC/preprocess/read__geolife.py:40: SettingWithCopyWarning: \n",
      "A value is trying to be set on a copy of a slice from a DataFrame\n",
      "\n",
      "See the caveats in the documentation: https://pandas.pydata.org/pandas-docs/stable/user_guide/indexing.html#returning-a-view-versus-a-copy\n",
      "  points['label'][no_label] = 0\n",
      "/home/lizhenyu/Project/E2DTC/preprocess/read__geolife.py:40: SettingWithCopyWarning: \n",
      "A value is trying to be set on a copy of a slice from a DataFrame\n",
      "\n",
      "See the caveats in the documentation: https://pandas.pydata.org/pandas-docs/stable/user_guide/indexing.html#returning-a-view-versus-a-copy\n",
      "  points['label'][no_label] = 0\n"
     ]
    },
    {
     "name": "stdout",
     "output_type": "stream",
     "text": [
      "[148/182] processing user 106\n",
      "[149/182] processing user 172\n",
      "[150/182] processing user 170\n",
      "[151/182] processing user 099\n",
      "[152/182] processing user 178\n",
      "[153/182] processing user 145\n",
      "[154/182] processing user 124\n"
     ]
    },
    {
     "name": "stderr",
     "output_type": "stream",
     "text": [
      "/home/lizhenyu/Project/E2DTC/preprocess/read__geolife.py:40: SettingWithCopyWarning: \n",
      "A value is trying to be set on a copy of a slice from a DataFrame\n",
      "\n",
      "See the caveats in the documentation: https://pandas.pydata.org/pandas-docs/stable/user_guide/indexing.html#returning-a-view-versus-a-copy\n",
      "  points['label'][no_label] = 0\n"
     ]
    },
    {
     "name": "stdout",
     "output_type": "stream",
     "text": [
      "[155/182] processing user 109\n",
      "[156/182] processing user 036\n",
      "[157/182] processing user 175\n",
      "[158/182] processing user 174\n",
      "[159/182] processing user 103\n"
     ]
    },
    {
     "name": "stderr",
     "output_type": "stream",
     "text": [
      "/home/lizhenyu/Project/E2DTC/preprocess/read__geolife.py:40: SettingWithCopyWarning: \n",
      "A value is trying to be set on a copy of a slice from a DataFrame\n",
      "\n",
      "See the caveats in the documentation: https://pandas.pydata.org/pandas-docs/stable/user_guide/indexing.html#returning-a-view-versus-a-copy\n",
      "  points['label'][no_label] = 0\n",
      "/home/lizhenyu/Project/E2DTC/preprocess/read__geolife.py:40: SettingWithCopyWarning: \n",
      "A value is trying to be set on a copy of a slice from a DataFrame\n",
      "\n",
      "See the caveats in the documentation: https://pandas.pydata.org/pandas-docs/stable/user_guide/indexing.html#returning-a-view-versus-a-copy\n",
      "  points['label'][no_label] = 0\n"
     ]
    },
    {
     "name": "stdout",
     "output_type": "stream",
     "text": [
      "[160/182] processing user 133\n",
      "[161/182] processing user 154\n",
      "[162/182] processing user 122\n",
      "[163/182] processing user 078\n"
     ]
    },
    {
     "name": "stderr",
     "output_type": "stream",
     "text": [
      "/home/lizhenyu/Project/E2DTC/preprocess/read__geolife.py:40: SettingWithCopyWarning: \n",
      "A value is trying to be set on a copy of a slice from a DataFrame\n",
      "\n",
      "See the caveats in the documentation: https://pandas.pydata.org/pandas-docs/stable/user_guide/indexing.html#returning-a-view-versus-a-copy\n",
      "  points['label'][no_label] = 0\n",
      "/home/lizhenyu/Project/E2DTC/preprocess/read__geolife.py:40: SettingWithCopyWarning: \n",
      "A value is trying to be set on a copy of a slice from a DataFrame\n",
      "\n",
      "See the caveats in the documentation: https://pandas.pydata.org/pandas-docs/stable/user_guide/indexing.html#returning-a-view-versus-a-copy\n",
      "  points['label'][no_label] = 0\n"
     ]
    },
    {
     "name": "stdout",
     "output_type": "stream",
     "text": [
      "[164/182] processing user 032\n",
      "[165/182] processing user 074\n",
      "[166/182] processing user 034\n",
      "[167/182] processing user 116\n",
      "[168/182] processing user 137\n",
      "[169/182] processing user 105\n",
      "[170/182] processing user 046\n",
      "[171/182] processing user 071\n"
     ]
    },
    {
     "name": "stderr",
     "output_type": "stream",
     "text": [
      "/home/lizhenyu/Project/E2DTC/preprocess/read__geolife.py:40: SettingWithCopyWarning: \n",
      "A value is trying to be set on a copy of a slice from a DataFrame\n",
      "\n",
      "See the caveats in the documentation: https://pandas.pydata.org/pandas-docs/stable/user_guide/indexing.html#returning-a-view-versus-a-copy\n",
      "  points['label'][no_label] = 0\n",
      "/home/lizhenyu/Project/E2DTC/preprocess/read__geolife.py:40: SettingWithCopyWarning: \n",
      "A value is trying to be set on a copy of a slice from a DataFrame\n",
      "\n",
      "See the caveats in the documentation: https://pandas.pydata.org/pandas-docs/stable/user_guide/indexing.html#returning-a-view-versus-a-copy\n",
      "  points['label'][no_label] = 0\n"
     ]
    },
    {
     "name": "stdout",
     "output_type": "stream",
     "text": [
      "[172/182] processing user 153\n"
     ]
    },
    {
     "name": "stderr",
     "output_type": "stream",
     "text": [
      "/home/lizhenyu/Project/E2DTC/preprocess/read__geolife.py:40: SettingWithCopyWarning: \n",
      "A value is trying to be set on a copy of a slice from a DataFrame\n",
      "\n",
      "See the caveats in the documentation: https://pandas.pydata.org/pandas-docs/stable/user_guide/indexing.html#returning-a-view-versus-a-copy\n",
      "  points['label'][no_label] = 0\n",
      "/home/lizhenyu/Project/E2DTC/preprocess/read__geolife.py:40: SettingWithCopyWarning: \n",
      "A value is trying to be set on a copy of a slice from a DataFrame\n",
      "\n",
      "See the caveats in the documentation: https://pandas.pydata.org/pandas-docs/stable/user_guide/indexing.html#returning-a-view-versus-a-copy\n",
      "  points['label'][no_label] = 0\n",
      "/home/lizhenyu/Project/E2DTC/preprocess/read__geolife.py:40: SettingWithCopyWarning: \n",
      "A value is trying to be set on a copy of a slice from a DataFrame\n",
      "\n",
      "See the caveats in the documentation: https://pandas.pydata.org/pandas-docs/stable/user_guide/indexing.html#returning-a-view-versus-a-copy\n",
      "  points['label'][no_label] = 0\n"
     ]
    },
    {
     "name": "stdout",
     "output_type": "stream",
     "text": [
      "[173/182] processing user 156\n",
      "[174/182] processing user 056\n",
      "[175/182] processing user 021\n",
      "[176/182] processing user 157\n",
      "[177/182] processing user 024\n",
      "[178/182] processing user 008\n",
      "[179/182] processing user 130\n",
      "[180/182] processing user 181\n",
      "[181/182] processing user 164\n",
      "[182/182] processing user 066\n"
     ]
    }
   ],
   "source": [
    "# all users\n",
    "df_all = rg.read_all_users('../data/geolife/Data')\n",
    "df_all.sort_values(by=['time'],inplace=True)"
   ],
   "metadata": {
    "collapsed": false,
    "pycharm": {
     "name": "#%%\n"
    }
   }
  },
  {
   "cell_type": "code",
   "execution_count": 21,
   "outputs": [],
   "source": [
    "df_all\n",
    "df_all.to_hdf('./Geolife_all_user.h5',key='data')"
   ],
   "metadata": {
    "collapsed": false,
    "pycharm": {
     "name": "#%%\n"
    }
   }
  },
  {
   "cell_type": "code",
   "execution_count": 92,
   "outputs": [
    {
     "data": {
      "text/plain": "                   time        lat         lon         alt  label  user\n0   2000-01-01 23:12:19  39.988992  116.327023  128.937005      0   163\n1   2000-01-01 23:13:21  39.990964  116.327041  221.128615      0   163\n2   2000-01-01 23:15:23  39.993207  116.326827  217.191591      0   163\n0   2007-04-12 09:31:32  39.974233  116.330383  823.490814      0   142\n1   2007-04-12 09:39:37  39.974317  116.330450  823.490814      0   142\n..                  ...        ...         ...         ...    ...   ...\n291 2012-07-27 08:31:03  39.979481  116.303499  131.760207      0   163\n292 2012-07-27 08:31:05  39.979475  116.303497  131.097241      0   163\n293 2012-07-27 08:31:10  39.979374  116.303522  126.235679      0   163\n294 2012-07-27 08:31:15  39.979190  116.303587  119.301427      0   163\n295 2012-07-27 08:31:20  39.979081  116.303572  112.078146      0   163\n\n[20163391 rows x 6 columns]",
      "text/html": "<div>\n<style scoped>\n    .dataframe tbody tr th:only-of-type {\n        vertical-align: middle;\n    }\n\n    .dataframe tbody tr th {\n        vertical-align: top;\n    }\n\n    .dataframe thead th {\n        text-align: right;\n    }\n</style>\n<table border=\"1\" class=\"dataframe\">\n  <thead>\n    <tr style=\"text-align: right;\">\n      <th></th>\n      <th>time</th>\n      <th>lat</th>\n      <th>lon</th>\n      <th>alt</th>\n      <th>label</th>\n      <th>user</th>\n    </tr>\n  </thead>\n  <tbody>\n    <tr>\n      <th>0</th>\n      <td>2000-01-01 23:12:19</td>\n      <td>39.988992</td>\n      <td>116.327023</td>\n      <td>128.937005</td>\n      <td>0</td>\n      <td>163</td>\n    </tr>\n    <tr>\n      <th>1</th>\n      <td>2000-01-01 23:13:21</td>\n      <td>39.990964</td>\n      <td>116.327041</td>\n      <td>221.128615</td>\n      <td>0</td>\n      <td>163</td>\n    </tr>\n    <tr>\n      <th>2</th>\n      <td>2000-01-01 23:15:23</td>\n      <td>39.993207</td>\n      <td>116.326827</td>\n      <td>217.191591</td>\n      <td>0</td>\n      <td>163</td>\n    </tr>\n    <tr>\n      <th>0</th>\n      <td>2007-04-12 09:31:32</td>\n      <td>39.974233</td>\n      <td>116.330383</td>\n      <td>823.490814</td>\n      <td>0</td>\n      <td>142</td>\n    </tr>\n    <tr>\n      <th>1</th>\n      <td>2007-04-12 09:39:37</td>\n      <td>39.974317</td>\n      <td>116.330450</td>\n      <td>823.490814</td>\n      <td>0</td>\n      <td>142</td>\n    </tr>\n    <tr>\n      <th>...</th>\n      <td>...</td>\n      <td>...</td>\n      <td>...</td>\n      <td>...</td>\n      <td>...</td>\n      <td>...</td>\n    </tr>\n    <tr>\n      <th>291</th>\n      <td>2012-07-27 08:31:03</td>\n      <td>39.979481</td>\n      <td>116.303499</td>\n      <td>131.760207</td>\n      <td>0</td>\n      <td>163</td>\n    </tr>\n    <tr>\n      <th>292</th>\n      <td>2012-07-27 08:31:05</td>\n      <td>39.979475</td>\n      <td>116.303497</td>\n      <td>131.097241</td>\n      <td>0</td>\n      <td>163</td>\n    </tr>\n    <tr>\n      <th>293</th>\n      <td>2012-07-27 08:31:10</td>\n      <td>39.979374</td>\n      <td>116.303522</td>\n      <td>126.235679</td>\n      <td>0</td>\n      <td>163</td>\n    </tr>\n    <tr>\n      <th>294</th>\n      <td>2012-07-27 08:31:15</td>\n      <td>39.979190</td>\n      <td>116.303587</td>\n      <td>119.301427</td>\n      <td>0</td>\n      <td>163</td>\n    </tr>\n    <tr>\n      <th>295</th>\n      <td>2012-07-27 08:31:20</td>\n      <td>39.979081</td>\n      <td>116.303572</td>\n      <td>112.078146</td>\n      <td>0</td>\n      <td>163</td>\n    </tr>\n  </tbody>\n</table>\n<p>20163391 rows × 6 columns</p>\n</div>"
     },
     "execution_count": 92,
     "metadata": {},
     "output_type": "execute_result"
    }
   ],
   "source": [
    "# 删除非北京的采样点\n",
    "lon = [115.416827, 117.508251]\n",
    "lat = [39.442078, 41.058964]\n",
    "df = df_all[(df_all.lat>lat[0])&(df_all.lat<lat[1])&(df_all.lon>lon[0]) & (df_all.lon<lon[1])]\n",
    "df"
   ],
   "metadata": {
    "collapsed": false,
    "pycharm": {
     "name": "#%%\n"
    }
   }
  },
  {
   "cell_type": "code",
   "execution_count": null,
   "outputs": [
    {
     "name": "stderr",
     "output_type": "stream",
     "text": [
      "/tmp/ipykernel_2214526/3021142272.py:1: SettingWithCopyWarning: \n",
      "A value is trying to be set on a copy of a slice from a DataFrame.\n",
      "Try using .loc[row_indexer,col_indexer] = value instead\n",
      "\n",
      "See the caveats in the documentation: https://pandas.pydata.org/pandas-docs/stable/user_guide/indexing.html#returning-a-view-versus-a-copy\n",
      "  df['timestamp'] = df['time'].apply(lambda x: int(x.timestamp()))\n"
     ]
    }
   ],
   "source": [
    "df['timestamp'] = df['time'].apply(lambda x: int(x.timestamp()))\n",
    "df['year'] = df['timestamp'].apply(lambda x: time.localtime(x).tm_year)\n",
    "df['month'] = df['timestamp'].apply(lambda x: time.localtime(x).tm_mon)\n",
    "df['day'] = df['timestamp'].apply(lambda x: time.localtime(x).tm_mday)\n",
    "df['slot_id'] = df['timestamp'].apply(lambda x: get_slot_by_unix(x))\n",
    "df = df.drop_duplicates(subset=['user', 'year', 'month', 'day', 'slot_id'])\n",
    "df.sort_values(by='user',inplace=True)\n",
    "df.reset_index(drop=True, inplace=True)\n",
    "df"
   ],
   "metadata": {
    "collapsed": false,
    "pycharm": {
     "name": "#%%\n",
     "is_executing": true
    }
   }
  },
  {
   "cell_type": "code",
   "execution_count": null,
   "outputs": [],
   "source": [
    "lon_list = (df['lon'].value_counts().index.tolist())\n",
    "lon_list.sort(reverse=True)\n",
    "lon_list"
   ],
   "metadata": {
    "collapsed": false,
    "pycharm": {
     "name": "#%%\n",
     "is_executing": true
    }
   }
  },
  {
   "cell_type": "markdown",
   "source": [
    "df['timestamp'] = df['time'].apply(lambda x: int(x.timestamp()))\n",
    "df['year'] = df['timestamp'].apply(lambda x: time.localtime(x).tm_year)\n",
    "df['month'] = df['timestamp'].apply(lambda x: time.localtime(x).tm_mon)\n",
    "df['day'] = df['timestamp'].apply(lambda x: time.localtime(x).tm_mday)\n",
    "df['slot_id'] = df['timestamp'].apply(lambda x: get_slot_by_unix(x))\n",
    "df = df.drop_duplicates(subset=['user', 'year', 'month', 'day', 'slot_id'])\n",
    "df.sort_values(by='user',inplace=True)\n",
    "df.reset_index(drop=True, inplace=True)\n",
    "df"
   ],
   "metadata": {
    "collapsed": false,
    "pycharm": {
     "name": "#%% md\n"
    }
   }
  },
  {
   "cell_type": "code",
   "execution_count": null,
   "outputs": [],
   "source": [
    "loc_index = df[['lat','lon']]\n",
    "loc_index = loc_index.sort_values(by='lat').drop_duplicates().reset_index(drop=True)\n",
    "loc_index.to_csv('loc_index.csv')"
   ],
   "metadata": {
    "collapsed": false,
    "pycharm": {
     "name": "#%%\n",
     "is_executing": true
    }
   }
  },
  {
   "cell_type": "code",
   "execution_count": null,
   "outputs": [],
   "source": [
    "loc_index"
   ],
   "metadata": {
    "collapsed": false,
    "pycharm": {
     "name": "#%%\n",
     "is_executing": true
    }
   }
  },
  {
   "cell_type": "code",
   "execution_count": 62,
   "outputs": [
    {
     "name": "stderr",
     "output_type": "stream",
     "text": [
      "/tmp/ipykernel_2214526/4152561819.py:10: SettingWithCopyWarning: \n",
      "A value is trying to be set on a copy of a slice from a DataFrame.\n",
      "Try using .loc[row_indexer,col_indexer] = value instead\n",
      "\n",
      "See the caveats in the documentation: https://pandas.pydata.org/pandas-docs/stable/user_guide/indexing.html#returning-a-view-versus-a-copy\n",
      "  df['loc_index'] = index\n"
     ]
    },
    {
     "data": {
      "text/plain": "                   time        lat         lon         alt  label  user  \\\n0   2000-01-01 23:12:19  39.988992  116.327023  128.937005      0   163   \n0   2007-04-12 09:31:32  39.974233  116.330383  823.490814      0   142   \n9   2007-04-12 10:05:00  39.974517  116.330067  406.824147      0   142   \n0   2007-04-12 10:18:53  39.975517  116.330283  351.049869      0   161   \n0   2007-04-12 10:21:16  39.976467  116.330067  173.884514      2   163   \n..                  ...        ...         ...         ...    ...   ...   \n0   2012-07-25 19:03:00  39.984960  116.310739  489.429065      0   163   \n316 2012-07-25 19:31:04  39.994674  116.445402  150.249462      0   163   \n0   2012-07-26 08:01:06  39.991750  116.440100  489.500253      0   163   \n0   2012-07-27 08:07:00  39.990677  116.444623  487.477461      0   163   \n290 2012-07-27 08:31:00  39.979481  116.303499  131.760207      0   163   \n\n      timestamp  year  month  day  slot_id  loc_index  \n0     946768339  2000      1    2       14      44847  \n0    1176370292  2007      4   12       35      26376  \n9    1176372300  2007      4   12       36      26741  \n0    1176373133  2007      4   12       36      29837  \n0    1176373276  2007      4   12       36      31392  \n..          ...   ...    ...  ...      ...        ...  \n0    1343242980  2012      7   26        6      40194  \n316  1343244664  2012      7   26        7      48392  \n0    1343289666  2012      7   26       32      46901  \n0    1343376420  2012      7   27       32      45819  \n290  1343377860  2012      7   27       33      34183  \n\n[73384 rows x 12 columns]",
      "text/html": "<div>\n<style scoped>\n    .dataframe tbody tr th:only-of-type {\n        vertical-align: middle;\n    }\n\n    .dataframe tbody tr th {\n        vertical-align: top;\n    }\n\n    .dataframe thead th {\n        text-align: right;\n    }\n</style>\n<table border=\"1\" class=\"dataframe\">\n  <thead>\n    <tr style=\"text-align: right;\">\n      <th></th>\n      <th>time</th>\n      <th>lat</th>\n      <th>lon</th>\n      <th>alt</th>\n      <th>label</th>\n      <th>user</th>\n      <th>timestamp</th>\n      <th>year</th>\n      <th>month</th>\n      <th>day</th>\n      <th>slot_id</th>\n      <th>loc_index</th>\n    </tr>\n  </thead>\n  <tbody>\n    <tr>\n      <th>0</th>\n      <td>2000-01-01 23:12:19</td>\n      <td>39.988992</td>\n      <td>116.327023</td>\n      <td>128.937005</td>\n      <td>0</td>\n      <td>163</td>\n      <td>946768339</td>\n      <td>2000</td>\n      <td>1</td>\n      <td>2</td>\n      <td>14</td>\n      <td>44847</td>\n    </tr>\n    <tr>\n      <th>0</th>\n      <td>2007-04-12 09:31:32</td>\n      <td>39.974233</td>\n      <td>116.330383</td>\n      <td>823.490814</td>\n      <td>0</td>\n      <td>142</td>\n      <td>1176370292</td>\n      <td>2007</td>\n      <td>4</td>\n      <td>12</td>\n      <td>35</td>\n      <td>26376</td>\n    </tr>\n    <tr>\n      <th>9</th>\n      <td>2007-04-12 10:05:00</td>\n      <td>39.974517</td>\n      <td>116.330067</td>\n      <td>406.824147</td>\n      <td>0</td>\n      <td>142</td>\n      <td>1176372300</td>\n      <td>2007</td>\n      <td>4</td>\n      <td>12</td>\n      <td>36</td>\n      <td>26741</td>\n    </tr>\n    <tr>\n      <th>0</th>\n      <td>2007-04-12 10:18:53</td>\n      <td>39.975517</td>\n      <td>116.330283</td>\n      <td>351.049869</td>\n      <td>0</td>\n      <td>161</td>\n      <td>1176373133</td>\n      <td>2007</td>\n      <td>4</td>\n      <td>12</td>\n      <td>36</td>\n      <td>29837</td>\n    </tr>\n    <tr>\n      <th>0</th>\n      <td>2007-04-12 10:21:16</td>\n      <td>39.976467</td>\n      <td>116.330067</td>\n      <td>173.884514</td>\n      <td>2</td>\n      <td>163</td>\n      <td>1176373276</td>\n      <td>2007</td>\n      <td>4</td>\n      <td>12</td>\n      <td>36</td>\n      <td>31392</td>\n    </tr>\n    <tr>\n      <th>...</th>\n      <td>...</td>\n      <td>...</td>\n      <td>...</td>\n      <td>...</td>\n      <td>...</td>\n      <td>...</td>\n      <td>...</td>\n      <td>...</td>\n      <td>...</td>\n      <td>...</td>\n      <td>...</td>\n      <td>...</td>\n    </tr>\n    <tr>\n      <th>0</th>\n      <td>2012-07-25 19:03:00</td>\n      <td>39.984960</td>\n      <td>116.310739</td>\n      <td>489.429065</td>\n      <td>0</td>\n      <td>163</td>\n      <td>1343242980</td>\n      <td>2012</td>\n      <td>7</td>\n      <td>26</td>\n      <td>6</td>\n      <td>40194</td>\n    </tr>\n    <tr>\n      <th>316</th>\n      <td>2012-07-25 19:31:04</td>\n      <td>39.994674</td>\n      <td>116.445402</td>\n      <td>150.249462</td>\n      <td>0</td>\n      <td>163</td>\n      <td>1343244664</td>\n      <td>2012</td>\n      <td>7</td>\n      <td>26</td>\n      <td>7</td>\n      <td>48392</td>\n    </tr>\n    <tr>\n      <th>0</th>\n      <td>2012-07-26 08:01:06</td>\n      <td>39.991750</td>\n      <td>116.440100</td>\n      <td>489.500253</td>\n      <td>0</td>\n      <td>163</td>\n      <td>1343289666</td>\n      <td>2012</td>\n      <td>7</td>\n      <td>26</td>\n      <td>32</td>\n      <td>46901</td>\n    </tr>\n    <tr>\n      <th>0</th>\n      <td>2012-07-27 08:07:00</td>\n      <td>39.990677</td>\n      <td>116.444623</td>\n      <td>487.477461</td>\n      <td>0</td>\n      <td>163</td>\n      <td>1343376420</td>\n      <td>2012</td>\n      <td>7</td>\n      <td>27</td>\n      <td>32</td>\n      <td>45819</td>\n    </tr>\n    <tr>\n      <th>290</th>\n      <td>2012-07-27 08:31:00</td>\n      <td>39.979481</td>\n      <td>116.303499</td>\n      <td>131.760207</td>\n      <td>0</td>\n      <td>163</td>\n      <td>1343377860</td>\n      <td>2012</td>\n      <td>7</td>\n      <td>27</td>\n      <td>33</td>\n      <td>34183</td>\n    </tr>\n  </tbody>\n</table>\n<p>73384 rows × 12 columns</p>\n</div>"
     },
     "execution_count": 62,
     "metadata": {},
     "output_type": "execute_result"
    }
   ],
   "source": [
    "# dict:(lat,lon)--->index\n",
    "loc = [tuple(x) for x in loc_index.values.tolist()]\n",
    "index = loc_index.index.tolist()\n",
    "loc_index_dict = dict(zip(loc, index))\n",
    "\n",
    "tmp = df[['lat', 'lon']]\n",
    "index = []\n",
    "for i in range(len(tmp)):\n",
    "    index.append(loc_index_dict[(tmp.iloc[i][0], tmp.iloc[i][1])])\n",
    "df['loc_index'] = index\n",
    "df"
   ],
   "metadata": {
    "collapsed": false,
    "pycharm": {
     "name": "#%%\n"
    }
   }
  },
  {
   "cell_type": "code",
   "execution_count": 63,
   "outputs": [
    {
     "data": {
      "text/plain": "69422"
     },
     "execution_count": 63,
     "metadata": {},
     "output_type": "execute_result"
    }
   ],
   "source": [
    "df['loc_index'].max()"
   ],
   "metadata": {
    "collapsed": false,
    "pycharm": {
     "name": "#%%\n"
    }
   }
  },
  {
   "cell_type": "code",
   "execution_count": 64,
   "outputs": [],
   "source": [
    "seqs = []\n",
    "for (user_index, year, month, day), group in df.groupby(['user', 'year', 'month', 'day']):\n",
    "    group.reset_index(inplace=True)\n",
    "    if group.shape[0] < 12:\n",
    "        continue\n",
    "    ts = group['timestamp']\n",
    "    seq = group['loc_index'].tolist()\n",
    "    seq = traj_to_slot(seq, ts, pad='[PAD]')\n",
    "\n",
    "    if seq.count('[PAD]') > 36:\n",
    "        continue\n",
    "    seq = [str(x) for x in seq]\n",
    "    seqs.append([\" \".join(seq), user_index, year, month, day])\n",
    "\n",
    "    # print('uid:', user_index,'date:', month, '-', day)\n",
    "    # print(\"group shape:\", group.shape, '[PAD] count:', seq.count('[PAD]'))\n",
    "    # print(group.head())\n",
    "\n",
    "    # print(group)\n",
    "    # print(ts)\n",
    "    # print(seq)\n",
    "    # print(seqs)"
   ],
   "metadata": {
    "collapsed": false,
    "pycharm": {
     "name": "#%%\n"
    }
   }
  },
  {
   "cell_type": "code",
   "execution_count": 65,
   "outputs": [
    {
     "name": "stdout",
     "output_type": "stream",
     "text": [
      "60\n"
     ]
    },
    {
     "data": {
      "text/plain": "                                             trajectory  user_index  year  \\\n0     54062 [PAD] [PAD] [PAD] [PAD] [PAD] [PAD] [PAD...           0  2009   \n1     [PAD] [PAD] [PAD] [PAD] [PAD] [PAD] [PAD] [PAD...           0  2009   \n2     56423 56409 56278 56398 56243 56209 56436 5626...           0  2009   \n3     [PAD] [PAD] [PAD] [PAD] [PAD] [PAD] [PAD] [PAD...           0  2009   \n4     [PAD] [PAD] [PAD] [PAD] [PAD] [PAD] [PAD] [PAD...           0  2009   \n...                                                 ...         ...   ...   \n1890  [PAD] [PAD] [PAD] [PAD] [PAD] [PAD] [PAD] [PAD...         179  2008   \n1891  [PAD] [PAD] [PAD] [PAD] [PAD] [PAD] [PAD] [PAD...         179  2008   \n1892  [PAD] [PAD] [PAD] [PAD] [PAD] [PAD] [PAD] [PAD...         179  2008   \n1893  [PAD] [PAD] [PAD] [PAD] [PAD] [PAD] [PAD] [PAD...         179  2008   \n1894  [PAD] [PAD] [PAD] [PAD] [PAD] [PAD] [PAD] [PAD...         179  2008   \n\n      month  day  \n0         3   31  \n1         4    3  \n2         4    4  \n3         4    5  \n4         4    6  \n...     ...  ...  \n1890      9   13  \n1891      9   15  \n1892     10    2  \n1893     10   12  \n1894     11    1  \n\n[1780 rows x 5 columns]",
      "text/html": "<div>\n<style scoped>\n    .dataframe tbody tr th:only-of-type {\n        vertical-align: middle;\n    }\n\n    .dataframe tbody tr th {\n        vertical-align: top;\n    }\n\n    .dataframe thead th {\n        text-align: right;\n    }\n</style>\n<table border=\"1\" class=\"dataframe\">\n  <thead>\n    <tr style=\"text-align: right;\">\n      <th></th>\n      <th>trajectory</th>\n      <th>user_index</th>\n      <th>year</th>\n      <th>month</th>\n      <th>day</th>\n    </tr>\n  </thead>\n  <tbody>\n    <tr>\n      <th>0</th>\n      <td>54062 [PAD] [PAD] [PAD] [PAD] [PAD] [PAD] [PAD...</td>\n      <td>0</td>\n      <td>2009</td>\n      <td>3</td>\n      <td>31</td>\n    </tr>\n    <tr>\n      <th>1</th>\n      <td>[PAD] [PAD] [PAD] [PAD] [PAD] [PAD] [PAD] [PAD...</td>\n      <td>0</td>\n      <td>2009</td>\n      <td>4</td>\n      <td>3</td>\n    </tr>\n    <tr>\n      <th>2</th>\n      <td>56423 56409 56278 56398 56243 56209 56436 5626...</td>\n      <td>0</td>\n      <td>2009</td>\n      <td>4</td>\n      <td>4</td>\n    </tr>\n    <tr>\n      <th>3</th>\n      <td>[PAD] [PAD] [PAD] [PAD] [PAD] [PAD] [PAD] [PAD...</td>\n      <td>0</td>\n      <td>2009</td>\n      <td>4</td>\n      <td>5</td>\n    </tr>\n    <tr>\n      <th>4</th>\n      <td>[PAD] [PAD] [PAD] [PAD] [PAD] [PAD] [PAD] [PAD...</td>\n      <td>0</td>\n      <td>2009</td>\n      <td>4</td>\n      <td>6</td>\n    </tr>\n    <tr>\n      <th>...</th>\n      <td>...</td>\n      <td>...</td>\n      <td>...</td>\n      <td>...</td>\n      <td>...</td>\n    </tr>\n    <tr>\n      <th>1890</th>\n      <td>[PAD] [PAD] [PAD] [PAD] [PAD] [PAD] [PAD] [PAD...</td>\n      <td>179</td>\n      <td>2008</td>\n      <td>9</td>\n      <td>13</td>\n    </tr>\n    <tr>\n      <th>1891</th>\n      <td>[PAD] [PAD] [PAD] [PAD] [PAD] [PAD] [PAD] [PAD...</td>\n      <td>179</td>\n      <td>2008</td>\n      <td>9</td>\n      <td>15</td>\n    </tr>\n    <tr>\n      <th>1892</th>\n      <td>[PAD] [PAD] [PAD] [PAD] [PAD] [PAD] [PAD] [PAD...</td>\n      <td>179</td>\n      <td>2008</td>\n      <td>10</td>\n      <td>2</td>\n    </tr>\n    <tr>\n      <th>1893</th>\n      <td>[PAD] [PAD] [PAD] [PAD] [PAD] [PAD] [PAD] [PAD...</td>\n      <td>179</td>\n      <td>2008</td>\n      <td>10</td>\n      <td>12</td>\n    </tr>\n    <tr>\n      <th>1894</th>\n      <td>[PAD] [PAD] [PAD] [PAD] [PAD] [PAD] [PAD] [PAD...</td>\n      <td>179</td>\n      <td>2008</td>\n      <td>11</td>\n      <td>1</td>\n    </tr>\n  </tbody>\n</table>\n<p>1780 rows × 5 columns</p>\n</div>"
     },
     "execution_count": 65,
     "metadata": {},
     "output_type": "execute_result"
    }
   ],
   "source": [
    "all_traj = pd.DataFrame(seqs, columns=['trajectory', 'user_index', 'year', 'month', 'day'])\n",
    "all_traj = del_traj_day(all_traj,'user_index')\n",
    "all_traj"
   ],
   "metadata": {
    "collapsed": false,
    "pycharm": {
     "name": "#%%\n"
    }
   }
  },
  {
   "cell_type": "code",
   "execution_count": 66,
   "outputs": [
    {
     "data": {
      "text/plain": "                                             trajectory  user_index  year  \\\n0     54062 [PAD] [PAD] [PAD] [PAD] [PAD] [PAD] [PAD...           0  2009   \n1     [PAD] [PAD] [PAD] [PAD] [PAD] [PAD] [PAD] [PAD...           0  2009   \n2     56423 56409 56278 56398 56243 56209 56436 5626...           0  2009   \n3     [PAD] [PAD] [PAD] [PAD] [PAD] [PAD] [PAD] [PAD...           0  2009   \n4     [PAD] [PAD] [PAD] [PAD] [PAD] [PAD] [PAD] [PAD...           0  2009   \n...                                                 ...         ...   ...   \n1775  [PAD] [PAD] [PAD] [PAD] [PAD] [PAD] [PAD] [PAD...         179  2008   \n1776  [PAD] [PAD] [PAD] [PAD] [PAD] [PAD] [PAD] [PAD...         179  2008   \n1777  [PAD] [PAD] [PAD] [PAD] [PAD] [PAD] [PAD] [PAD...         179  2008   \n1778  [PAD] [PAD] [PAD] [PAD] [PAD] [PAD] [PAD] [PAD...         179  2008   \n1779  [PAD] [PAD] [PAD] [PAD] [PAD] [PAD] [PAD] [PAD...         179  2008   \n\n      month  day  \n0         3   31  \n1         4    3  \n2         4    4  \n3         4    5  \n4         4    6  \n...     ...  ...  \n1775      9   13  \n1776      9   15  \n1777     10    2  \n1778     10   12  \n1779     11    1  \n\n[1780 rows x 5 columns]",
      "text/html": "<div>\n<style scoped>\n    .dataframe tbody tr th:only-of-type {\n        vertical-align: middle;\n    }\n\n    .dataframe tbody tr th {\n        vertical-align: top;\n    }\n\n    .dataframe thead th {\n        text-align: right;\n    }\n</style>\n<table border=\"1\" class=\"dataframe\">\n  <thead>\n    <tr style=\"text-align: right;\">\n      <th></th>\n      <th>trajectory</th>\n      <th>user_index</th>\n      <th>year</th>\n      <th>month</th>\n      <th>day</th>\n    </tr>\n  </thead>\n  <tbody>\n    <tr>\n      <th>0</th>\n      <td>54062 [PAD] [PAD] [PAD] [PAD] [PAD] [PAD] [PAD...</td>\n      <td>0</td>\n      <td>2009</td>\n      <td>3</td>\n      <td>31</td>\n    </tr>\n    <tr>\n      <th>1</th>\n      <td>[PAD] [PAD] [PAD] [PAD] [PAD] [PAD] [PAD] [PAD...</td>\n      <td>0</td>\n      <td>2009</td>\n      <td>4</td>\n      <td>3</td>\n    </tr>\n    <tr>\n      <th>2</th>\n      <td>56423 56409 56278 56398 56243 56209 56436 5626...</td>\n      <td>0</td>\n      <td>2009</td>\n      <td>4</td>\n      <td>4</td>\n    </tr>\n    <tr>\n      <th>3</th>\n      <td>[PAD] [PAD] [PAD] [PAD] [PAD] [PAD] [PAD] [PAD...</td>\n      <td>0</td>\n      <td>2009</td>\n      <td>4</td>\n      <td>5</td>\n    </tr>\n    <tr>\n      <th>4</th>\n      <td>[PAD] [PAD] [PAD] [PAD] [PAD] [PAD] [PAD] [PAD...</td>\n      <td>0</td>\n      <td>2009</td>\n      <td>4</td>\n      <td>6</td>\n    </tr>\n    <tr>\n      <th>...</th>\n      <td>...</td>\n      <td>...</td>\n      <td>...</td>\n      <td>...</td>\n      <td>...</td>\n    </tr>\n    <tr>\n      <th>1775</th>\n      <td>[PAD] [PAD] [PAD] [PAD] [PAD] [PAD] [PAD] [PAD...</td>\n      <td>179</td>\n      <td>2008</td>\n      <td>9</td>\n      <td>13</td>\n    </tr>\n    <tr>\n      <th>1776</th>\n      <td>[PAD] [PAD] [PAD] [PAD] [PAD] [PAD] [PAD] [PAD...</td>\n      <td>179</td>\n      <td>2008</td>\n      <td>9</td>\n      <td>15</td>\n    </tr>\n    <tr>\n      <th>1777</th>\n      <td>[PAD] [PAD] [PAD] [PAD] [PAD] [PAD] [PAD] [PAD...</td>\n      <td>179</td>\n      <td>2008</td>\n      <td>10</td>\n      <td>2</td>\n    </tr>\n    <tr>\n      <th>1778</th>\n      <td>[PAD] [PAD] [PAD] [PAD] [PAD] [PAD] [PAD] [PAD...</td>\n      <td>179</td>\n      <td>2008</td>\n      <td>10</td>\n      <td>12</td>\n    </tr>\n    <tr>\n      <th>1779</th>\n      <td>[PAD] [PAD] [PAD] [PAD] [PAD] [PAD] [PAD] [PAD...</td>\n      <td>179</td>\n      <td>2008</td>\n      <td>11</td>\n      <td>1</td>\n    </tr>\n  </tbody>\n</table>\n<p>1780 rows × 5 columns</p>\n</div>"
     },
     "execution_count": 66,
     "metadata": {},
     "output_type": "execute_result"
    }
   ],
   "source": [
    "all_traj.reset_index(drop= True)"
   ],
   "metadata": {
    "collapsed": false,
    "pycharm": {
     "name": "#%%\n"
    }
   }
  },
  {
   "cell_type": "code",
   "execution_count": 67,
   "outputs": [],
   "source": [
    "all_traj.to_hdf('all_traj.h5', key='data')"
   ],
   "metadata": {
    "collapsed": false,
    "pycharm": {
     "name": "#%%\n"
    }
   }
  },
  {
   "cell_type": "code",
   "execution_count": 327,
   "outputs": [
    {
     "data": {
      "text/plain": "67"
     },
     "execution_count": 327,
     "metadata": {},
     "output_type": "execute_result"
    }
   ],
   "source": [
    "# num users\n",
    "len(dict(all_traj['user_index'].value_counts()))"
   ],
   "metadata": {
    "collapsed": false,
    "pycharm": {
     "name": "#%%\n"
    }
   }
  },
  {
   "cell_type": "code",
   "execution_count": 320,
   "outputs": [
    {
     "name": "stdout",
     "output_type": "stream",
     "text": [
      "2012 2007\n"
     ]
    }
   ],
   "source": [
    "# duration\n",
    "print(all_traj['year'].max(), all_traj['year'].min())"
   ],
   "metadata": {
    "collapsed": false,
    "pycharm": {
     "name": "#%%\n"
    }
   }
  },
  {
   "cell_type": "code",
   "execution_count": null,
   "outputs": [],
   "source": [],
   "metadata": {
    "collapsed": false,
    "pycharm": {
     "name": "#%%\n"
    }
   }
  }
 ],
 "metadata": {
  "kernelspec": {
   "display_name": "Python 3",
   "language": "python",
   "name": "python3"
  },
  "language_info": {
   "codemirror_mode": {
    "name": "ipython",
    "version": 2
   },
   "file_extension": ".py",
   "mimetype": "text/x-python",
   "name": "python",
   "nbconvert_exporter": "python",
   "pygments_lexer": "ipython2",
   "version": "2.7.6"
  }
 },
 "nbformat": 4,
 "nbformat_minor": 0
}